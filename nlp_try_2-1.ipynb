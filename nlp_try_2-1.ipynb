{
  "nbformat": 4,
  "nbformat_minor": 0,
  "metadata": {
    "colab": {
      "provenance": [],
      "authorship_tag": "ABX9TyNldS53whtmU78fZcnvrbqI",
      "include_colab_link": true
    },
    "kernelspec": {
      "name": "python3",
      "display_name": "Python 3"
    },
    "language_info": {
      "name": "python"
    }
  },
  "cells": [
    {
      "cell_type": "markdown",
      "metadata": {
        "id": "view-in-github",
        "colab_type": "text"
      },
      "source": [
        "<a href=\"https://colab.research.google.com/github/pawaniu/AdvancedNodeComplete/blob/master/nlp_try_2-1.ipynb\" target=\"_parent\"><img src=\"https://colab.research.google.com/assets/colab-badge.svg\" alt=\"Open In Colab\"/></a>"
      ]
    },
    {
      "cell_type": "markdown",
      "source": [
        "# <p style=\"text-align: center;\"><b><font  style=\"text-align:center\" color= Purple size=6>NLP Assignment 2 <br> Set E <b><br>Group Number: 154<br><br>Group Members:</font></p>\n",
        "<table style=\"border:1px solid black\">\n",
        "  <tr>\n",
        "    <th>Name </th>\n",
        "   <th>Bits Roll Number</th>\n",
        "    <th>Contribution</th>\n",
        "  </tr>\n",
        "  <tr>\n",
        "    <td><b>PAWAN KUMAR GUPTA<b></td>\n",
        "    <td><b>2021sc04394<b></td>\n",
        "    <td><b>100%<b></td>\n",
        "  </tr>\n",
        "  <tr>\n",
        "    <td><b>GIRIJA MANASH GOUDA <b></td>\n",
        "    <td><b>2021sc04393<b></td>\n",
        "    <td><b>100%<b></td>\n",
        "  </tr>\n",
        "  <tr>\n",
        "    <td><b>ASHISH RANJANA<b></td>\n",
        "    <td><b>2021sc04505<b></td>\n",
        "    <td><b>100%<b></td>\n",
        "  </tr>\n",
        "  <tr>\n",
        "    <td><b>G HEMAVATHI<b></td>\n",
        "    <td><b>2021sc04711<b></td>\n",
        "    <td><b>100%<b></td>\n",
        "  </tr>\n",
        "</table><br>::"
      ],
      "metadata": {
        "id": "9PzAgjzoYfIN"
      }
    },
    {
      "cell_type": "code",
      "source": [
        "# execute one time - if run time get reset\n",
        "!pip install pyLDAvis"
      ],
      "metadata": {
        "id": "sSlWnB6AG4fi",
        "colab": {
          "base_uri": "https://localhost:8080/"
        },
        "outputId": "1cd41caa-c48d-4be7-d786-ba35b210b07e"
      },
      "execution_count": null,
      "outputs": [
        {
          "output_type": "stream",
          "name": "stdout",
          "text": [
            "Collecting pyLDAvis\n",
            "  Downloading pyLDAvis-3.4.1-py3-none-any.whl (2.6 MB)\n",
            "\u001b[2K     \u001b[90m━━━━━━━━━━━━━━━━━━━━━━━━━━━━━━━━━━━━━━━━\u001b[0m \u001b[32m2.6/2.6 MB\u001b[0m \u001b[31m12.4 MB/s\u001b[0m eta \u001b[36m0:00:00\u001b[0m\n",
            "\u001b[?25hCollecting numpy>=1.24.2 (from pyLDAvis)\n",
            "  Downloading numpy-1.26.0-cp310-cp310-manylinux_2_17_x86_64.manylinux2014_x86_64.whl (18.2 MB)\n",
            "\u001b[2K     \u001b[90m━━━━━━━━━━━━━━━━━━━━━━━━━━━━━━━━━━━━━━━━\u001b[0m \u001b[32m18.2/18.2 MB\u001b[0m \u001b[31m61.9 MB/s\u001b[0m eta \u001b[36m0:00:00\u001b[0m\n",
            "\u001b[?25hRequirement already satisfied: scipy in /usr/local/lib/python3.10/dist-packages (from pyLDAvis) (1.11.2)\n",
            "Collecting pandas>=2.0.0 (from pyLDAvis)\n",
            "  Downloading pandas-2.1.1-cp310-cp310-manylinux_2_17_x86_64.manylinux2014_x86_64.whl (12.3 MB)\n",
            "\u001b[2K     \u001b[90m━━━━━━━━━━━━━━━━━━━━━━━━━━━━━━━━━━━━━━━\u001b[0m \u001b[32m12.3/12.3 MB\u001b[0m \u001b[31m103.8 MB/s\u001b[0m eta \u001b[36m0:00:00\u001b[0m\n",
            "\u001b[?25hRequirement already satisfied: joblib>=1.2.0 in /usr/local/lib/python3.10/dist-packages (from pyLDAvis) (1.3.2)\n",
            "Requirement already satisfied: jinja2 in /usr/local/lib/python3.10/dist-packages (from pyLDAvis) (3.1.2)\n",
            "Requirement already satisfied: numexpr in /usr/local/lib/python3.10/dist-packages (from pyLDAvis) (2.8.5)\n",
            "Collecting funcy (from pyLDAvis)\n",
            "  Downloading funcy-2.0-py2.py3-none-any.whl (30 kB)\n",
            "Requirement already satisfied: scikit-learn>=1.0.0 in /usr/local/lib/python3.10/dist-packages (from pyLDAvis) (1.2.2)\n",
            "Requirement already satisfied: gensim in /usr/local/lib/python3.10/dist-packages (from pyLDAvis) (4.3.2)\n",
            "Requirement already satisfied: setuptools in /usr/local/lib/python3.10/dist-packages (from pyLDAvis) (67.7.2)\n",
            "Requirement already satisfied: python-dateutil>=2.8.2 in /usr/local/lib/python3.10/dist-packages (from pandas>=2.0.0->pyLDAvis) (2.8.2)\n",
            "Requirement already satisfied: pytz>=2020.1 in /usr/local/lib/python3.10/dist-packages (from pandas>=2.0.0->pyLDAvis) (2023.3.post1)\n",
            "Collecting tzdata>=2022.1 (from pandas>=2.0.0->pyLDAvis)\n",
            "  Downloading tzdata-2023.3-py2.py3-none-any.whl (341 kB)\n",
            "\u001b[2K     \u001b[90m━━━━━━━━━━━━━━━━━━━━━━━━━━━━━━━━━━━━━━\u001b[0m \u001b[32m341.8/341.8 kB\u001b[0m \u001b[31m39.0 MB/s\u001b[0m eta \u001b[36m0:00:00\u001b[0m\n",
            "\u001b[?25hRequirement already satisfied: threadpoolctl>=2.0.0 in /usr/local/lib/python3.10/dist-packages (from scikit-learn>=1.0.0->pyLDAvis) (3.2.0)\n",
            "Requirement already satisfied: smart-open>=1.8.1 in /usr/local/lib/python3.10/dist-packages (from gensim->pyLDAvis) (6.4.0)\n",
            "Requirement already satisfied: MarkupSafe>=2.0 in /usr/local/lib/python3.10/dist-packages (from jinja2->pyLDAvis) (2.1.3)\n",
            "Requirement already satisfied: six>=1.5 in /usr/local/lib/python3.10/dist-packages (from python-dateutil>=2.8.2->pandas>=2.0.0->pyLDAvis) (1.16.0)\n",
            "Installing collected packages: funcy, tzdata, numpy, pandas, pyLDAvis\n",
            "  Attempting uninstall: numpy\n",
            "    Found existing installation: numpy 1.23.5\n",
            "    Uninstalling numpy-1.23.5:\n",
            "      Successfully uninstalled numpy-1.23.5\n",
            "  Attempting uninstall: pandas\n",
            "    Found existing installation: pandas 1.5.3\n",
            "    Uninstalling pandas-1.5.3:\n",
            "      Successfully uninstalled pandas-1.5.3\n",
            "\u001b[31mERROR: pip's dependency resolver does not currently take into account all the packages that are installed. This behaviour is the source of the following dependency conflicts.\n",
            "google-colab 1.0.0 requires pandas==1.5.3, but you have pandas 2.1.1 which is incompatible.\n",
            "numba 0.56.4 requires numpy<1.24,>=1.18, but you have numpy 1.26.0 which is incompatible.\n",
            "tensorflow 2.13.0 requires numpy<=1.24.3,>=1.22, but you have numpy 1.26.0 which is incompatible.\u001b[0m\u001b[31m\n",
            "\u001b[0mSuccessfully installed funcy-2.0 numpy-1.26.0 pandas-2.1.1 pyLDAvis-3.4.1 tzdata-2023.3\n"
          ]
        }
      ]
    },
    {
      "cell_type": "code",
      "source": [
        "# installing compatible version of panda v1.5.3 to pyLDAvis\n",
        "!pip install pandas==1.5.3"
      ],
      "metadata": {
        "colab": {
          "base_uri": "https://localhost:8080/"
        },
        "id": "RKj-nuAkHA3B",
        "outputId": "7decab88-b422-4bc8-a9a1-a3b5a650ab56"
      },
      "execution_count": null,
      "outputs": [
        {
          "output_type": "stream",
          "name": "stdout",
          "text": [
            "Requirement already satisfied: pandas==1.5.3 in /usr/local/lib/python3.10/dist-packages (1.5.3)\n",
            "Requirement already satisfied: python-dateutil>=2.8.1 in /usr/local/lib/python3.10/dist-packages (from pandas==1.5.3) (2.8.2)\n",
            "Requirement already satisfied: pytz>=2020.1 in /usr/local/lib/python3.10/dist-packages (from pandas==1.5.3) (2023.3.post1)\n",
            "Requirement already satisfied: numpy>=1.21.0 in /usr/local/lib/python3.10/dist-packages (from pandas==1.5.3) (1.26.0)\n",
            "Requirement already satisfied: six>=1.5 in /usr/local/lib/python3.10/dist-packages (from python-dateutil>=2.8.1->pandas==1.5.3) (1.16.0)\n"
          ]
        }
      ]
    },
    {
      "cell_type": "code",
      "source": [
        "import warnings\n",
        "warnings.filterwarnings(\"ignore\", category=DeprecationWarning)"
      ],
      "metadata": {
        "id": "LvPXMMt_7w4g"
      },
      "execution_count": null,
      "outputs": []
    },
    {
      "cell_type": "code",
      "source": [
        "# import libs\n",
        "import random\n",
        "import pandas as pd\n",
        "import numpy as np\n",
        "import re\n",
        "import string\n",
        "import spacy\n",
        "import gensim\n",
        "from gensim import corpora\n",
        "\n",
        "from gensim.utils import simple_preprocess\n",
        "from spacy import displacy\n",
        "\n",
        "import pyLDAvis\n",
        "import pyLDAvis.gensim\n",
        "import matplotlib.pyplot as plt\n",
        "\n",
        "\n",
        "%matplotlib inline\n"
      ],
      "metadata": {
        "id": "1mYXw7jUzVO1"
      },
      "execution_count": null,
      "outputs": []
    },
    {
      "cell_type": "code",
      "source": [
        "from gensim.models import CoherenceModel, HdpModel, LdaModel\n"
      ],
      "metadata": {
        "id": "LxmyNpyfJMny"
      },
      "execution_count": null,
      "outputs": []
    },
    {
      "cell_type": "markdown",
      "source": [
        "<b>Question 1 - Perform EDA and necessary pre-processing steps in dataset</b>"
      ],
      "metadata": {
        "id": "iUBJ03cfVIqU"
      }
    },
    {
      "cell_type": "markdown",
      "source": [
        "Read the data from the csv file. And fetch first 5000 records in dataframe"
      ],
      "metadata": {
        "id": "n13rSdgLVT0T"
      }
    },
    {
      "cell_type": "code",
      "execution_count": null,
      "metadata": {
        "id": "JY3h324byzkO"
      },
      "outputs": [],
      "source": [
        "data_df = pd.read_csv(\"uci-news-aggregator.csv\",encoding='unicode_escape')\n",
        "data_df = data_df.head(5000)"
      ]
    },
    {
      "cell_type": "code",
      "source": [
        "# EDA\n",
        "data_df.head()"
      ],
      "metadata": {
        "colab": {
          "base_uri": "https://localhost:8080/",
          "height": 206
        },
        "id": "nUBGPuN1FAZ8",
        "outputId": "56787acc-1c46-4d37-acb8-7c7300138ae3"
      },
      "execution_count": null,
      "outputs": [
        {
          "output_type": "execute_result",
          "data": {
            "text/plain": [
              "   ID                                              TITLE  \\\n",
              "0   1  Fed official says weak data caused by weather,...   \n",
              "1   2  Fed's Charles Plosser sees high bar for change...   \n",
              "2   3  US open: Stocks fall after Fed official hints ...   \n",
              "3   4  Fed risks falling 'behind the curve', Charles ...   \n",
              "4   5  Fed's Plosser: Nasty Weather Has Curbed Job Gr...   \n",
              "\n",
              "                                                 URL          PUBLISHER  \\\n",
              "0  http://www.latimes.com/business/money/la-fi-mo...  Los Angeles Times   \n",
              "1  http://www.livemint.com/Politics/H2EvwJSK2VE6O...           Livemint   \n",
              "2  http://www.ifamagazine.com/news/us-open-stocks...       IFA Magazine   \n",
              "3  http://www.ifamagazine.com/news/fed-risks-fall...       IFA Magazine   \n",
              "4  http://www.moneynews.com/Economy/federal-reser...          Moneynews   \n",
              "\n",
              "  CATEGORY                          STORY             HOSTNAME     TIMESTAMP  \n",
              "0        b  ddUyU0VZz0BRneMioxUPQVP6sIxvM      www.latimes.com  1.394470e+12  \n",
              "1        b  ddUyU0VZz0BRneMioxUPQVP6sIxvM     www.livemint.com  1.394470e+12  \n",
              "2        b  ddUyU0VZz0BRneMioxUPQVP6sIxvM  www.ifamagazine.com  1.394470e+12  \n",
              "3        b  ddUyU0VZz0BRneMioxUPQVP6sIxvM  www.ifamagazine.com  1.394470e+12  \n",
              "4        b  ddUyU0VZz0BRneMioxUPQVP6sIxvM    www.moneynews.com  1.394470e+12  "
            ],
            "text/html": [
              "\n",
              "  <div id=\"df-069d3d5f-4ba8-4ca0-b6f3-a06f996534b6\" class=\"colab-df-container\">\n",
              "    <div>\n",
              "<style scoped>\n",
              "    .dataframe tbody tr th:only-of-type {\n",
              "        vertical-align: middle;\n",
              "    }\n",
              "\n",
              "    .dataframe tbody tr th {\n",
              "        vertical-align: top;\n",
              "    }\n",
              "\n",
              "    .dataframe thead th {\n",
              "        text-align: right;\n",
              "    }\n",
              "</style>\n",
              "<table border=\"1\" class=\"dataframe\">\n",
              "  <thead>\n",
              "    <tr style=\"text-align: right;\">\n",
              "      <th></th>\n",
              "      <th>ID</th>\n",
              "      <th>TITLE</th>\n",
              "      <th>URL</th>\n",
              "      <th>PUBLISHER</th>\n",
              "      <th>CATEGORY</th>\n",
              "      <th>STORY</th>\n",
              "      <th>HOSTNAME</th>\n",
              "      <th>TIMESTAMP</th>\n",
              "    </tr>\n",
              "  </thead>\n",
              "  <tbody>\n",
              "    <tr>\n",
              "      <th>0</th>\n",
              "      <td>1</td>\n",
              "      <td>Fed official says weak data caused by weather,...</td>\n",
              "      <td>http://www.latimes.com/business/money/la-fi-mo...</td>\n",
              "      <td>Los Angeles Times</td>\n",
              "      <td>b</td>\n",
              "      <td>ddUyU0VZz0BRneMioxUPQVP6sIxvM</td>\n",
              "      <td>www.latimes.com</td>\n",
              "      <td>1.394470e+12</td>\n",
              "    </tr>\n",
              "    <tr>\n",
              "      <th>1</th>\n",
              "      <td>2</td>\n",
              "      <td>Fed's Charles Plosser sees high bar for change...</td>\n",
              "      <td>http://www.livemint.com/Politics/H2EvwJSK2VE6O...</td>\n",
              "      <td>Livemint</td>\n",
              "      <td>b</td>\n",
              "      <td>ddUyU0VZz0BRneMioxUPQVP6sIxvM</td>\n",
              "      <td>www.livemint.com</td>\n",
              "      <td>1.394470e+12</td>\n",
              "    </tr>\n",
              "    <tr>\n",
              "      <th>2</th>\n",
              "      <td>3</td>\n",
              "      <td>US open: Stocks fall after Fed official hints ...</td>\n",
              "      <td>http://www.ifamagazine.com/news/us-open-stocks...</td>\n",
              "      <td>IFA Magazine</td>\n",
              "      <td>b</td>\n",
              "      <td>ddUyU0VZz0BRneMioxUPQVP6sIxvM</td>\n",
              "      <td>www.ifamagazine.com</td>\n",
              "      <td>1.394470e+12</td>\n",
              "    </tr>\n",
              "    <tr>\n",
              "      <th>3</th>\n",
              "      <td>4</td>\n",
              "      <td>Fed risks falling 'behind the curve', Charles ...</td>\n",
              "      <td>http://www.ifamagazine.com/news/fed-risks-fall...</td>\n",
              "      <td>IFA Magazine</td>\n",
              "      <td>b</td>\n",
              "      <td>ddUyU0VZz0BRneMioxUPQVP6sIxvM</td>\n",
              "      <td>www.ifamagazine.com</td>\n",
              "      <td>1.394470e+12</td>\n",
              "    </tr>\n",
              "    <tr>\n",
              "      <th>4</th>\n",
              "      <td>5</td>\n",
              "      <td>Fed's Plosser: Nasty Weather Has Curbed Job Gr...</td>\n",
              "      <td>http://www.moneynews.com/Economy/federal-reser...</td>\n",
              "      <td>Moneynews</td>\n",
              "      <td>b</td>\n",
              "      <td>ddUyU0VZz0BRneMioxUPQVP6sIxvM</td>\n",
              "      <td>www.moneynews.com</td>\n",
              "      <td>1.394470e+12</td>\n",
              "    </tr>\n",
              "  </tbody>\n",
              "</table>\n",
              "</div>\n",
              "    <div class=\"colab-df-buttons\">\n",
              "\n",
              "  <div class=\"colab-df-container\">\n",
              "    <button class=\"colab-df-convert\" onclick=\"convertToInteractive('df-069d3d5f-4ba8-4ca0-b6f3-a06f996534b6')\"\n",
              "            title=\"Convert this dataframe to an interactive table.\"\n",
              "            style=\"display:none;\">\n",
              "\n",
              "  <svg xmlns=\"http://www.w3.org/2000/svg\" height=\"24px\" viewBox=\"0 -960 960 960\">\n",
              "    <path d=\"M120-120v-720h720v720H120Zm60-500h600v-160H180v160Zm220 220h160v-160H400v160Zm0 220h160v-160H400v160ZM180-400h160v-160H180v160Zm440 0h160v-160H620v160ZM180-180h160v-160H180v160Zm440 0h160v-160H620v160Z\"/>\n",
              "  </svg>\n",
              "    </button>\n",
              "\n",
              "  <style>\n",
              "    .colab-df-container {\n",
              "      display:flex;\n",
              "      gap: 12px;\n",
              "    }\n",
              "\n",
              "    .colab-df-convert {\n",
              "      background-color: #E8F0FE;\n",
              "      border: none;\n",
              "      border-radius: 50%;\n",
              "      cursor: pointer;\n",
              "      display: none;\n",
              "      fill: #1967D2;\n",
              "      height: 32px;\n",
              "      padding: 0 0 0 0;\n",
              "      width: 32px;\n",
              "    }\n",
              "\n",
              "    .colab-df-convert:hover {\n",
              "      background-color: #E2EBFA;\n",
              "      box-shadow: 0px 1px 2px rgba(60, 64, 67, 0.3), 0px 1px 3px 1px rgba(60, 64, 67, 0.15);\n",
              "      fill: #174EA6;\n",
              "    }\n",
              "\n",
              "    .colab-df-buttons div {\n",
              "      margin-bottom: 4px;\n",
              "    }\n",
              "\n",
              "    [theme=dark] .colab-df-convert {\n",
              "      background-color: #3B4455;\n",
              "      fill: #D2E3FC;\n",
              "    }\n",
              "\n",
              "    [theme=dark] .colab-df-convert:hover {\n",
              "      background-color: #434B5C;\n",
              "      box-shadow: 0px 1px 3px 1px rgba(0, 0, 0, 0.15);\n",
              "      filter: drop-shadow(0px 1px 2px rgba(0, 0, 0, 0.3));\n",
              "      fill: #FFFFFF;\n",
              "    }\n",
              "  </style>\n",
              "\n",
              "    <script>\n",
              "      const buttonEl =\n",
              "        document.querySelector('#df-069d3d5f-4ba8-4ca0-b6f3-a06f996534b6 button.colab-df-convert');\n",
              "      buttonEl.style.display =\n",
              "        google.colab.kernel.accessAllowed ? 'block' : 'none';\n",
              "\n",
              "      async function convertToInteractive(key) {\n",
              "        const element = document.querySelector('#df-069d3d5f-4ba8-4ca0-b6f3-a06f996534b6');\n",
              "        const dataTable =\n",
              "          await google.colab.kernel.invokeFunction('convertToInteractive',\n",
              "                                                    [key], {});\n",
              "        if (!dataTable) return;\n",
              "\n",
              "        const docLinkHtml = 'Like what you see? Visit the ' +\n",
              "          '<a target=\"_blank\" href=https://colab.research.google.com/notebooks/data_table.ipynb>data table notebook</a>'\n",
              "          + ' to learn more about interactive tables.';\n",
              "        element.innerHTML = '';\n",
              "        dataTable['output_type'] = 'display_data';\n",
              "        await google.colab.output.renderOutput(dataTable, element);\n",
              "        const docLink = document.createElement('div');\n",
              "        docLink.innerHTML = docLinkHtml;\n",
              "        element.appendChild(docLink);\n",
              "      }\n",
              "    </script>\n",
              "  </div>\n",
              "\n",
              "\n",
              "<div id=\"df-aa629967-1b6a-4515-a730-1c7f3983ea95\">\n",
              "  <button class=\"colab-df-quickchart\" onclick=\"quickchart('df-aa629967-1b6a-4515-a730-1c7f3983ea95')\"\n",
              "            title=\"Suggest charts.\"\n",
              "            style=\"display:none;\">\n",
              "\n",
              "<svg xmlns=\"http://www.w3.org/2000/svg\" height=\"24px\"viewBox=\"0 0 24 24\"\n",
              "     width=\"24px\">\n",
              "    <g>\n",
              "        <path d=\"M19 3H5c-1.1 0-2 .9-2 2v14c0 1.1.9 2 2 2h14c1.1 0 2-.9 2-2V5c0-1.1-.9-2-2-2zM9 17H7v-7h2v7zm4 0h-2V7h2v10zm4 0h-2v-4h2v4z\"/>\n",
              "    </g>\n",
              "</svg>\n",
              "  </button>\n",
              "\n",
              "<style>\n",
              "  .colab-df-quickchart {\n",
              "      --bg-color: #E8F0FE;\n",
              "      --fill-color: #1967D2;\n",
              "      --hover-bg-color: #E2EBFA;\n",
              "      --hover-fill-color: #174EA6;\n",
              "      --disabled-fill-color: #AAA;\n",
              "      --disabled-bg-color: #DDD;\n",
              "  }\n",
              "\n",
              "  [theme=dark] .colab-df-quickchart {\n",
              "      --bg-color: #3B4455;\n",
              "      --fill-color: #D2E3FC;\n",
              "      --hover-bg-color: #434B5C;\n",
              "      --hover-fill-color: #FFFFFF;\n",
              "      --disabled-bg-color: #3B4455;\n",
              "      --disabled-fill-color: #666;\n",
              "  }\n",
              "\n",
              "  .colab-df-quickchart {\n",
              "    background-color: var(--bg-color);\n",
              "    border: none;\n",
              "    border-radius: 50%;\n",
              "    cursor: pointer;\n",
              "    display: none;\n",
              "    fill: var(--fill-color);\n",
              "    height: 32px;\n",
              "    padding: 0;\n",
              "    width: 32px;\n",
              "  }\n",
              "\n",
              "  .colab-df-quickchart:hover {\n",
              "    background-color: var(--hover-bg-color);\n",
              "    box-shadow: 0 1px 2px rgba(60, 64, 67, 0.3), 0 1px 3px 1px rgba(60, 64, 67, 0.15);\n",
              "    fill: var(--button-hover-fill-color);\n",
              "  }\n",
              "\n",
              "  .colab-df-quickchart-complete:disabled,\n",
              "  .colab-df-quickchart-complete:disabled:hover {\n",
              "    background-color: var(--disabled-bg-color);\n",
              "    fill: var(--disabled-fill-color);\n",
              "    box-shadow: none;\n",
              "  }\n",
              "\n",
              "  .colab-df-spinner {\n",
              "    border: 2px solid var(--fill-color);\n",
              "    border-color: transparent;\n",
              "    border-bottom-color: var(--fill-color);\n",
              "    animation:\n",
              "      spin 1s steps(1) infinite;\n",
              "  }\n",
              "\n",
              "  @keyframes spin {\n",
              "    0% {\n",
              "      border-color: transparent;\n",
              "      border-bottom-color: var(--fill-color);\n",
              "      border-left-color: var(--fill-color);\n",
              "    }\n",
              "    20% {\n",
              "      border-color: transparent;\n",
              "      border-left-color: var(--fill-color);\n",
              "      border-top-color: var(--fill-color);\n",
              "    }\n",
              "    30% {\n",
              "      border-color: transparent;\n",
              "      border-left-color: var(--fill-color);\n",
              "      border-top-color: var(--fill-color);\n",
              "      border-right-color: var(--fill-color);\n",
              "    }\n",
              "    40% {\n",
              "      border-color: transparent;\n",
              "      border-right-color: var(--fill-color);\n",
              "      border-top-color: var(--fill-color);\n",
              "    }\n",
              "    60% {\n",
              "      border-color: transparent;\n",
              "      border-right-color: var(--fill-color);\n",
              "    }\n",
              "    80% {\n",
              "      border-color: transparent;\n",
              "      border-right-color: var(--fill-color);\n",
              "      border-bottom-color: var(--fill-color);\n",
              "    }\n",
              "    90% {\n",
              "      border-color: transparent;\n",
              "      border-bottom-color: var(--fill-color);\n",
              "    }\n",
              "  }\n",
              "</style>\n",
              "\n",
              "  <script>\n",
              "    async function quickchart(key) {\n",
              "      const quickchartButtonEl =\n",
              "        document.querySelector('#' + key + ' button');\n",
              "      quickchartButtonEl.disabled = true;  // To prevent multiple clicks.\n",
              "      quickchartButtonEl.classList.add('colab-df-spinner');\n",
              "      try {\n",
              "        const charts = await google.colab.kernel.invokeFunction(\n",
              "            'suggestCharts', [key], {});\n",
              "      } catch (error) {\n",
              "        console.error('Error during call to suggestCharts:', error);\n",
              "      }\n",
              "      quickchartButtonEl.classList.remove('colab-df-spinner');\n",
              "      quickchartButtonEl.classList.add('colab-df-quickchart-complete');\n",
              "    }\n",
              "    (() => {\n",
              "      let quickchartButtonEl =\n",
              "        document.querySelector('#df-aa629967-1b6a-4515-a730-1c7f3983ea95 button');\n",
              "      quickchartButtonEl.style.display =\n",
              "        google.colab.kernel.accessAllowed ? 'block' : 'none';\n",
              "    })();\n",
              "  </script>\n",
              "</div>\n",
              "    </div>\n",
              "  </div>\n"
            ]
          },
          "metadata": {},
          "execution_count": 11
        }
      ]
    },
    {
      "cell_type": "markdown",
      "source": [
        "Creating list of title collumn where we need to perform topic modeling"
      ],
      "metadata": {
        "id": "CZSRV6eHVdeu"
      }
    },
    {
      "cell_type": "code",
      "source": [
        "news_title = data_df.TITLE.values.tolist()"
      ],
      "metadata": {
        "id": "gjw-bOeuzUUX"
      },
      "execution_count": null,
      "outputs": []
    },
    {
      "cell_type": "code",
      "source": [
        "# Removeing the new line characters and single quotes\n",
        "news_title = [re.sub('\\S*@\\S*\\s?', '', sent) for sent in news_title]"
      ],
      "metadata": {
        "id": "SaVwzCmIz1YX"
      },
      "execution_count": null,
      "outputs": []
    },
    {
      "cell_type": "code",
      "source": [
        "# Remove new line characters\n",
        "news_title = [re.sub('\\s+', ' ', sent) for sent in news_title]"
      ],
      "metadata": {
        "id": "K3KvrOJhz484"
      },
      "execution_count": null,
      "outputs": []
    },
    {
      "cell_type": "code",
      "source": [
        "# Remove the unnecessary single qoutes in the list\n",
        "news_title = [re.sub(\"\\'\", \"\", sent) for sent in news_title]"
      ],
      "metadata": {
        "id": "qyUTDVe6z7H0"
      },
      "execution_count": null,
      "outputs": []
    },
    {
      "cell_type": "code",
      "source": [
        "# display last 10 rows of news title\n",
        "news_title[:10]"
      ],
      "metadata": {
        "colab": {
          "base_uri": "https://localhost:8080/"
        },
        "id": "OriqrFaOz890",
        "outputId": "43902452-eaa8-45b3-86c3-749fded8b39f"
      },
      "execution_count": null,
      "outputs": [
        {
          "output_type": "execute_result",
          "data": {
            "text/plain": [
              "['Fed official says weak data caused by weather, should not slow taper',\n",
              " 'Feds Charles Plosser sees high bar for change in pace of tapering',\n",
              " 'US open: Stocks fall after Fed official hints at accelerated tapering',\n",
              " 'Fed risks falling behind the curve, Charles Plosser says',\n",
              " 'Feds Plosser: Nasty Weather Has Curbed Job Growth',\n",
              " 'Plosser: Fed May Have to Accelerate Tapering Pace',\n",
              " 'Feds Plosser: Taper pace may be too slow',\n",
              " 'Feds Plosser expects US unemployment to fall to 6.2% by the end of 2014',\n",
              " 'US jobs growth last month hit by weather:Fed President Charles Plosser',\n",
              " 'ECB unlikely to end sterilisation of SMP purchases - traders']"
            ]
          },
          "metadata": {},
          "execution_count": 19
        }
      ]
    },
    {
      "cell_type": "code",
      "source": [
        "# breaking connected words and removing special characters\n",
        "\n",
        "news_title = [re.sub(\"-\", \" \", sent) for sent in news_title]\n",
        "news_title = [re.sub(\"_\", \" \", sent) for sent in news_title]\n",
        "news_title = [re.sub(\":\", \"\", sent) for sent in news_title]\n",
        "news_title = [re.sub(\"_\", \" \", sent) for sent in news_title]\n",
        "news_title = [re.sub(\"\\.\\.\\.\", \"\", sent) for sent in news_title]"
      ],
      "metadata": {
        "id": "qf-OvM9gz-jJ"
      },
      "execution_count": null,
      "outputs": []
    },
    {
      "cell_type": "code",
      "source": [
        "def sent_to_words(sentences):\n",
        "    for sentence in sentences:\n",
        "        yield(gensim.utils.simple_preprocess(str(sentence), deacc=True))\n",
        "\n",
        "news_words = list(sent_to_words(news_title))"
      ],
      "metadata": {
        "id": "C_wIsC-W0Eko"
      },
      "execution_count": null,
      "outputs": []
    },
    {
      "cell_type": "code",
      "source": [
        "# Build the bigram models and combine sentence in bigram\n",
        "\n",
        "bigram = gensim.models.Phrases(news_words, min_count=5, threshold=100) # higher threshold fewer phrases.\n",
        "bigram_mod = gensim.models.phrases.Phraser(bigram)\n"
      ],
      "metadata": {
        "id": "hcKjTo-J0HED"
      },
      "execution_count": null,
      "outputs": []
    },
    {
      "cell_type": "code",
      "source": [
        "def remove_stopwords(texts):\n",
        "    print(stop_words)\n",
        "    return [[word for word in simple_preprocess(str(doc)) if word not in stop_words] for doc in texts]\n",
        "\n",
        "def make_bigrams(texts):\n",
        "    return [bigram_mod[doc] for doc in texts]\n",
        "\n",
        "def lemmatization(texts, allowed_postags=['NOUN', 'ADJ', 'VERB', 'ADV']):\n",
        "    texts_out = []\n",
        "    for sent in texts:\n",
        "        doc = nlp(\" \".join(sent))\n",
        "        texts_out.append([token.lemma_ for token in doc if token.pos_ in allowed_postags])\n",
        "    return texts_out"
      ],
      "metadata": {
        "id": "oKZ5Sdtw0KTH"
      },
      "execution_count": null,
      "outputs": []
    },
    {
      "cell_type": "code",
      "source": [
        "# NLTK Stop words\n",
        "# Extend the list of the stop words by extending more english worlds\n",
        "import nltk;\n",
        "from nltk.corpus import stopwords\n",
        "nltk.download('stopwords')\n",
        "stop_words = stopwords.words('english')\n",
        "additional_stop_words= ['from', 'subject', 're', 'edu', 'use','a','about', 'above', 'across', 'snl', 'get', 'say', 'new', 'pm','ex','s','get','io','m', 'let', 'st', 'hi', 'fi','after', 'afterwards','again','against', 'all', 'almost','alone','along',\n",
        "'already','also','although','always','am','among','amongst','amoungst','amount','an','and','another','any','anyhow','anyone','anything','anyway','anywhere','are','around','as','at','back','be','became','because','become','becomes','becoming',\n",
        "                        'been','before','beforehand','behind','being','below','beside','besides','between','beyond','bill','both','bottom','but','by','call','can','cannot','cant','co','con','could','couldnt','cry','de','describe','detail','do',\n",
        "                        'done','down','due','during','each','eg','eight','either','eleven','else','elsewhere','empty','enough','etc','even','ever','every','everyone','everything','everywhere','except','few','fifteen','fifty','fill','find','fire',\n",
        "                        'first','five','for','former','formerly','forty','found','four','from','front','full','further','get','give','go','had','has','hasnt','have','he','hence','her','here','hereafter','hereby','herein','hereupon','hers','herself',\n",
        "                        'him','himself','his','how','however','hundred','i','ie','if','in','inc','indeed','interest','into','is','it','its','itself','keep','last','latter','latterly','least','less','ltd','made','many','may','me','meanwhile','might',\n",
        "                        'mill','mine','more','moreover','most','mostly','move','much','must','my','myself','name','namely','neither','never','nevertheless','next','nine','no','nobody','none','noone','nor','not','nothing','now','nowhere','of','off','often',\n",
        "                        'on','once','one','only','onto','or','other','others','otherwise','our','ours','ourselves','out','over','own','part','per','perhaps','please','put','rather','re','same','see','seem','seemed','seeming','seems','serious','several',\n",
        "                        'she','should','show','side','since','sincere','six','sixty','so','some','somehow','someone','something','sometime','sometimes','somewhere','still','such','system','take','ten','than','that','the','their','them','themselves','then',\n",
        "                        'thence','there','thereafter','thereby','therefore','therein','thereupon','these','they','thick','thin','third','this','those','though','three','through','throughout','thru','thus','to','together','too','top','toward','towards',\n",
        "                        'twelve','twenty','two','un','under','until','up','upon','us','very','via','was','we','well','were','what','whatever','when','whence','whenever','where','whereafter','whereas','whereby','wherein','whereupon','wherever','whether',\n",
        "                        'which','while','whither','who','whoever','whole','whom','whose','why','will','with','within','without','would','yet','you','your','yours','yourself','yourselves']\n",
        "stop_words.extend(additional_stop_words)"
      ],
      "metadata": {
        "colab": {
          "base_uri": "https://localhost:8080/"
        },
        "id": "gpdBYyxK0n2G",
        "outputId": "50c980ca-92a4-4ac6-a5aa-0a6c09cdb686"
      },
      "execution_count": null,
      "outputs": [
        {
          "output_type": "stream",
          "name": "stderr",
          "text": [
            "[nltk_data] Downloading package stopwords to /root/nltk_data...\n",
            "[nltk_data]   Unzipping corpora/stopwords.zip.\n"
          ]
        }
      ]
    },
    {
      "cell_type": "code",
      "source": [
        "# Remove Stop Words\n",
        "\n",
        "news_words_final = remove_stopwords(news_words)\n",
        "\n",
        "# Create Bigrams\n",
        "\n",
        "data_words_bigrams = make_bigrams(news_words_final)\n",
        "\n",
        "nlp = spacy.load('en_core_web_sm', disable=['parser', 'ner'])\n",
        "\n",
        "news_words_lemmatized = lemmatization(data_words_bigrams, allowed_postags=['NOUN', 'ADJ', 'VERB', 'ADV'])"
      ],
      "metadata": {
        "colab": {
          "base_uri": "https://localhost:8080/"
        },
        "id": "BVYXWqPA0O_j",
        "outputId": "499480f4-40ed-452a-e186-273ed0d80a5b"
      },
      "execution_count": null,
      "outputs": [
        {
          "output_type": "stream",
          "name": "stdout",
          "text": [
            "['i', 'me', 'my', 'myself', 'we', 'our', 'ours', 'ourselves', 'you', \"you're\", \"you've\", \"you'll\", \"you'd\", 'your', 'yours', 'yourself', 'yourselves', 'he', 'him', 'his', 'himself', 'she', \"she's\", 'her', 'hers', 'herself', 'it', \"it's\", 'its', 'itself', 'they', 'them', 'their', 'theirs', 'themselves', 'what', 'which', 'who', 'whom', 'this', 'that', \"that'll\", 'these', 'those', 'am', 'is', 'are', 'was', 'were', 'be', 'been', 'being', 'have', 'has', 'had', 'having', 'do', 'does', 'did', 'doing', 'a', 'an', 'the', 'and', 'but', 'if', 'or', 'because', 'as', 'until', 'while', 'of', 'at', 'by', 'for', 'with', 'about', 'against', 'between', 'into', 'through', 'during', 'before', 'after', 'above', 'below', 'to', 'from', 'up', 'down', 'in', 'out', 'on', 'off', 'over', 'under', 'again', 'further', 'then', 'once', 'here', 'there', 'when', 'where', 'why', 'how', 'all', 'any', 'both', 'each', 'few', 'more', 'most', 'other', 'some', 'such', 'no', 'nor', 'not', 'only', 'own', 'same', 'so', 'than', 'too', 'very', 's', 't', 'can', 'will', 'just', 'don', \"don't\", 'should', \"should've\", 'now', 'd', 'll', 'm', 'o', 're', 've', 'y', 'ain', 'aren', \"aren't\", 'couldn', \"couldn't\", 'didn', \"didn't\", 'doesn', \"doesn't\", 'hadn', \"hadn't\", 'hasn', \"hasn't\", 'haven', \"haven't\", 'isn', \"isn't\", 'ma', 'mightn', \"mightn't\", 'mustn', \"mustn't\", 'needn', \"needn't\", 'shan', \"shan't\", 'shouldn', \"shouldn't\", 'wasn', \"wasn't\", 'weren', \"weren't\", 'won', \"won't\", 'wouldn', \"wouldn't\", 'from', 'subject', 're', 'edu', 'use', 'a', 'about', 'above', 'across', 'snl', 'get', 'say', 'new', 'pm', 'ex', 's', 'get', 'io', 'm', 'let', 'st', 'hi', 'fi', 'after', 'afterwards', 'again', 'against', 'all', 'almost', 'alone', 'along', 'already', 'also', 'although', 'always', 'am', 'among', 'amongst', 'amoungst', 'amount', 'an', 'and', 'another', 'any', 'anyhow', 'anyone', 'anything', 'anyway', 'anywhere', 'are', 'around', 'as', 'at', 'back', 'be', 'became', 'because', 'become', 'becomes', 'becoming', 'been', 'before', 'beforehand', 'behind', 'being', 'below', 'beside', 'besides', 'between', 'beyond', 'bill', 'both', 'bottom', 'but', 'by', 'call', 'can', 'cannot', 'cant', 'co', 'con', 'could', 'couldnt', 'cry', 'de', 'describe', 'detail', 'do', 'done', 'down', 'due', 'during', 'each', 'eg', 'eight', 'either', 'eleven', 'else', 'elsewhere', 'empty', 'enough', 'etc', 'even', 'ever', 'every', 'everyone', 'everything', 'everywhere', 'except', 'few', 'fifteen', 'fifty', 'fill', 'find', 'fire', 'first', 'five', 'for', 'former', 'formerly', 'forty', 'found', 'four', 'from', 'front', 'full', 'further', 'get', 'give', 'go', 'had', 'has', 'hasnt', 'have', 'he', 'hence', 'her', 'here', 'hereafter', 'hereby', 'herein', 'hereupon', 'hers', 'herself', 'him', 'himself', 'his', 'how', 'however', 'hundred', 'i', 'ie', 'if', 'in', 'inc', 'indeed', 'interest', 'into', 'is', 'it', 'its', 'itself', 'keep', 'last', 'latter', 'latterly', 'least', 'less', 'ltd', 'made', 'many', 'may', 'me', 'meanwhile', 'might', 'mill', 'mine', 'more', 'moreover', 'most', 'mostly', 'move', 'much', 'must', 'my', 'myself', 'name', 'namely', 'neither', 'never', 'nevertheless', 'next', 'nine', 'no', 'nobody', 'none', 'noone', 'nor', 'not', 'nothing', 'now', 'nowhere', 'of', 'off', 'often', 'on', 'once', 'one', 'only', 'onto', 'or', 'other', 'others', 'otherwise', 'our', 'ours', 'ourselves', 'out', 'over', 'own', 'part', 'per', 'perhaps', 'please', 'put', 'rather', 're', 'same', 'see', 'seem', 'seemed', 'seeming', 'seems', 'serious', 'several', 'she', 'should', 'show', 'side', 'since', 'sincere', 'six', 'sixty', 'so', 'some', 'somehow', 'someone', 'something', 'sometime', 'sometimes', 'somewhere', 'still', 'such', 'system', 'take', 'ten', 'than', 'that', 'the', 'their', 'them', 'themselves', 'then', 'thence', 'there', 'thereafter', 'thereby', 'therefore', 'therein', 'thereupon', 'these', 'they', 'thick', 'thin', 'third', 'this', 'those', 'though', 'three', 'through', 'throughout', 'thru', 'thus', 'to', 'together', 'too', 'top', 'toward', 'towards', 'twelve', 'twenty', 'two', 'un', 'under', 'until', 'up', 'upon', 'us', 'very', 'via', 'was', 'we', 'well', 'were', 'what', 'whatever', 'when', 'whence', 'whenever', 'where', 'whereafter', 'whereas', 'whereby', 'wherein', 'whereupon', 'wherever', 'whether', 'which', 'while', 'whither', 'who', 'whoever', 'whole', 'whom', 'whose', 'why', 'will', 'with', 'within', 'without', 'would', 'yet', 'you', 'your', 'yours', 'yourself', 'yourselves']\n"
          ]
        }
      ]
    },
    {
      "cell_type": "markdown",
      "source": [
        "<b>Question 2 - Using the LDA algorithm create the Topics (Min 10) for the Corpus</b>"
      ],
      "metadata": {
        "id": "hi1y2BvXudHT"
      }
    },
    {
      "cell_type": "code",
      "source": [
        "# Create Dictionary\n",
        "news_id2word = corpora.Dictionary(news_words_lemmatized)\n",
        "\n",
        "# Create Corpus\n",
        "news_texts = news_words_lemmatized\n",
        "\n",
        "# Term Document Frequency\n",
        "news_corpus = [news_id2word.doc2bow(text) for text in news_texts]"
      ],
      "metadata": {
        "id": "Q9ZzOOsS0Rm1"
      },
      "execution_count": null,
      "outputs": []
    },
    {
      "cell_type": "code",
      "source": [
        "[[(news_id2word[id], freq) for id, freq in cp] for cp in news_corpus[11:12]]"
      ],
      "metadata": {
        "colab": {
          "base_uri": "https://localhost:8080/"
        },
        "id": "H5zckfX11uth",
        "outputId": "adc35e1a-f798-4e8b-e8e5-2b1f67015e0a"
      },
      "execution_count": null,
      "outputs": [
        {
          "output_type": "execute_result",
          "data": {
            "text/plain": [
              "[[('bake', 1), ('bank', 1), ('union', 1), ('work', 1)]]"
            ]
          },
          "metadata": {},
          "execution_count": 30
        }
      ]
    },
    {
      "cell_type": "code",
      "source": [
        "lda_model_news_article = gensim.models.ldamodel.LdaModel(corpus=news_corpus,\n",
        "                                           id2word=news_id2word,\n",
        "                                           num_topics=10,\n",
        "                                           random_state=42,\n",
        "                                           update_every=11,\n",
        "                                           chunksize=100,\n",
        "                                           passes=100,\n",
        "                                           alpha='auto',\n",
        "                                           per_word_topics=True)"
      ],
      "metadata": {
        "id": "eHrwOEYs1xa4"
      },
      "execution_count": null,
      "outputs": []
    },
    {
      "cell_type": "markdown",
      "source": [
        "<b>Question 3 - Compute the coherence score and print Topics Extracted</b>"
      ],
      "metadata": {
        "id": "HX4ThHW_uztj"
      }
    },
    {
      "cell_type": "code",
      "source": [
        "# Compute Coherence Score\n",
        "\n",
        "coherence_model_lda = CoherenceModel(model=lda_model_news_article, texts=news_words_lemmatized, dictionary=news_id2word, coherence='c_v')\n",
        "coherence_lda = coherence_model_lda.get_coherence()\n",
        "print('\\nCoherence Score: ', coherence_lda)"
      ],
      "metadata": {
        "colab": {
          "base_uri": "https://localhost:8080/"
        },
        "id": "Y4_dwgca1zwJ",
        "outputId": "23645fc3-0351-4c75-ab76-05c65d5bd742"
      },
      "execution_count": null,
      "outputs": [
        {
          "output_type": "stream",
          "name": "stdout",
          "text": [
            "\n",
            "Coherence Score:  0.5445156131497383\n"
          ]
        }
      ]
    },
    {
      "cell_type": "markdown",
      "source": [
        " Extracted Topics"
      ],
      "metadata": {
        "id": "s3U_Y1wWu804"
      }
    },
    {
      "cell_type": "code",
      "source": [
        "lda_model_news_article.print_topics()"
      ],
      "metadata": {
        "colab": {
          "base_uri": "https://localhost:8080/"
        },
        "id": "5K9PD0h7vAAP",
        "outputId": "3df7cf0b-c406-4bbe-b64d-1d3acb31e400"
      },
      "execution_count": null,
      "outputs": [
        {
          "output_type": "execute_result",
          "data": {
            "text/plain": [
              "[(0,\n",
              "  '0.076*\"bachelor\" + 0.067*\"finale\" + 0.028*\"true_detective\" + 0.027*\"spoiler\" + 0.021*\"tax\" + 0.020*\"juan_pablo\" + 0.016*\"pick\" + 0.013*\"call\" + 0.013*\"reality\" + 0.013*\"rating\"'),\n",
              " (1,\n",
              "  '0.040*\"miley_cyrus\" + 0.031*\"girl\" + 0.022*\"bankruptcy\" + 0.022*\"file\" + 0.021*\"watch\" + 0.021*\"word\" + 0.019*\"perform\" + 0.018*\"time\" + 0.018*\"scandal\" + 0.017*\"ban_bossy\"'),\n",
              " (2,\n",
              "  '0.048*\"carney\" + 0.034*\"tanker\" + 0.032*\"libyan\" + 0.030*\"bank\" + 0.023*\"say\" + 0.018*\"oil\" + 0.018*\"bitcoin_exchange\" + 0.015*\"economy\" + 0.014*\"price\" + 0.014*\"escape\"'),\n",
              " (3,\n",
              "  '0.038*\"stacy_keibl\" + 0.026*\"deposition\" + 0.023*\"s\" + 0.021*\"justin_bieber\" + 0.018*\"george_clooney\" + 0.016*\"tell\" + 0.015*\"public\" + 0.014*\"star\" + 0.012*\"secret\" + 0.012*\"prince_harry\"'),\n",
              " (4,\n",
              "  '0.024*\"season\" + 0.024*\"video\" + 0.017*\"titanfall\" + 0.016*\"game\" + 0.016*\"throne\" + 0.014*\"taxis\" + 0.012*\"trailer\" + 0.012*\"live\" + 0.011*\"week\" + 0.011*\"launch\"'),\n",
              " (5,\n",
              "  '0.087*\"stock\" + 0.037*\"market\" + 0.030*\"fall\" + 0.025*\"low\" + 0.024*\"weak\" + 0.021*\"datum\" + 0.019*\"campaign\" + 0.018*\"bad\" + 0.018*\"slip\" + 0.017*\"world\"'),\n",
              " (6,\n",
              "  '0.039*\"update\" + 0.037*\"io\" + 0.033*\"sale\" + 0.030*\"apple\" + 0.027*\"pot\" + 0.022*\"make\" + 0.019*\"forex\" + 0.015*\"tv\" + 0.014*\"bring\" + 0.014*\"fix\"'),\n",
              " (7,\n",
              "  '0.027*\"year\" + 0.021*\"mp\" + 0.020*\"smartphone\" + 0.018*\"kid\" + 0.015*\"rebel_port\" + 0.014*\"force\" + 0.014*\"profit\" + 0.013*\"forecast\" + 0.013*\"oil\" + 0.013*\"soon\"'),\n",
              " (8,\n",
              "  '0.034*\"taylor_swift\" + 0.033*\"loss\" + 0.026*\"rate\" + 0.025*\"parent\" + 0.023*\"american_eagle\" + 0.021*\"change\" + 0.018*\"question\" + 0.018*\"talk\" + 0.016*\"outfitter\" + 0.015*\"unicredit_post\"'),\n",
              " (9,\n",
              "  '0.050*\"urban_outfitter\" + 0.023*\"bitcoin\" + 0.020*\"urbn\" + 0.019*\"go\" + 0.017*\"say\" + 0.014*\"earning\" + 0.014*\"film\" + 0.013*\"sterling\" + 0.011*\"concern\" + 0.011*\"card\"')]"
            ]
          },
          "metadata": {},
          "execution_count": 33
        }
      ]
    },
    {
      "cell_type": "markdown",
      "source": [
        "<b>Question - 4 Visualize the topics </b>\n"
      ],
      "metadata": {
        "id": "ZgTBm_vJvOSK"
      }
    },
    {
      "cell_type": "code",
      "source": [
        "#pyLDAvis.enable_notebook()\n",
        "#vis = pyLDAvis.gensim.prepare(lda_model_news_article, news_corpus, news_id2word)\n",
        "#vis"
      ],
      "metadata": {
        "colab": {
          "base_uri": "https://localhost:8080/",
          "height": 862
        },
        "id": "bcejzWeW2C4L",
        "outputId": "a1010f08-64c0-4f47-8535-bea90d7245ef"
      },
      "execution_count": null,
      "outputs": [
        {
          "output_type": "execute_result",
          "data": {
            "text/plain": [
              "PreparedData(topic_coordinates=              x         y  topics  cluster       Freq\n",
              "topic                                                \n",
              "4      0.366130  0.012094       1        1  30.045811\n",
              "1     -0.034409  0.225766       2        1  10.423772\n",
              "6     -0.004672 -0.018887       3        1  10.097529\n",
              "3     -0.049170  0.148763       4        1   9.267280\n",
              "0     -0.131363  0.027988       5        1   9.209519\n",
              "5     -0.037146 -0.260994       6        1   8.911006\n",
              "8     -0.042090 -0.036205       7        1   6.530297\n",
              "9     -0.014282  0.031982       8        1   5.910222\n",
              "2     -0.027583 -0.075888       9        1   5.050897\n",
              "7     -0.025414 -0.054619      10        1   4.553667, topic_info=                Term        Freq       Total Category  logprob  loglift\n",
              "18             stock  169.000000  169.000000  Default  30.0000  30.0000\n",
              "2222        bachelor  153.000000  153.000000  Default  29.0000  29.0000\n",
              "2224          finale  135.000000  135.000000  Default  28.0000  28.0000\n",
              "2195     miley_cyrus   92.000000   92.000000  Default  27.0000  27.0000\n",
              "1716              io   82.000000   82.000000  Default  26.0000  26.0000\n",
              "...              ...         ...         ...      ...      ...      ...\n",
              "3282  american_eagle   11.127321   44.560505  Topic10  -4.4891   1.7018\n",
              "188             plan    8.967651   25.514329  Topic10  -4.7049   2.0436\n",
              "29               hit    9.447350   50.263035  Topic10  -4.6528   1.4177\n",
              "2754      neil_young    7.708487   73.293595  Topic10  -4.8562   0.8371\n",
              "10              high    7.638429   66.446243  Topic10  -4.8654   0.9260\n",
              "\n",
              "[419 rows x 6 columns], token_table=      Topic      Freq       Term\n",
              "term                            \n",
              "2000      7  0.959919         ad\n",
              "597       3  0.943204        add\n",
              "584       7  0.906390  agreement\n",
              "435       3  0.952832      ahead\n",
              "53        9  0.855112        aim\n",
              "...     ...       ...        ...\n",
              "710       6  0.694543      world\n",
              "90        7  0.932986      worry\n",
              "104       2  0.284252       year\n",
              "104      10  0.697710       year\n",
              "1969     10  0.908294      young\n",
              "\n",
              "[478 rows x 3 columns], R=30, lambda_step=0.01, plot_opts={'xlab': 'PC1', 'ylab': 'PC2'}, topic_order=[5, 2, 7, 4, 1, 6, 9, 10, 3, 8])"
            ],
            "text/html": [
              "\n",
              "<link rel=\"stylesheet\" type=\"text/css\" href=\"https://cdn.jsdelivr.net/gh/bmabey/pyLDAvis@3.4.0/pyLDAvis/js/ldavis.v1.0.0.css\">\n",
              "\n",
              "\n",
              "<div id=\"ldavis_el11671343859995337129686390269\" style=\"background-color:white;\"></div>\n",
              "<script type=\"text/javascript\">\n",
              "\n",
              "var ldavis_el11671343859995337129686390269_data = {\"mdsDat\": {\"x\": [0.3661296027670213, -0.034408561834355006, -0.004672250113587797, -0.04917017427605203, -0.1313632451230532, -0.03714642586260371, -0.04208984368986877, -0.014281954103021723, -0.02758345817610561, -0.02541368958837428], \"y\": [0.012093917588692578, 0.22576567738065356, -0.018887320220270724, 0.14876262273581436, 0.027988221875465135, -0.2609935166472658, -0.03620514748076698, 0.031982214722337705, -0.07588813354632883, -0.05461853640833089], \"topics\": [1, 2, 3, 4, 5, 6, 7, 8, 9, 10], \"cluster\": [1, 1, 1, 1, 1, 1, 1, 1, 1, 1], \"Freq\": [30.04581087588416, 10.423772348860501, 10.097529112987694, 9.267280295497816, 9.209519493143132, 8.911005709255292, 6.530297123922459, 5.910221515561852, 5.050896923753341, 4.5536666011337505]}, \"tinfo\": {\"Term\": [\"stock\", \"bachelor\", \"finale\", \"miley_cyrus\", \"io\", \"urban_outfitter\", \"stacy_keibl\", \"season\", \"update\", \"video\", \"market\", \"carney\", \"sale\", \"apple\", \"girl\", \"fall\", \"make\", \"true_detective\", \"pot\", \"taylor_swift\", \"spoiler\", \"watch\", \"loss\", \"deposition\", \"titanfall\", \"game\", \"bankruptcy\", \"tanker\", \"throne\", \"file\", \"season\", \"video\", \"titanfall\", \"game\", \"throne\", \"taxis\", \"trailer\", \"week\", \"launch\", \"release\", \"recap\", \"voice\", \"come\", \"music\", \"review\", \"speak\", \"fyffe\", \"share\", \"good\", \"ban\", \"surprise\", \"company\", \"iphone\", \"blind_audition\", \"woman\", \"host\", \"episode\", \"start\", \"recall\", \"show\", \"live\", \"neil_young\", \"see\", \"big\", \"get\", \"month\", \"wearable\", \"miss\", \"make\", \"watch\", \"miley_cyrus\", \"bankruptcy\", \"file\", \"perform\", \"time\", \"scandal\", \"ban_bossy\", \"bossy\", \"leave\", \"underwear\", \"steady\", \"apple_release\", \"fan\", \"beyonce\", \"sbarro_file\", \"sneak\", \"internet\", \"feature\", \"carney_face\", \"stop\", \"winner\", \"singer\", \"mean\", \"bankruptcy_protection\", \"sbarro\", \"stream\", \"chapter\", \"fight\", \"costume_change\", \"port\", \"girl\", \"word\", \"continue\", \"watch\", \"hold\", \"want\", \"dance\", \"set\", \"currency\", \"selena_gomez\", \"io\", \"apple\", \"pot\", \"bring\", \"fix\", \"thing\", \"read\", \"colorado\", \"help\", \"need\", \"probe\", \"list\", \"net\", \"percent\", \"apologize\", \"ahead\", \"minute\", \"detail\", \"add\", \"channel\", \"know\", \"twitter\", \"debut\", \"cannabis\", \"return\", \"service\", \"boss\", \"weed\", \"january\", \"hbo\", \"update\", \"forex\", \"sale\", \"carplay\", \"tv\", \"revenue\", \"make\", \"app\", \"rise\", \"month\", \"stacy_keibl\", \"deposition\", \"s\", \"justin_bieber\", \"george_clooney\", \"tell\", \"public\", \"star\", \"secret\", \"prince_harry\", \"leak\", \"girlfriend\", \"legal\", \"defend\", \"marrie\", \"ceo\", \"search\", \"wedding\", \"love\", \"online\", \"analyst\", \"ceremony\", \"war\", \"propose\", \"cressida_bona\", \"lose\", \"pobre\", \"book\", \"marries_jared\", \"musical\", \"neighbor\", \"snowden\", \"bieber\", \"get\", \"naked\", \"selena_gomez\", \"bachelor\", \"finale\", \"true_detective\", \"spoiler\", \"tax\", \"juan_pablo\", \"pick\", \"call\", \"reality\", \"rating\", \"lindsay\", \"lindsay_lohan\", \"money\", \"premiere\", \"way\", \"move\", \"m\", \"win\", \"clare\", \"final_rose\", \"snapshot\", \"head\", \"meet\", \"chris_harrison\", \"viewer\", \"nikki_ferrell\", \"neil_degrasse\", \"view\", \"brief\", \"encryption\", \"chef\", \"happen\", \"business\", \"close\", \"high\", \"tv\", \"docu_serie\", \"end\", \"stock\", \"fall\", \"weak\", \"datum\", \"campaign\", \"bad\", \"slip\", \"chinese\", \"tech\", \"open\", \"oust\", \"dip\", \"asian\", \"edge\", \"copper\", \"public_transit\", \"trading\", \"wall_street\", \"weigh\", \"gas_price\", \"average\", \"flat\", \"commodity\", \"discouraging_new\", \"confidence\", \"industrial\", \"estimate\", \"slide\", \"sink\", \"china\", \"market\", \"ukraine\", \"export\", \"low\", \"world\", \"oil\", \"decline\", \"investor\", \"rise\", \"taylor_swift\", \"loss\", \"rate\", \"parent\", \"change\", \"question\", \"talk\", \"outfitter\", \"unicredit_post\", \"unicredit\", \"worry\", \"galavis\", \"fuel\", \"technology\", \"top\", \"oversight\", \"party\", \"case\", \"turn\", \"let\", \"allegation\", \"story\", \"saturday_night\", \"agreement\", \"money_maker\", \"billboard\", \"message\", \"delay\", \"send\", \"ad\", \"american_eagle\", \"issue\", \"record\", \"selena_gomez\", \"end\", \"break\", \"sale\", \"low\", \"urban_outfitter\", \"urbn\", \"earning\", \"film\", \"sterling\", \"concern\", \"card\", \"result\", \"team\", \"hack\", \"store\", \"wed\", \"name\", \"gun\", \"beat\", \"fast\", \"comcast\", \"engagement\", \"house\", \"cash\", \"number\", \"george_zimmerman\", \"bean\", \"sign\", \"balance\", \"iron_man\", \"customer\", \"boyfriend\", \"quarterly\", \"mixed\", \"bitcoin\", \"go\", \"weather\", \"follow\", \"say\", \"post\", \"report\", \"sale\", \"tanker\", \"libyan\", \"bank\", \"bitcoin_exchange\", \"economy\", \"escape\", \"mark_carney\", \"face\", \"parliament\", \"government\", \"north_korean\", \"growth_worrie\", \"fail\", \"answer\", \"england\", \"recovery\", \"rebel_oil\", \"usd\", \"lawmaker\", \"seize\", \"aim\", \"sea\", \"job\", \"overheat\", \"deputy_governor\", \"escort\", \"jump\", \"control\", \"quick\", \"inch\", \"carney\", \"crude\", \"claim\", \"boe\", \"price\", \"oil\", \"say\", \"hacker\", \"grill\", \"update\", \"mp\", \"smartphone\", \"kid\", \"rebel_port\", \"force\", \"forecast\", \"soon\", \"train\", \"carry\", \"device\", \"expect\", \"kill\", \"rebel\", \"child\", \"ponoplayer\", \"disappoint\", \"feel\", \"parenting\", \"young\", \"employee\", \"lean\", \"fire\", \"ipad_model\", \"track\", \"blame\", \"outlook\", \"national\", \"area\", \"explain\", \"mobile\", \"year\", \"profit\", \"quarter\", \"gain\", \"oil\", \"american_eagle\", \"plan\", \"hit\", \"neil_young\", \"high\"], \"Freq\": [169.0, 153.0, 135.0, 92.0, 82.0, 64.0, 76.0, 158.0, 95.0, 156.0, 78.0, 61.0, 98.0, 67.0, 75.0, 58.0, 94.0, 57.0, 59.0, 48.0, 55.0, 86.0, 47.0, 53.0, 109.0, 105.0, 51.0, 37.0, 103.0, 50.0, 157.95253009066352, 155.3798688516311, 108.41889496039059, 104.92759835859218, 102.74484387319065, 90.99515077232164, 81.60993483665155, 73.99265176289585, 72.21860586839699, 70.85019987115282, 59.4202171567169, 56.438067976014096, 52.24444847024357, 51.66280316171421, 49.07201592865391, 47.66750407162288, 45.609555305262006, 41.61357123890996, 39.15208316916059, 38.9825074017198, 38.489245341194845, 37.89318204346224, 32.48235363372869, 32.471795866296915, 31.61667150242411, 29.928823020573248, 29.098406511509054, 28.863289171104412, 28.538418630173943, 28.47040809833259, 77.04506428625302, 64.94560099629192, 36.4382802883543, 38.631260708243516, 57.756181494027324, 61.86264157604593, 44.354700106010256, 35.547357542927216, 46.0093744264701, 37.0853332189343, 91.38659696534422, 51.01648600620228, 50.209930920172155, 43.68532844566776, 41.433256306309886, 40.595683608035394, 38.515961578881985, 36.76944863620878, 35.06537050778081, 31.529818977534948, 27.318026889628573, 24.36683120477015, 22.610392372697852, 21.04869868794625, 21.022142339462448, 20.199981279633537, 19.42042613365432, 19.365217994617357, 19.27723477579399, 18.99763901104998, 16.79424048447751, 13.91721753432003, 13.48315156803694, 13.341950035206178, 12.918685523582004, 12.138602292403856, 11.56799144857417, 11.549807362834207, 11.44215191418029, 11.42716908091624, 69.2415511576029, 46.88778073115479, 19.72324286076569, 48.57873066153736, 22.238126104904772, 30.605194602728, 16.305622260974527, 22.875622107690166, 19.72285841474087, 16.62798025278711, 81.72485394843811, 66.69104351898999, 58.87057413026597, 31.521110343171525, 30.042523863256733, 26.910173259994682, 26.621896460998627, 23.26670131553342, 22.806563809911403, 21.39283664273903, 20.573581898737338, 17.67592350215075, 15.684800713854951, 14.787401516940468, 14.540506625104285, 13.96672464395635, 13.92989048019712, 13.26239429156476, 13.056559025860055, 12.976424615486243, 12.568532445466833, 12.549721464552517, 12.392967041685926, 11.679183112461512, 11.473552469631976, 10.331350649779917, 10.277549157211647, 10.019063402611497, 10.018870033994462, 9.973884718002862, 85.10825226478791, 40.97986413473624, 72.99673887232551, 18.296841385708316, 32.91272391622435, 19.079212856460735, 48.215144840136006, 19.39748736895661, 27.340313052116876, 29.510905448651812, 75.76302710551742, 52.543604413517556, 45.70898280085619, 41.364234463429355, 37.06504220728528, 32.9614417503662, 29.6542557938344, 28.930226222005242, 24.670743889957304, 23.305404208425376, 22.696432944451406, 21.585696882663402, 19.89905705954909, 19.743616510131396, 19.00602603208809, 17.54458814644534, 17.28353553737315, 17.073779999792375, 16.24298528751444, 14.970408514505973, 13.97834305846859, 13.84625333412592, 13.306798381587493, 12.537940446403557, 12.125976040902932, 11.578567835654779, 11.266477316572626, 11.081056666503684, 10.406542900476406, 10.34756206665634, 17.615188992341302, 15.734238153555248, 13.460917770844313, 16.895989589572217, 13.312174104345837, 13.308733641780497, 152.69968741461318, 135.24072836144745, 56.99342990890734, 54.76394587130757, 42.03350497346639, 39.60542296432, 32.00401067236242, 26.31877001492588, 26.16913008073884, 25.669830137952733, 25.378386765552154, 24.58842542031376, 19.820963668542674, 19.65116794571219, 19.324459408292483, 15.024100593226327, 14.30101354191947, 13.15511123375984, 11.942550186630557, 11.942398085077368, 11.737826161730034, 11.65267728609511, 10.599798608216794, 10.361455474369695, 10.172816888572678, 9.571510925621842, 9.516756232750543, 9.277475294848507, 9.080016685243255, 8.791273815265551, 11.263845995288893, 10.251628821583635, 15.693171997245479, 14.130723255756529, 19.087992815693624, 14.375933354817846, 10.945181110559304, 12.082924990010156, 168.38078745465305, 57.367329375512554, 46.203012269411296, 41.21771948803474, 37.392234792569276, 35.42196919685095, 35.302224051020765, 26.621892795744692, 26.387720537840956, 25.45179535284029, 23.42009156951519, 18.94869239850547, 18.89503894554211, 18.292992379692222, 16.937740684426974, 16.93750593251242, 15.78365693366309, 14.830418794964045, 14.593879154291226, 14.456380443476883, 14.215121386429544, 13.951891355963882, 12.221013122220317, 11.970681806567434, 11.821703727131386, 10.263494555462291, 8.456841112376539, 8.006379275106227, 8.006407264757579, 7.755234453780216, 71.34083957702293, 17.239293964943624, 33.448738503873415, 49.17799077844657, 33.48041195449866, 28.677725464318055, 14.585903006548255, 14.030405939570523, 16.843765881462975, 47.661576631834805, 46.29171678442674, 36.437089932213446, 36.175653185016664, 29.180810176880303, 25.66069468533666, 25.05162665014032, 23.00297453801192, 20.783471067378226, 17.8248388887939, 14.270292691895039, 13.667637570764017, 12.304009339603082, 11.765008279441053, 11.05795737523438, 10.930743872230705, 10.84752221864372, 10.691145572075374, 9.814339036322986, 9.734356261641254, 9.572913201226632, 9.117431546542775, 8.970489003228998, 8.09100005377244, 7.480171312392879, 7.480112423685511, 6.9579872790451365, 6.912071952411373, 6.677367370005431, 6.556933346728667, 32.76920216208591, 9.116379489860579, 17.518674514173757, 17.61565958351318, 13.132778570243843, 9.903408537052897, 11.963827142250175, 11.159505326888537, 63.88374495263926, 26.17763446266315, 18.43579835024296, 17.512922910389065, 16.587198176497523, 14.784034601283443, 14.131740291729882, 14.072440482401667, 14.06080496681709, 13.43703114440872, 13.343526632087203, 13.081777235386525, 10.788693180196642, 10.639810081194764, 10.168875313318468, 9.416155066372543, 9.402596666560374, 9.3325494255185, 8.91332952407828, 8.895506165851632, 8.833313346961447, 8.800345853190878, 8.774884853905778, 8.697126912983975, 8.076073633411465, 8.059504252005922, 7.225374919592689, 7.213696886169382, 7.161837698618747, 7.1612753852304865, 29.285822614542024, 23.99024137075444, 11.042119859676811, 10.156940376334392, 21.283922249057547, 11.397852842938207, 14.011534576686534, 12.854541544563437, 37.14949712225328, 34.678897446161265, 32.79822697943398, 19.87902110312098, 16.8089916591202, 14.897143966229226, 13.659022210503203, 12.668609964990566, 10.571497286304922, 10.134122563925308, 9.951141110355563, 9.671463172539735, 9.281291343757976, 9.075264740908015, 8.71497842261632, 8.107106443236837, 8.097946213901581, 7.66720970229953, 7.48045443281168, 7.479020444175589, 7.438431708012721, 6.861870527614205, 6.3841588615088956, 6.242991841026871, 6.242941175475489, 6.242961134632094, 5.759376358752417, 5.533963785333177, 5.1110655927712285, 5.097747717583153, 52.47835048102574, 7.2798725855289455, 11.122811157144458, 12.68816993846358, 15.766402084055816, 20.231589880858696, 25.41686617675398, 9.330788005045681, 7.795333158053487, 8.315788125688526, 20.368908705724714, 20.116161717671577, 17.476088133675496, 14.77174999035034, 14.074588133367513, 13.211406268372098, 12.90539708078542, 12.826965933552206, 11.805945468071435, 11.211219151961108, 10.938010340029237, 10.772245943327842, 10.572421570106012, 9.824626526678419, 8.48035003098927, 8.152492997179404, 7.919163240931823, 7.7798643041764075, 6.967389909779372, 6.823984120531294, 6.377660933220561, 6.262236277487544, 5.97398607792947, 5.805566368780566, 5.656912242592364, 5.450831851737906, 5.0098192893221904, 4.9083379076402105, 4.801676013680102, 4.645079942546814, 26.820671081224983, 13.675646239863832, 7.345678040224792, 7.556720704819122, 13.139250978638627, 11.127321429249514, 8.967651310343975, 9.44734976806357, 7.708486921790721, 7.638429121264265], \"Total\": [169.0, 153.0, 135.0, 92.0, 82.0, 64.0, 76.0, 158.0, 95.0, 156.0, 78.0, 61.0, 98.0, 67.0, 75.0, 58.0, 94.0, 57.0, 59.0, 48.0, 55.0, 86.0, 47.0, 53.0, 109.0, 105.0, 51.0, 37.0, 103.0, 50.0, 158.66337176784168, 156.0907306338015, 109.129661886944, 105.63837975724576, 103.4556259053489, 91.70597773944256, 82.32071013840503, 74.70350157132673, 72.92941519772016, 71.561031526503, 60.13108003821565, 57.14887853811813, 52.95528896428277, 52.40601517143704, 49.78283916741042, 48.378308238199125, 46.32032018566746, 42.32445241783876, 39.86293892083934, 39.69344268027215, 39.200138561136136, 38.60403288672885, 33.19319681710516, 33.18257502406132, 32.327562016041306, 30.639655558297886, 29.809236778423358, 29.57411638646935, 29.24924226783494, 29.18126233277745, 82.80469758804946, 73.29359515135693, 38.82394773783734, 41.75533595959807, 75.27555682199385, 92.00006719089636, 56.570004399699904, 42.34047476363206, 94.85103309996123, 86.28605816357127, 92.1083197566484, 51.73820646658895, 50.93165534145374, 44.40704613297783, 42.15500507210544, 41.317427585792004, 39.2377186889721, 37.49119403103113, 35.7871563240674, 32.251535640629044, 28.03982202789034, 25.088603972780575, 23.332142197231953, 21.770445726241558, 21.743861835079098, 20.92171372623983, 20.142187020036182, 20.086982993084337, 19.999006834085314, 19.71939322383863, 17.516056256321946, 14.639029868062988, 14.20490609200579, 14.06366588521332, 13.640404945602448, 12.860399536187915, 12.289716755219468, 12.271582710495208, 12.163866016521073, 12.149016799304416, 75.01603385568312, 54.585086711562845, 23.825497654442742, 86.28605816357127, 31.176913663946227, 51.44736548064175, 19.977286132046558, 39.564234994985206, 29.73481594313559, 48.11134251744523, 82.52375165206803, 67.41728309967777, 59.596830248190685, 32.24736767611139, 30.768795881427447, 27.636434917202564, 27.348146889369563, 23.992949575665442, 23.532876697382882, 22.119095359085605, 21.299860817394368, 18.40224995976771, 16.411079060180203, 15.51367678914938, 15.266752508456015, 14.693039089223976, 14.656155569353695, 13.988660360597999, 13.782811317829948, 13.702650483180262, 13.294780239005863, 13.276006594047832, 13.119285122655604, 12.405428947898185, 12.199842276525201, 11.057643363814504, 11.003866272927777, 10.745313214971294, 10.745115213507672, 10.700202713341803, 95.05780010513396, 47.98185650813841, 98.39221113566207, 21.90741599216394, 47.92732639997849, 25.024323282334024, 94.85103309996123, 26.34704206516501, 49.796370307564295, 92.00006719089636, 76.4861175757363, 53.266720279531775, 46.43210277158106, 42.08735547268314, 37.78812701033042, 33.684558611162764, 30.377364339235687, 29.653346522159858, 25.393859463347425, 24.02850644864601, 23.419519048800197, 22.30878595797465, 20.6222183450495, 20.46672214898168, 19.72910385847345, 18.267725043405047, 18.00663504385993, 17.79687984782608, 16.966103232870736, 15.69354011084877, 14.701463286355434, 14.569333019777021, 14.0299212929289, 13.261059489266952, 12.849076234958195, 12.301709135304662, 11.989553045109117, 11.804164861079693, 11.129616381478613, 11.070650614387587, 22.48598965513925, 20.40474400340731, 22.46968099136947, 75.27555682199385, 27.928403690333095, 48.11134251744523, 153.42267370202006, 135.9637098119191, 57.71642500225623, 55.48692859905802, 42.75655097753392, 40.32840569029333, 32.72697937509909, 27.041778486088162, 26.89211123283221, 26.392804091310488, 26.101380412929043, 25.311400547583386, 20.543988097832155, 20.374150297946894, 20.04747446045266, 15.747109353294679, 15.024017739096397, 13.87810376237455, 12.665519069480931, 12.665367353459018, 12.460884481388069, 12.375675509655622, 11.32280479794621, 11.084450631855356, 10.895783833418884, 10.294472045591203, 10.239767549445455, 10.000582316792705, 9.803001261825372, 9.514279090100452, 12.72700570109673, 11.607785998843589, 24.26401797870729, 28.23085819908309, 66.44624311356075, 47.92732639997849, 15.820286396433326, 38.93136114504816, 169.1121392303923, 58.09871171768641, 46.93436660916855, 41.94907703405731, 38.12367740371212, 36.15338787957783, 36.03362389475477, 27.35324253875581, 27.11912262236567, 26.183179805991692, 24.151500171192247, 19.680054311363474, 19.626387084123277, 19.02433346157712, 17.669087138664352, 17.66887254016708, 16.515023734036927, 15.561783705833829, 15.325231786925514, 15.187762323496024, 14.946490036473413, 14.683248439370542, 12.95237263376673, 12.70201629163681, 12.553076736643503, 10.994928799205606, 9.18831696483707, 8.737732436544773, 8.737767768728206, 8.486612972859918, 78.35112243213973, 19.053877056294077, 40.00484649523894, 64.34550455069684, 47.51323064578, 62.64571161811067, 18.46372034497139, 19.123045714758565, 49.796370307564295, 48.39681814434996, 47.02695959905463, 37.172363830531985, 36.910959512236126, 29.91608843997454, 26.39597576084071, 25.786880737280708, 23.73822712048243, 21.518700290165114, 18.56008045649261, 15.00557756196172, 14.402931685406099, 13.039263650553185, 12.500278582226398, 11.793245303243928, 11.66599557707762, 11.582761788386069, 11.426425694268783, 10.549620145736105, 10.46964742624555, 10.308199181508336, 9.852683918710353, 9.705786139647053, 8.82622216563643, 8.215399026137867, 8.215346741005531, 7.6932438273982555, 7.647316503871624, 7.412670930903143, 7.292279021290186, 44.56050453909432, 11.419100992698132, 38.034669560764904, 48.11134251744523, 38.93136114504816, 22.234211668227243, 98.39221113566207, 64.34550455069684, 64.62048285016385, 26.914349375136144, 19.172541326975036, 18.24966818006213, 17.32391951126305, 15.520777390137013, 14.868459816665814, 14.809192282263913, 14.797540050891342, 14.173751442676108, 14.080248430186542, 13.818536438603621, 11.525502423000598, 11.376513547072038, 10.905597010423776, 10.15291982042295, 10.139306418091342, 10.069283560791327, 9.650046438530495, 9.632259248118542, 9.570058281704942, 9.53705320471991, 9.511589681562532, 9.433860388848288, 8.812818785836345, 8.79624303213094, 7.962083468607994, 7.950467848439993, 7.898541887170996, 7.898016930684241, 35.6527458356673, 32.65410487217448, 13.534949481576554, 13.201411569082383, 122.62047415330258, 26.581083691936243, 54.0229411546521, 98.39221113566207, 37.897108927567345, 35.42651267905858, 33.545858301052796, 20.62665829212316, 17.556634330415346, 15.644745370711652, 14.40666351608113, 13.416234219360197, 11.319108791687354, 10.881741970727509, 10.698754214583202, 10.419116040483155, 10.028953482565322, 9.822913115352952, 9.46259794383068, 8.854753698538257, 8.845546773659976, 8.414867421953444, 8.228073456808323, 8.22663126974274, 8.186066100206734, 7.609472263126326, 7.1318466944432695, 6.990595921838683, 6.990548555789542, 6.990573771552231, 6.507039031539073, 6.281583522542423, 5.858742737966492, 5.845393779649675, 61.50113205795332, 8.704128255206564, 19.48145006720679, 25.18529794631841, 37.83287591096014, 62.64571161811067, 122.62047415330258, 16.203553803929157, 20.307392167799616, 95.05780010513396, 21.108245646971184, 20.855436599383534, 18.21536793277893, 15.511049068218052, 14.813884764250194, 13.950685709003801, 13.644688015893957, 13.566241590707076, 12.545236241975052, 11.950790020886625, 11.677308643414136, 11.511519984361314, 11.311707146628587, 10.563910587622596, 9.219636416354957, 8.891794155044721, 8.65842861916671, 8.519135170033223, 7.706753345873983, 7.563297997892343, 7.116970820035484, 7.001528488587353, 6.713305806356582, 6.544843300820836, 6.396212476724685, 6.190142595913677, 5.749105776642646, 5.647632141631597, 5.540980838557617, 5.384372799460156, 38.6980146726531, 23.31218105502449, 10.136176886689595, 13.077973903946438, 62.64571161811067, 44.56050453909432, 25.514328600008948, 50.26303548061012, 73.29359515135693, 66.44624311356075], \"Category\": [\"Default\", \"Default\", \"Default\", \"Default\", \"Default\", \"Default\", \"Default\", \"Default\", \"Default\", \"Default\", \"Default\", \"Default\", \"Default\", \"Default\", \"Default\", \"Default\", \"Default\", \"Default\", \"Default\", \"Default\", \"Default\", \"Default\", \"Default\", \"Default\", \"Default\", \"Default\", \"Default\", \"Default\", \"Default\", \"Default\", \"Topic1\", \"Topic1\", \"Topic1\", \"Topic1\", \"Topic1\", \"Topic1\", \"Topic1\", \"Topic1\", \"Topic1\", \"Topic1\", \"Topic1\", \"Topic1\", \"Topic1\", \"Topic1\", \"Topic1\", \"Topic1\", \"Topic1\", \"Topic1\", \"Topic1\", \"Topic1\", \"Topic1\", \"Topic1\", \"Topic1\", \"Topic1\", \"Topic1\", \"Topic1\", \"Topic1\", \"Topic1\", \"Topic1\", \"Topic1\", \"Topic1\", \"Topic1\", \"Topic1\", \"Topic1\", \"Topic1\", \"Topic1\", \"Topic1\", \"Topic1\", \"Topic1\", \"Topic1\", \"Topic2\", \"Topic2\", \"Topic2\", \"Topic2\", \"Topic2\", \"Topic2\", \"Topic2\", \"Topic2\", \"Topic2\", \"Topic2\", \"Topic2\", \"Topic2\", \"Topic2\", \"Topic2\", \"Topic2\", \"Topic2\", \"Topic2\", \"Topic2\", \"Topic2\", \"Topic2\", \"Topic2\", \"Topic2\", \"Topic2\", \"Topic2\", \"Topic2\", \"Topic2\", \"Topic2\", \"Topic2\", \"Topic2\", \"Topic2\", \"Topic2\", \"Topic2\", \"Topic2\", \"Topic2\", \"Topic2\", \"Topic2\", \"Topic2\", \"Topic2\", \"Topic2\", \"Topic2\", \"Topic3\", \"Topic3\", \"Topic3\", \"Topic3\", \"Topic3\", \"Topic3\", \"Topic3\", \"Topic3\", \"Topic3\", \"Topic3\", \"Topic3\", \"Topic3\", \"Topic3\", \"Topic3\", \"Topic3\", \"Topic3\", \"Topic3\", \"Topic3\", \"Topic3\", \"Topic3\", \"Topic3\", \"Topic3\", \"Topic3\", \"Topic3\", \"Topic3\", \"Topic3\", \"Topic3\", \"Topic3\", \"Topic3\", \"Topic3\", \"Topic3\", \"Topic3\", \"Topic3\", \"Topic3\", \"Topic3\", \"Topic3\", \"Topic3\", \"Topic3\", \"Topic3\", \"Topic3\", \"Topic4\", \"Topic4\", \"Topic4\", \"Topic4\", \"Topic4\", \"Topic4\", \"Topic4\", \"Topic4\", \"Topic4\", \"Topic4\", \"Topic4\", \"Topic4\", \"Topic4\", \"Topic4\", \"Topic4\", \"Topic4\", \"Topic4\", \"Topic4\", \"Topic4\", \"Topic4\", \"Topic4\", \"Topic4\", \"Topic4\", \"Topic4\", \"Topic4\", \"Topic4\", \"Topic4\", \"Topic4\", \"Topic4\", \"Topic4\", \"Topic4\", \"Topic4\", \"Topic4\", \"Topic4\", \"Topic4\", \"Topic4\", \"Topic5\", \"Topic5\", \"Topic5\", \"Topic5\", \"Topic5\", \"Topic5\", \"Topic5\", \"Topic5\", \"Topic5\", \"Topic5\", \"Topic5\", \"Topic5\", \"Topic5\", \"Topic5\", \"Topic5\", \"Topic5\", \"Topic5\", \"Topic5\", \"Topic5\", \"Topic5\", \"Topic5\", \"Topic5\", \"Topic5\", \"Topic5\", \"Topic5\", \"Topic5\", \"Topic5\", \"Topic5\", \"Topic5\", \"Topic5\", \"Topic5\", \"Topic5\", \"Topic5\", \"Topic5\", \"Topic5\", \"Topic5\", \"Topic5\", \"Topic5\", \"Topic6\", \"Topic6\", \"Topic6\", \"Topic6\", \"Topic6\", \"Topic6\", \"Topic6\", \"Topic6\", \"Topic6\", \"Topic6\", \"Topic6\", \"Topic6\", \"Topic6\", \"Topic6\", \"Topic6\", \"Topic6\", \"Topic6\", \"Topic6\", \"Topic6\", \"Topic6\", \"Topic6\", \"Topic6\", \"Topic6\", \"Topic6\", \"Topic6\", \"Topic6\", \"Topic6\", \"Topic6\", \"Topic6\", \"Topic6\", \"Topic6\", \"Topic6\", \"Topic6\", \"Topic6\", \"Topic6\", \"Topic6\", \"Topic6\", \"Topic6\", \"Topic6\", \"Topic7\", \"Topic7\", \"Topic7\", \"Topic7\", \"Topic7\", \"Topic7\", \"Topic7\", \"Topic7\", \"Topic7\", \"Topic7\", \"Topic7\", \"Topic7\", \"Topic7\", \"Topic7\", \"Topic7\", \"Topic7\", \"Topic7\", \"Topic7\", \"Topic7\", \"Topic7\", \"Topic7\", \"Topic7\", \"Topic7\", \"Topic7\", \"Topic7\", \"Topic7\", \"Topic7\", \"Topic7\", \"Topic7\", \"Topic7\", \"Topic7\", \"Topic7\", \"Topic7\", \"Topic7\", \"Topic7\", \"Topic7\", \"Topic7\", \"Topic7\", \"Topic8\", \"Topic8\", \"Topic8\", \"Topic8\", \"Topic8\", \"Topic8\", \"Topic8\", \"Topic8\", \"Topic8\", \"Topic8\", \"Topic8\", \"Topic8\", \"Topic8\", \"Topic8\", \"Topic8\", \"Topic8\", \"Topic8\", \"Topic8\", \"Topic8\", \"Topic8\", \"Topic8\", \"Topic8\", \"Topic8\", \"Topic8\", \"Topic8\", \"Topic8\", \"Topic8\", \"Topic8\", \"Topic8\", \"Topic8\", \"Topic8\", \"Topic8\", \"Topic8\", \"Topic8\", \"Topic8\", \"Topic8\", \"Topic8\", \"Topic8\", \"Topic9\", \"Topic9\", \"Topic9\", \"Topic9\", \"Topic9\", \"Topic9\", \"Topic9\", \"Topic9\", \"Topic9\", \"Topic9\", \"Topic9\", \"Topic9\", \"Topic9\", \"Topic9\", \"Topic9\", \"Topic9\", \"Topic9\", \"Topic9\", \"Topic9\", \"Topic9\", \"Topic9\", \"Topic9\", \"Topic9\", \"Topic9\", \"Topic9\", \"Topic9\", \"Topic9\", \"Topic9\", \"Topic9\", \"Topic9\", \"Topic9\", \"Topic9\", \"Topic9\", \"Topic9\", \"Topic9\", \"Topic9\", \"Topic9\", \"Topic9\", \"Topic9\", \"Topic9\", \"Topic10\", \"Topic10\", \"Topic10\", \"Topic10\", \"Topic10\", \"Topic10\", \"Topic10\", \"Topic10\", \"Topic10\", \"Topic10\", \"Topic10\", \"Topic10\", \"Topic10\", \"Topic10\", \"Topic10\", \"Topic10\", \"Topic10\", \"Topic10\", \"Topic10\", \"Topic10\", \"Topic10\", \"Topic10\", \"Topic10\", \"Topic10\", \"Topic10\", \"Topic10\", \"Topic10\", \"Topic10\", \"Topic10\", \"Topic10\", \"Topic10\", \"Topic10\", \"Topic10\", \"Topic10\", \"Topic10\", \"Topic10\", \"Topic10\", \"Topic10\", \"Topic10\", \"Topic10\"], \"logprob\": [30.0, 29.0, 28.0, 27.0, 26.0, 25.0, 24.0, 23.0, 22.0, 21.0, 20.0, 19.0, 18.0, 17.0, 16.0, 15.0, 14.0, 13.0, 12.0, 11.0, 10.0, 9.0, 8.0, 7.0, 6.0, 5.0, 4.0, 3.0, 2.0, 1.0, -3.723, -3.7395, -4.0993, -4.1321, -4.1531, -4.2745, -4.3834, -4.4814, -4.5056, -4.5248, -4.7007, -4.7522, -4.8294, -4.8406, -4.892, -4.9211, -4.9652, -5.0569, -5.1179, -5.1222, -5.135, -5.1506, -5.3046, -5.305, -5.3317, -5.3865, -5.4147, -5.4228, -5.4341, -5.4365, -4.4409, -4.6118, -5.1897, -5.1313, -4.7291, -4.6604, -4.9931, -5.2145, -4.9565, -5.1721, -3.2116, -3.7946, -3.8105, -3.9497, -4.0026, -4.023, -4.0756, -4.122, -4.1695, -4.2758, -4.4192, -4.5335, -4.6083, -4.6799, -4.6811, -4.721, -4.7604, -4.7632, -4.7678, -4.7824, -4.9057, -5.0936, -5.1253, -5.1358, -5.168, -5.2303, -5.2785, -5.28, -5.2894, -5.2907, -3.4891, -3.8789, -4.7449, -3.8435, -4.6249, -4.3055, -4.9352, -4.5966, -4.7449, -4.9156, -3.2915, -3.4948, -3.6196, -4.2442, -4.2923, -4.4024, -4.4132, -4.5479, -4.5679, -4.6318, -4.6709, -4.8227, -4.9422, -5.0011, -5.018, -5.0582, -5.0609, -5.11, -5.1256, -5.1318, -5.1637, -5.1652, -5.1778, -5.2371, -5.2549, -5.3597, -5.3649, -5.3904, -5.3904, -5.3949, -3.251, -3.9818, -3.4045, -4.7882, -4.201, -4.7463, -3.8192, -4.7298, -4.3865, -4.3101, -3.2815, -3.6475, -3.7868, -3.8867, -3.9964, -4.1138, -4.2195, -4.2442, -4.4035, -4.4604, -4.4869, -4.5371, -4.6184, -4.6263, -4.6643, -4.7444, -4.7593, -4.7716, -4.8214, -4.903, -4.9716, -4.9811, -5.0208, -5.0803, -5.1138, -5.1599, -5.1873, -5.2039, -5.2667, -5.2724, -4.7403, -4.8533, -5.0093, -4.782, -5.0204, -5.0207, -2.5744, -2.6958, -3.5599, -3.5998, -3.8644, -3.9239, -4.137, -4.3326, -4.3383, -4.3575, -4.369, -4.4006, -4.6161, -4.6247, -4.6415, -4.8932, -4.9425, -5.026, -5.1227, -5.1228, -5.14, -5.1473, -5.242, -5.2648, -5.2831, -5.3441, -5.3498, -5.3753, -5.3968, -5.4291, -5.1813, -5.2754, -4.8496, -4.9545, -4.6538, -4.9373, -5.21, -5.1111, -2.4437, -3.5204, -3.7369, -3.851, -3.9484, -4.0026, -4.006, -4.2882, -4.297, -4.3331, -4.4163, -4.6282, -4.631, -4.6634, -4.7404, -4.7404, -4.8109, -4.8732, -4.8893, -4.8988, -4.9156, -4.9343, -5.0667, -5.0874, -5.1, -5.2413, -5.4349, -5.4897, -5.4897, -5.5215, -3.3024, -4.7227, -4.0599, -3.6745, -4.0589, -4.2138, -4.8898, -4.9287, -4.7459, -3.3949, -3.4241, -3.6635, -3.6707, -3.8856, -4.0141, -4.0381, -4.1234, -4.2249, -4.3785, -4.6009, -4.644, -4.7491, -4.7939, -4.8559, -4.8675, -4.8751, -4.8896, -4.9752, -4.9834, -5.0001, -5.0489, -5.0651, -5.1683, -5.2468, -5.2468, -5.3192, -5.3258, -5.3603, -5.3785, -3.7696, -5.049, -4.3958, -4.3903, -4.684, -4.9662, -4.7772, -4.8468, -3.0022, -3.8944, -4.245, -4.2964, -4.3507, -4.4657, -4.5109, -4.5151, -4.5159, -4.5613, -4.5683, -4.5881, -4.7808, -4.7947, -4.84, -4.9169, -4.9183, -4.9258, -4.9717, -4.9737, -4.9808, -4.9845, -4.9874, -4.9963, -5.0704, -5.0724, -5.1817, -5.1833, -5.1905, -5.1906, -3.7822, -3.9816, -4.7576, -4.8411, -4.1013, -4.7259, -4.5194, -4.6056, -3.3872, -3.456, -3.5118, -4.0125, -4.1803, -4.301, -4.3878, -4.4631, -4.644, -4.6863, -4.7045, -4.733, -4.7742, -4.7966, -4.8371, -4.9094, -4.9106, -4.9652, -4.9899, -4.9901, -4.9955, -5.0762, -5.1484, -5.1707, -5.1707, -5.1707, -5.2513, -5.2913, -5.3708, -5.3734, -3.0418, -5.0171, -4.5932, -4.4615, -4.2443, -3.9949, -3.7668, -4.7689, -4.9487, -4.884, -3.8845, -3.897, -4.0377, -4.2058, -4.2542, -4.3175, -4.3409, -4.347, -4.4299, -4.4816, -4.5063, -4.5216, -4.5403, -4.6137, -4.7608, -4.8002, -4.8293, -4.847, -4.9573, -4.9781, -5.0457, -5.064, -5.1111, -5.1397, -5.1657, -5.2028, -5.2871, -5.3076, -5.3296, -5.3627, -3.6094, -4.2829, -4.9044, -4.8761, -4.3229, -4.4891, -4.7049, -4.6528, -4.8562, -4.8654], \"loglift\": [30.0, 29.0, 28.0, 27.0, 26.0, 25.0, 24.0, 23.0, 22.0, 21.0, 20.0, 19.0, 18.0, 17.0, 16.0, 15.0, 14.0, 13.0, 12.0, 11.0, 10.0, 9.0, 8.0, 7.0, 6.0, 5.0, 4.0, 3.0, 2.0, 1.0, 1.198, 1.1979, 1.1959, 1.1957, 1.1956, 1.1947, 1.1938, 1.1929, 1.1927, 1.1925, 1.1906, 1.1899, 1.1889, 1.1882, 1.1881, 1.1876, 1.187, 1.1855, 1.1845, 1.1844, 1.1841, 1.1839, 1.1808, 1.1808, 1.1802, 1.179, 1.1783, 1.1781, 1.1778, 1.1778, 1.1304, 1.0815, 1.139, 1.1247, 0.9375, 0.8056, 0.9592, 1.0276, 0.479, 0.358, 2.2532, 2.247, 2.2468, 2.2447, 2.2438, 2.2435, 2.2425, 2.2416, 2.2407, 2.2384, 2.235, 2.2319, 2.2297, 2.2274, 2.2273, 2.226, 2.2246, 2.2245, 2.2243, 2.2238, 2.219, 2.2105, 2.2089, 2.2084, 2.2067, 2.2033, 2.2006, 2.2005, 2.1999, 2.1998, 2.181, 2.1091, 2.0721, 1.6866, 1.9232, 1.7417, 2.058, 1.7132, 1.8505, 1.1987, 2.2832, 2.282, 2.2806, 2.2701, 2.269, 2.2662, 2.266, 2.2621, 2.2615, 2.2595, 2.2582, 2.2526, 2.2476, 2.2449, 2.2441, 2.2422, 2.2421, 2.2396, 2.2387, 2.2384, 2.2367, 2.2366, 2.2359, 2.2326, 2.2315, 2.2249, 2.2246, 2.2229, 2.2229, 2.2226, 2.1823, 2.1351, 1.9943, 2.1128, 1.9171, 2.0216, 1.6162, 1.9867, 1.6933, 1.1559, 2.3692, 2.365, 2.363, 2.3613, 2.3594, 2.357, 2.3546, 2.354, 2.3498, 2.3481, 2.3473, 2.3457, 2.343, 2.3427, 2.3413, 2.3383, 2.3377, 2.3372, 2.3351, 2.3315, 2.3282, 2.3278, 2.3258, 2.3226, 2.3208, 2.3181, 2.3165, 2.3155, 2.3115, 2.3111, 2.1345, 2.1188, 1.8663, 0.8846, 1.6377, 1.0936, 2.3802, 2.3796, 2.3723, 2.3718, 2.3679, 2.3668, 2.3626, 2.3578, 2.3577, 2.3572, 2.3568, 2.356, 2.3491, 2.3488, 2.3482, 2.3379, 2.3356, 2.3314, 2.3262, 2.3262, 2.3252, 2.3247, 2.3189, 2.3175, 2.3163, 2.3121, 2.3117, 2.3099, 2.3083, 2.3059, 2.2628, 2.2607, 1.9492, 1.6929, 1.1376, 1.1808, 2.0165, 1.2149, 2.4135, 2.4052, 2.4022, 2.4003, 2.3985, 2.3974, 2.3974, 2.3908, 2.3905, 2.3896, 2.3871, 2.38, 2.3799, 2.3787, 2.3756, 2.3756, 2.3726, 2.3697, 2.369, 2.3685, 2.3677, 2.3668, 2.3598, 2.3586, 2.3579, 2.349, 2.3349, 2.3305, 2.3305, 2.3278, 2.3242, 2.3178, 2.2389, 2.1491, 2.0678, 1.6365, 2.1821, 2.1082, 1.3339, 2.7134, 2.713, 2.7087, 2.7086, 2.7038, 2.7005, 2.6998, 2.6973, 2.694, 2.6883, 2.6785, 2.6763, 2.6707, 2.6681, 2.6643, 2.6636, 2.6631, 2.6622, 2.6565, 2.6559, 2.6547, 2.6512, 2.6499, 2.6417, 2.635, 2.635, 2.6283, 2.6276, 2.6243, 2.6224, 2.4214, 2.5035, 1.9535, 1.724, 1.642, 1.92, 0.6216, 0.9767, 2.817, 2.8007, 2.7893, 2.7873, 2.785, 2.7799, 2.7777, 2.7775, 2.7774, 2.7751, 2.7747, 2.7737, 2.7624, 2.7615, 2.7585, 2.7532, 2.7531, 2.7525, 2.7491, 2.7489, 2.7484, 2.7481, 2.7479, 2.7472, 2.7412, 2.741, 2.7314, 2.7312, 2.7306, 2.7306, 2.6318, 2.5202, 2.6249, 2.5663, 1.0773, 1.9817, 1.479, 0.7932, 2.9657, 2.9643, 2.9631, 2.9487, 2.9421, 2.9366, 2.9323, 2.9283, 2.9173, 2.9144, 2.9132, 2.9111, 2.9081, 2.9064, 2.9033, 2.8974, 2.8973, 2.8926, 2.8903, 2.8903, 2.8898, 2.8822, 2.8749, 2.8725, 2.8725, 2.8725, 2.8635, 2.8589, 2.8491, 2.8487, 2.8269, 2.8069, 2.4251, 2.3, 2.1103, 1.8554, 1.4119, 2.4337, 2.0281, 0.5493, 3.0536, 3.0531, 3.0478, 3.0404, 3.038, 3.0348, 3.0335, 3.0332, 3.0285, 3.0254, 3.0238, 3.0229, 3.0216, 3.0167, 3.0057, 3.0024, 3.0, 2.9985, 2.9884, 2.9864, 2.9796, 2.9776, 2.9726, 2.9694, 2.9664, 2.962, 2.9516, 2.9489, 2.946, 2.9415, 2.7226, 2.5559, 2.7672, 2.5407, 1.5273, 1.7018, 2.0436, 1.4177, 0.8371, 0.926]}, \"token.table\": {\"Topic\": [7, 3, 7, 3, 9, 7, 7, 10, 4, 9, 3, 1, 3, 3, 2, 10, 6, 6, 5, 6, 8, 1, 2, 9, 2, 2, 8, 8, 2, 1, 4, 1, 9, 7, 8, 9, 9, 10, 1, 3, 8, 9, 4, 3, 2, 8, 1, 7, 8, 5, 3, 3, 5, 5, 6, 3, 8, 7, 9, 2, 2, 3, 10, 7, 8, 4, 4, 7, 3, 2, 5, 8, 10, 6, 6, 5, 3, 9, 5, 2, 4, 5, 6, 3, 8, 1, 6, 1, 8, 6, 2, 8, 9, 9, 6, 2, 4, 9, 10, 2, 4, 9, 8, 2, 4, 6, 3, 6, 7, 4, 7, 4, 9, 3, 10, 6, 10, 6, 4, 5, 8, 9, 6, 10, 5, 5, 6, 7, 9, 8, 9, 1, 9, 9, 6, 10, 10, 6, 9, 10, 9, 9, 6, 2, 8, 2, 10, 2, 2, 8, 5, 5, 10, 3, 6, 4, 8, 10, 10, 3, 9, 7, 1, 3, 10, 7, 1, 6, 4, 8, 1, 4, 2, 4, 4, 4, 8, 1, 9, 2, 9, 9, 8, 8, 4, 8, 9, 5, 7, 3, 5, 3, 1, 3, 5, 6, 10, 1, 2, 3, 5, 6, 10, 2, 5, 1, 8, 9, 6, 2, 3, 6, 3, 10, 1, 8, 7, 9, 3, 9, 5, 9, 4, 10, 10, 3, 1, 9, 4, 10, 2, 4, 7, 9, 5, 5, 3, 1, 7, 4, 7, 4, 6, 7, 9, 10, 5, 1, 3, 9, 6, 9, 4, 4, 2, 5, 7, 2, 3, 1, 8, 8, 10, 5, 7, 1, 3, 5, 10, 1, 4, 2, 4, 8, 10, 3, 3, 4, 10, 5, 1, 10, 3, 5, 9, 8, 6, 9, 10, 4, 6, 6, 7, 10, 9, 7, 7, 10, 9, 7, 3, 2, 5, 1, 10, 4, 10, 2, 1, 6, 8, 3, 5, 1, 9, 4, 3, 7, 10, 4, 4, 6, 7, 10, 8, 7, 9, 7, 5, 3, 5, 10, 9, 10, 1, 1, 1, 2, 5, 7, 8, 9, 1, 1, 2, 3, 8, 8, 3, 3, 7, 1, 3, 6, 9, 4, 3, 7, 8, 7, 1, 2, 3, 4, 5, 7, 8, 9, 2, 2, 2, 9, 4, 1, 4, 1, 9, 9, 2, 4, 7, 7, 3, 1, 2, 1, 1, 8, 2, 6, 6, 6, 10, 5, 2, 2, 4, 5, 10, 1, 5, 4, 4, 1, 2, 8, 6, 2, 8, 7, 2, 1, 7, 9, 5, 1, 7, 8, 6, 7, 4, 3, 1, 2, 1, 7, 10, 6, 1, 10, 5, 7, 3, 5, 3, 6, 10, 2, 7, 7, 3, 9, 10, 8, 8, 9, 1, 5, 5, 1, 6, 1, 2, 4, 1, 2, 5, 6, 1, 6, 8, 10, 8, 4, 3, 1, 6, 5, 2, 1, 2, 3, 1, 6, 7, 2, 10, 10], \"Freq\": [0.9599193859098284, 0.9432037992991115, 0.9063900556624099, 0.9528321482699751, 0.8551115901474604, 0.9701015496420357, 0.740566121082585, 0.246855373694195, 0.9522861586841856, 0.9162251456681664, 0.9825272265134143, 0.22772954873492068, 0.7211435709939155, 0.9938104432499777, 0.9566096234783874, 0.8853267837935889, 0.9680844425701768, 0.9366747621572874, 0.9972450375696034, 0.9680973776670775, 0.9077685805655417, 0.9825300444242697, 0.9939415772140975, 0.9837279971746716, 0.9857318891201676, 0.9243678075193987, 0.9462140716021206, 0.9169603452650791, 0.9646104753237605, 0.35603531723804954, 0.5785573905118305, 0.9340123628207878, 0.04789806988824553, 0.8520638532590072, 0.8134015857759871, 0.16828998326399733, 0.9696190103482508, 0.9380551415128139, 0.9643615655745881, 0.15882281831749068, 0.31764563663498135, 0.5161741595318448, 0.9318744806986592, 0.9087714946702383, 0.9868984159153594, 0.8804513310966361, 0.4947330791007551, 0.4497573446370501, 0.04497573446370501, 0.9180861819377295, 0.9923290583406398, 0.32970631686064283, 0.6594126337212857, 0.9614752229915605, 0.9705254718265266, 0.9673184256988651, 0.9415904654971478, 0.13007890639251152, 0.8455128915513249, 0.9500471777237129, 0.13693992943179922, 0.8216395765907953, 0.9565383838567544, 0.9626807449959905, 0.9343602334787614, 0.985344368673772, 0.9609225062668151, 0.9693780675300303, 0.9487215641935294, 0.9764260836120227, 0.8643038479233252, 0.07857307708393865, 0.9466191442131939, 0.9426611093947491, 0.9870858989293384, 0.9021646928771754, 0.41064705000920004, 0.56463969376265, 0.9474542601981013, 0.10626669507685874, 0.10626669507685874, 0.4959112436920074, 0.2833778535382899, 0.9586149434218572, 0.8876346792263322, 0.9819604616844392, 0.9264711832576603, 0.9843531143883025, 0.9664464364737329, 0.9559409419501894, 0.839436820589164, 0.0839436820589164, 0.0419718410294582, 0.9551731627014244, 0.9621323312623082, 0.9043177543274236, 0.9339192779751643, 0.8042160908891476, 0.11488801298416394, 0.6726122010725641, 0.26904488042902563, 0.033630610053628204, 0.8791668697770894, 0.8009095877309182, 0.15017054769954719, 0.9773754966459267, 0.9146839852788382, 0.8124039857484769, 0.16248079714969538, 0.9771960480244805, 0.9153537710196896, 0.9949927407181803, 0.8583017415751767, 0.9293241572021601, 0.9204412411878284, 0.9654444901114524, 0.8997059379136926, 0.944731901178632, 0.25283992335952893, 0.6953097892387045, 0.9388426757320212, 0.9682949294301229, 0.946156670158987, 0.9255221732570478, 0.9459466045477313, 0.3082347918761718, 0.28254855921982414, 0.33392102453251943, 0.07705869796904295, 0.8938073841762687, 0.9511130086497779, 0.9728528179222252, 0.9587883755577977, 0.8582986455871021, 0.8706708780961018, 0.9419978811816256, 0.9023673146831453, 0.8249000531454957, 0.0749909139223178, 0.0749909139223178, 0.968975331486122, 0.8974017095249179, 0.9810888798528739, 0.9857646077062158, 0.8864445065247327, 0.9458861993631115, 0.9239551830791581, 0.9778689744507905, 0.9817077349006668, 0.9863193030361563, 0.9474656095721297, 0.9929120070844476, 0.8569557361339217, 0.9750137807020421, 0.9534674876481329, 0.15149895066403252, 0.7574947533201626, 0.9450593293249916, 0.9318538365185715, 0.8544896547103344, 0.12504726654297577, 0.9202973665994479, 0.9930846724637586, 0.3823222187720675, 0.6117155500353081, 0.9720243285042882, 0.9939569334676209, 0.9217947780458408, 0.9791435280686189, 0.9436877205996794, 0.7705024372938771, 0.22583692127579158, 0.9198033600755693, 0.06665241739678039, 0.9861585494362471, 0.24499216963123785, 0.7349765088937136, 0.9783523507247426, 0.9189705128921966, 0.5909178244475812, 0.3939452162983875, 0.9597743187757298, 0.9669043116316649, 0.917188371235153, 0.18514456990740746, 0.24685942654320994, 0.5554337097222224, 0.8614907270857886, 0.08614907270857886, 0.9345617338194221, 0.9696440400879519, 0.9773560748974585, 0.3762439955750914, 0.07524879911501828, 0.28594543663706945, 0.1354478384070329, 0.12039807858402925, 0.19895336412496778, 0.05968600923749033, 0.21884870053746455, 0.11937201847498066, 0.19895336412496778, 0.179058027712471, 0.7056503487528132, 0.2566001268192048, 0.9791232784232572, 0.9326379989286887, 0.8553743662928486, 0.9095102098999048, 0.9432937933254216, 0.20917170097611207, 0.7321009534163923, 0.9936533223274162, 0.8937474581179993, 0.9640529707433819, 0.9094791913749516, 0.7881531134329217, 0.17514513631842704, 0.9306554468051689, 0.8412968277451701, 0.9918567152687523, 0.9220783786478769, 0.9741643194144405, 0.9332778817719158, 0.9555645140645, 0.9778273703132753, 0.9872559625605059, 0.8507459293776537, 0.9820867777888167, 0.8430553042467139, 0.9780045020358874, 0.9698277685436849, 0.9551420017193486, 0.9879606360659172, 0.9578037484797745, 0.9876972217717476, 0.9781412620387651, 0.9298989337908383, 0.06038304764875574, 0.975474209966582, 0.978162322042285, 0.9430568575700415, 0.7615139603325924, 0.17095211354405135, 0.031082202462554793, 0.031082202462554793, 0.9318412852754002, 0.4849709960620218, 0.5060566915429793, 0.9717725401424695, 0.9061771905245317, 0.07657835412883367, 0.9630442485526118, 0.8985035653736936, 0.9151767646894979, 0.9714907389373381, 0.9098892686945163, 0.9879672133898806, 0.9552300351719977, 0.8502502676451292, 0.1417083779408549, 0.8862984292683148, 0.9286132640186627, 0.9735208132305354, 0.8520584304826838, 0.6739125512957784, 0.326086718368925, 0.9525557779187984, 0.9474970272041435, 0.9922525082262249, 0.9032892779584107, 0.5012817830632348, 0.46547594141586085, 0.9544052481432921, 0.8697004706912684, 0.9494059164302157, 0.1334164093291015, 0.800498455974609, 0.044472136443033834, 0.9765846687156058, 0.8868442033136728, 0.10915005579245203, 0.9749511254761033, 0.9713951289306463, 0.934688263645617, 0.9404331441957129, 0.4629207530881682, 0.3192556917849436, 0.20751619966021334, 0.9558072872054322, 0.9548114547293857, 0.9523217952081606, 0.9689013372087314, 0.8077358352456483, 0.8582959259962298, 0.9429113809723855, 0.975320080423969, 0.9390624564968373, 0.9718079578913753, 0.9496871472423443, 0.9668887784545919, 0.9908337489559894, 0.9777865422052294, 0.6270986099941658, 0.35274296812171824, 0.9174653932981444, 0.8677131763904039, 0.9054230627642064, 0.41382812407069053, 0.15048295420752383, 0.41382812407069053, 0.9899855370544844, 0.981636029357033, 0.5550727903800812, 0.42291260219434756, 0.9571964054093772, 0.9859219353607471, 0.3860642630887694, 0.6005444092491968, 0.9803138286591472, 0.9875774496094686, 0.9621440169061996, 0.19731305228367874, 0.6905956829928755, 0.8862395236986171, 0.984998631441837, 0.8534254231028836, 0.9684614130035752, 0.98511700045393, 0.9872698179230239, 0.9668262850354775, 0.9724438457795922, 0.9044098917460002, 0.9670525787153117, 0.9914786760780798, 0.9811897601457216, 0.15775081180643064, 0.1314590098386922, 0.1314590098386922, 0.4732524354192919, 0.07887540590321532, 0.9034695116726555, 0.9921600972689274, 0.4627663630610597, 0.07404261808976956, 0.18510654522442388, 0.25914916331419346, 0.9453587834609296, 0.9016510009449938, 0.7592612909302163, 0.19980560287637272, 0.9842749192190932, 0.5422081937546074, 0.3413903442158639, 0.10040892476937174, 0.9906938788943772, 0.7419286461542004, 0.12196087334041651, 0.13212427945211788, 0.9272819193116161, 0.25281259279134066, 0.0652419594300234, 0.10601818407378803, 0.0652419594300234, 0.05708671450127047, 0.07339720435877632, 0.17126014350381144, 0.20388112321882312, 0.9530508846213609, 0.96578980124501, 0.9923173439311319, 0.9199061062250424, 0.9440964377071005, 0.9958189986734157, 0.9844899723133497, 0.9272627359560051, 0.05151459644200028, 0.8508950711995266, 0.35334703025249775, 0.27020655254602766, 0.37413214967911523, 0.9443289827985303, 0.904351828955202, 0.4044056457057241, 0.5813331157019784, 0.9923341614763097, 0.9595198343612911, 0.9540103021493564, 0.9563475261801934, 0.915565646941474, 0.9155693491529594, 0.971315016836116, 0.9589825609592455, 0.9630135018042693, 0.9559446354012662, 0.09801642204705081, 0.7841313763764065, 0.09801642204705081, 0.9527517217584606, 0.9921802094373277, 0.9912244449034744, 0.9936443685319111, 0.9779671909316673, 0.9805872006802537, 0.9629162400939613, 0.981302181007453, 0.9934236581983203, 0.9635184908748124, 0.9232791640330291, 0.9134566859400516, 0.9330969824252479, 0.9693843285970938, 0.9694852299005248, 0.9763277739924175, 0.9823056125848073, 0.9923017260505264, 0.9918007389831622, 0.9461032003867899, 0.9587330815251852, 0.9599786053618259, 0.9796773762404027, 0.9769711643665584, 0.9955959291593698, 0.9726009979092679, 0.989648443260877, 0.9327373184524761, 0.9167522772084546, 0.9688148353686299, 0.9961041378546683, 0.9582609828285121, 0.9875871556107603, 0.947901427905132, 0.6885424762607832, 0.2921089293227565, 0.9792101192408584, 0.8922068694877183, 0.05248275702868931, 0.9922008166236844, 0.9698233820804001, 0.9758953708555447, 0.8941927953938548, 0.08415932191942162, 0.010519915239927702, 0.9903980468297866, 0.9660274390292031, 0.9506982818444529, 0.9930122011129512, 0.8999475945403145, 0.9177861962834294, 0.9798967439518199, 0.9638997870389866, 0.388746825287399, 0.6025575791954685, 0.9265910854790054, 0.42880623808147106, 0.5678785315132995, 0.9477503032853841, 0.98009205883294, 0.7777973586339939, 0.2121265523547256, 0.8127108279918542, 0.14776560508942804, 0.9407653305224895, 0.955223620396391, 0.9306382978271067, 0.9905827497168253, 0.9787780184047212, 0.9367273960902922, 0.970538102369037, 0.9898674073881981, 0.8610410431031507, 0.1282401553557884, 0.2736079997783654, 0.6945433840527738, 0.9329864140310865, 0.2842523083690239, 0.6977102114512405, 0.9082942824098085], \"Term\": [\"ad\", \"add\", \"agreement\", \"ahead\", \"aim\", \"allegation\", \"american_eagle\", \"american_eagle\", \"analyst\", \"answer\", \"apologize\", \"app\", \"app\", \"apple\", \"apple_release\", \"area\", \"asian\", \"average\", \"bachelor\", \"bad\", \"balance\", \"ban\", \"ban_bossy\", \"bank\", \"bankruptcy\", \"bankruptcy_protection\", \"bean\", \"beat\", \"beyonce\", \"bieber\", \"bieber\", \"big\", \"big\", \"billboard\", \"bitcoin\", \"bitcoin\", \"bitcoin_exchange\", \"blame\", \"blind_audition\", \"boe\", \"boe\", \"boe\", \"book\", \"boss\", \"bossy\", \"boyfriend\", \"break\", \"break\", \"break\", \"brief\", \"bring\", \"business\", \"business\", \"call\", \"campaign\", \"cannabis\", \"card\", \"carney\", \"carney\", \"carney_face\", \"carplay\", \"carplay\", \"carry\", \"case\", \"cash\", \"ceo\", \"ceremony\", \"change\", \"channel\", \"chapter\", \"chef\", \"chef\", \"child\", \"china\", \"chinese\", \"chris_harrison\", \"claim\", \"claim\", \"clare\", \"close\", \"close\", \"close\", \"close\", \"colorado\", \"comcast\", \"come\", \"commodity\", \"company\", \"concern\", \"confidence\", \"continue\", \"continue\", \"continue\", \"control\", \"copper\", \"costume_change\", \"cressida_bona\", \"crude\", \"crude\", \"currency\", \"currency\", \"currency\", \"customer\", \"dance\", \"dance\", \"datum\", \"debut\", \"decline\", \"decline\", \"defend\", \"delay\", \"deposition\", \"deputy_governor\", \"detail\", \"device\", \"dip\", \"disappoint\", \"discouraging_new\", \"docu_serie\", \"docu_serie\", \"earning\", \"economy\", \"edge\", \"employee\", \"encryption\", \"end\", \"end\", \"end\", \"end\", \"engagement\", \"england\", \"episode\", \"escape\", \"escort\", \"estimate\", \"expect\", \"explain\", \"export\", \"export\", \"export\", \"face\", \"fail\", \"fall\", \"fan\", \"fast\", \"feature\", \"feel\", \"fight\", \"file\", \"film\", \"final_rose\", \"finale\", \"fire\", \"fix\", \"flat\", \"follow\", \"follow\", \"force\", \"forecast\", \"forex\", \"forex\", \"fuel\", \"fyffe\", \"gain\", \"gain\", \"galavis\", \"game\", \"gas_price\", \"george_clooney\", \"george_zimmerman\", \"get\", \"get\", \"girl\", \"girl\", \"girlfriend\", \"go\", \"go\", \"good\", \"government\", \"grill\", \"grill\", \"growth_worrie\", \"gun\", \"hack\", \"hacker\", \"hacker\", \"hacker\", \"happen\", \"happen\", \"hbo\", \"head\", \"help\", \"high\", \"high\", \"high\", \"high\", \"high\", \"hit\", \"hit\", \"hit\", \"hit\", \"hit\", \"hit\", \"hold\", \"hold\", \"host\", \"house\", \"inch\", \"industrial\", \"internet\", \"investor\", \"investor\", \"io\", \"ipad_model\", \"iphone\", \"iron_man\", \"issue\", \"issue\", \"january\", \"job\", \"juan_pablo\", \"jump\", \"justin_bieber\", \"kid\", \"kill\", \"know\", \"launch\", \"lawmaker\", \"leak\", \"lean\", \"leave\", \"legal\", \"let\", \"libyan\", \"lindsay\", \"lindsay_lohan\", \"list\", \"live\", \"live\", \"lose\", \"loss\", \"love\", \"low\", \"low\", \"low\", \"low\", \"m\", \"make\", \"make\", \"mark_carney\", \"market\", \"market\", \"marrie\", \"marries_jared\", \"mean\", \"meet\", \"message\", \"miley_cyrus\", \"minute\", \"miss\", \"miss\", \"mixed\", \"mobile\", \"money\", \"money_maker\", \"month\", \"month\", \"move\", \"mp\", \"music\", \"musical\", \"naked\", \"naked\", \"name\", \"national\", \"need\", \"neighbor\", \"neighbor\", \"neighbor\", \"neil_degrasse\", \"neil_young\", \"neil_young\", \"net\", \"nikki_ferrell\", \"north_korean\", \"number\", \"oil\", \"oil\", \"oil\", \"online\", \"open\", \"oust\", \"outfitter\", \"outlook\", \"overheat\", \"oversight\", \"parent\", \"parenting\", \"parliament\", \"party\", \"percent\", \"perform\", \"pick\", \"plan\", \"plan\", \"pobre\", \"ponoplayer\", \"port\", \"post\", \"post\", \"post\", \"pot\", \"premiere\", \"price\", \"price\", \"prince_harry\", \"probe\", \"profit\", \"profit\", \"propose\", \"public\", \"public_transit\", \"quarter\", \"quarter\", \"quarterly\", \"question\", \"quick\", \"rate\", \"rating\", \"read\", \"reality\", \"rebel\", \"rebel_oil\", \"rebel_port\", \"recall\", \"recap\", \"record\", \"record\", \"record\", \"record\", \"record\", \"recovery\", \"release\", \"report\", \"report\", \"report\", \"report\", \"result\", \"return\", \"revenue\", \"revenue\", \"review\", \"rise\", \"rise\", \"rise\", \"s\", \"sale\", \"sale\", \"sale\", \"saturday_night\", \"say\", \"say\", \"say\", \"say\", \"say\", \"say\", \"say\", \"say\", \"sbarro\", \"sbarro_file\", \"scandal\", \"sea\", \"search\", \"season\", \"secret\", \"see\", \"see\", \"seize\", \"selena_gomez\", \"selena_gomez\", \"selena_gomez\", \"send\", \"service\", \"set\", \"set\", \"share\", \"show\", \"sign\", \"singer\", \"sink\", \"slide\", \"slip\", \"smartphone\", \"snapshot\", \"sneak\", \"snowden\", \"snowden\", \"snowden\", \"soon\", \"speak\", \"spoiler\", \"stacy_keibl\", \"star\", \"start\", \"steady\", \"sterling\", \"stock\", \"stop\", \"store\", \"story\", \"stream\", \"surprise\", \"talk\", \"tanker\", \"tax\", \"taxis\", \"taylor_swift\", \"team\", \"tech\", \"technology\", \"tell\", \"thing\", \"throne\", \"time\", \"titanfall\", \"top\", \"track\", \"trading\", \"trailer\", \"train\", \"true_detective\", \"turn\", \"tv\", \"tv\", \"twitter\", \"ukraine\", \"ukraine\", \"underwear\", \"unicredit\", \"unicredit_post\", \"update\", \"update\", \"update\", \"urban_outfitter\", \"urbn\", \"usd\", \"video\", \"view\", \"viewer\", \"voice\", \"wall_street\", \"want\", \"want\", \"war\", \"watch\", \"watch\", \"way\", \"weak\", \"wearable\", \"wearable\", \"weather\", \"weather\", \"wed\", \"wedding\", \"weed\", \"week\", \"weigh\", \"win\", \"winner\", \"woman\", \"word\", \"word\", \"world\", \"world\", \"worry\", \"year\", \"year\", \"young\"]}, \"R\": 30, \"lambda.step\": 0.01, \"plot.opts\": {\"xlab\": \"PC1\", \"ylab\": \"PC2\"}, \"topic.order\": [5, 2, 7, 4, 1, 6, 9, 10, 3, 8]};\n",
              "\n",
              "function LDAvis_load_lib(url, callback){\n",
              "  var s = document.createElement('script');\n",
              "  s.src = url;\n",
              "  s.async = true;\n",
              "  s.onreadystatechange = s.onload = callback;\n",
              "  s.onerror = function(){console.warn(\"failed to load library \" + url);};\n",
              "  document.getElementsByTagName(\"head\")[0].appendChild(s);\n",
              "}\n",
              "\n",
              "if(typeof(LDAvis) !== \"undefined\"){\n",
              "   // already loaded: just create the visualization\n",
              "   !function(LDAvis){\n",
              "       new LDAvis(\"#\" + \"ldavis_el11671343859995337129686390269\", ldavis_el11671343859995337129686390269_data);\n",
              "   }(LDAvis);\n",
              "}else if(typeof define === \"function\" && define.amd){\n",
              "   // require.js is available: use it to load d3/LDAvis\n",
              "   require.config({paths: {d3: \"https://d3js.org/d3.v5\"}});\n",
              "   require([\"d3\"], function(d3){\n",
              "      window.d3 = d3;\n",
              "      LDAvis_load_lib(\"https://cdn.jsdelivr.net/gh/bmabey/pyLDAvis@3.4.0/pyLDAvis/js/ldavis.v3.0.0.js\", function(){\n",
              "        new LDAvis(\"#\" + \"ldavis_el11671343859995337129686390269\", ldavis_el11671343859995337129686390269_data);\n",
              "      });\n",
              "    });\n",
              "}else{\n",
              "    // require.js not available: dynamically load d3 & LDAvis\n",
              "    LDAvis_load_lib(\"https://d3js.org/d3.v5.js\", function(){\n",
              "         LDAvis_load_lib(\"https://cdn.jsdelivr.net/gh/bmabey/pyLDAvis@3.4.0/pyLDAvis/js/ldavis.v3.0.0.js\", function(){\n",
              "                 new LDAvis(\"#\" + \"ldavis_el11671343859995337129686390269\", ldavis_el11671343859995337129686390269_data);\n",
              "            })\n",
              "         });\n",
              "}\n",
              "</script>"
            ]
          },
          "metadata": {},
          "execution_count": 34
        }
      ]
    },
    {
      "cell_type": "markdown",
      "source": [
        "Additional Work\n",
        "  - Finding the suitable number of extracted topic by computing coherence score"
      ],
      "metadata": {
        "id": "fkpNf3VhZT0e"
      }
    },
    {
      "cell_type": "code",
      "source": [
        "def compute_coherence_values(dictionary, corpus, texts, limit, start=2, step=3):\n",
        "    coherence_values = []\n",
        "    model_list = []\n",
        "    for num_topics in range(start, limit, step):\n",
        "        model = LdaModel(corpus=corpus, num_topics=num_topics, id2word=news_id2word)\n",
        "        model_list.append(model)\n",
        "        coherencemodel = CoherenceModel(model=model, texts=texts, dictionary=dictionary, coherence='c_v')\n",
        "        coherence_values.append(coherencemodel.get_coherence())\n",
        "\n",
        "    return model_list, coherence_values"
      ],
      "metadata": {
        "id": "AoGveyo12UYP"
      },
      "execution_count": null,
      "outputs": []
    },
    {
      "cell_type": "code",
      "source": [
        "model_list, coherence_values = compute_coherence_values(dictionary=news_id2word, corpus=news_corpus, texts=news_words_lemmatized, start=2, limit=50, step=1)"
      ],
      "metadata": {
        "id": "WaY-xkDy484s",
        "colab": {
          "base_uri": "https://localhost:8080/"
        },
        "outputId": "687760b0-d675-449c-afa2-2246a6b45457"
      },
      "execution_count": null,
      "outputs": [
        {
          "output_type": "stream",
          "name": "stderr",
          "text": [
            "WARNING:gensim.models.ldamodel:too few updates, training might not converge; consider increasing the number of passes or iterations to improve accuracy\n",
            "WARNING:gensim.models.ldamodel:too few updates, training might not converge; consider increasing the number of passes or iterations to improve accuracy\n",
            "WARNING:gensim.models.ldamodel:too few updates, training might not converge; consider increasing the number of passes or iterations to improve accuracy\n",
            "WARNING:gensim.models.ldamodel:too few updates, training might not converge; consider increasing the number of passes or iterations to improve accuracy\n",
            "WARNING:gensim.models.ldamodel:too few updates, training might not converge; consider increasing the number of passes or iterations to improve accuracy\n",
            "WARNING:gensim.models.ldamodel:too few updates, training might not converge; consider increasing the number of passes or iterations to improve accuracy\n",
            "WARNING:gensim.models.ldamodel:too few updates, training might not converge; consider increasing the number of passes or iterations to improve accuracy\n",
            "WARNING:gensim.models.ldamodel:too few updates, training might not converge; consider increasing the number of passes or iterations to improve accuracy\n",
            "WARNING:gensim.models.ldamodel:too few updates, training might not converge; consider increasing the number of passes or iterations to improve accuracy\n",
            "WARNING:gensim.models.ldamodel:too few updates, training might not converge; consider increasing the number of passes or iterations to improve accuracy\n",
            "WARNING:gensim.models.ldamodel:too few updates, training might not converge; consider increasing the number of passes or iterations to improve accuracy\n",
            "WARNING:gensim.models.ldamodel:too few updates, training might not converge; consider increasing the number of passes or iterations to improve accuracy\n",
            "WARNING:gensim.models.ldamodel:too few updates, training might not converge; consider increasing the number of passes or iterations to improve accuracy\n",
            "WARNING:gensim.models.ldamodel:too few updates, training might not converge; consider increasing the number of passes or iterations to improve accuracy\n",
            "WARNING:gensim.models.ldamodel:too few updates, training might not converge; consider increasing the number of passes or iterations to improve accuracy\n",
            "WARNING:gensim.models.ldamodel:too few updates, training might not converge; consider increasing the number of passes or iterations to improve accuracy\n",
            "WARNING:gensim.models.ldamodel:too few updates, training might not converge; consider increasing the number of passes or iterations to improve accuracy\n",
            "WARNING:gensim.models.ldamodel:too few updates, training might not converge; consider increasing the number of passes or iterations to improve accuracy\n",
            "WARNING:gensim.models.ldamodel:too few updates, training might not converge; consider increasing the number of passes or iterations to improve accuracy\n",
            "WARNING:gensim.models.ldamodel:too few updates, training might not converge; consider increasing the number of passes or iterations to improve accuracy\n",
            "WARNING:gensim.models.ldamodel:too few updates, training might not converge; consider increasing the number of passes or iterations to improve accuracy\n",
            "WARNING:gensim.models.ldamodel:too few updates, training might not converge; consider increasing the number of passes or iterations to improve accuracy\n",
            "WARNING:gensim.models.ldamodel:too few updates, training might not converge; consider increasing the number of passes or iterations to improve accuracy\n",
            "WARNING:gensim.models.ldamodel:too few updates, training might not converge; consider increasing the number of passes or iterations to improve accuracy\n",
            "WARNING:gensim.models.ldamodel:too few updates, training might not converge; consider increasing the number of passes or iterations to improve accuracy\n",
            "WARNING:gensim.models.ldamodel:too few updates, training might not converge; consider increasing the number of passes or iterations to improve accuracy\n",
            "WARNING:gensim.models.ldamodel:too few updates, training might not converge; consider increasing the number of passes or iterations to improve accuracy\n",
            "WARNING:gensim.models.ldamodel:too few updates, training might not converge; consider increasing the number of passes or iterations to improve accuracy\n",
            "WARNING:gensim.models.ldamodel:too few updates, training might not converge; consider increasing the number of passes or iterations to improve accuracy\n",
            "WARNING:gensim.models.ldamodel:too few updates, training might not converge; consider increasing the number of passes or iterations to improve accuracy\n",
            "WARNING:gensim.models.ldamodel:too few updates, training might not converge; consider increasing the number of passes or iterations to improve accuracy\n",
            "WARNING:gensim.models.ldamodel:too few updates, training might not converge; consider increasing the number of passes or iterations to improve accuracy\n",
            "WARNING:gensim.models.ldamodel:too few updates, training might not converge; consider increasing the number of passes or iterations to improve accuracy\n",
            "WARNING:gensim.models.ldamodel:too few updates, training might not converge; consider increasing the number of passes or iterations to improve accuracy\n",
            "WARNING:gensim.models.ldamodel:too few updates, training might not converge; consider increasing the number of passes or iterations to improve accuracy\n",
            "WARNING:gensim.models.ldamodel:too few updates, training might not converge; consider increasing the number of passes or iterations to improve accuracy\n",
            "WARNING:gensim.models.ldamodel:too few updates, training might not converge; consider increasing the number of passes or iterations to improve accuracy\n",
            "WARNING:gensim.models.ldamodel:too few updates, training might not converge; consider increasing the number of passes or iterations to improve accuracy\n",
            "WARNING:gensim.models.ldamodel:too few updates, training might not converge; consider increasing the number of passes or iterations to improve accuracy\n",
            "WARNING:gensim.models.ldamodel:too few updates, training might not converge; consider increasing the number of passes or iterations to improve accuracy\n",
            "WARNING:gensim.models.ldamodel:too few updates, training might not converge; consider increasing the number of passes or iterations to improve accuracy\n",
            "WARNING:gensim.models.ldamodel:too few updates, training might not converge; consider increasing the number of passes or iterations to improve accuracy\n",
            "WARNING:gensim.models.ldamodel:too few updates, training might not converge; consider increasing the number of passes or iterations to improve accuracy\n",
            "WARNING:gensim.models.ldamodel:too few updates, training might not converge; consider increasing the number of passes or iterations to improve accuracy\n",
            "WARNING:gensim.models.ldamodel:too few updates, training might not converge; consider increasing the number of passes or iterations to improve accuracy\n",
            "WARNING:gensim.models.ldamodel:too few updates, training might not converge; consider increasing the number of passes or iterations to improve accuracy\n",
            "WARNING:gensim.models.ldamodel:too few updates, training might not converge; consider increasing the number of passes or iterations to improve accuracy\n",
            "WARNING:gensim.models.ldamodel:too few updates, training might not converge; consider increasing the number of passes or iterations to improve accuracy\n"
          ]
        }
      ]
    },
    {
      "cell_type": "code",
      "source": [
        "limit=50; start=2; step=1;\n",
        "x = range(start, limit, step)\n",
        "plt.plot(x, coherence_values)\n",
        "plt.xlabel(\"Num Topics\")\n",
        "plt.ylabel(\"Coherence score\")\n",
        "plt.legend((\"coherence_values\"), loc='best')\n",
        "plt.show()"
      ],
      "metadata": {
        "colab": {
          "base_uri": "https://localhost:8080/",
          "height": 506
        },
        "id": "6xB2FnkAcw72",
        "outputId": "43adefa5-a1a8-4ddd-fd79-eafd577b3700"
      },
      "execution_count": null,
      "outputs": [
        {
          "output_type": "stream",
          "name": "stderr",
          "text": [
            "/usr/local/lib/python3.10/dist-packages/ipykernel/ipkernel.py:283: DeprecationWarning: `should_run_async` will not call `transform_cell` automatically in the future. Please pass the result to `transformed_cell` argument and any exception that happen during thetransform in `preprocessing_exc_tuple` in IPython 7.17 and above.\n",
            "  and should_run_async(code)\n"
          ]
        },
        {
          "output_type": "display_data",
          "data": {
            "text/plain": [
              "<Figure size 640x480 with 1 Axes>"
            ],
            "image/png": "[encoded data removed]"
          },
          "metadata": {}
        }
      ]
    },
    {
      "cell_type": "markdown",
      "source": [
        "This is the graph representing the suitable number of topic can be selected in the given dataset.\n",
        "We can select 23 topics"
      ],
      "metadata": {
        "id": "U_e2SwLwXNTG"
      }
    },
    {
      "cell_type": "markdown",
      "source": [
        "<b>Question 5 - Plot the dependency parser for any two random sentences from the entire corpus/dataset that has at least 10 words in the sentence. Make sure that dependency parser looks good and should visually understandable.</b>"
      ],
      "metadata": {
        "id": "_ZFe8J9o4qv_"
      }
    },
    {
      "cell_type": "code",
      "source": [
        "nlp = spacy.load('en_core_web_sm')"
      ],
      "metadata": {
        "id": "LC2KK0o9X7ot"
      },
      "execution_count": null,
      "outputs": []
    },
    {
      "cell_type": "code",
      "source": [
        "sentences = data_df.TITLE.values.tolist()\n",
        "long_sentences = [sentence for sentence in sentences if len(sentence.split()) > 10]"
      ],
      "metadata": {
        "id": "kjXm-HwZ5VYZ"
      },
      "execution_count": null,
      "outputs": []
    },
    {
      "cell_type": "code",
      "source": [
        "sentences[:5]"
      ],
      "metadata": {
        "colab": {
          "base_uri": "https://localhost:8080/"
        },
        "id": "p5x9Zjvh4x9g",
        "outputId": "78bc8ac5-c276-4f48-8539-ae3210f7570c"
      },
      "execution_count": null,
      "outputs": [
        {
          "output_type": "execute_result",
          "data": {
            "text/plain": [
              "['Fed official says weak data caused by weather, should not slow taper',\n",
              " \"Fed's Charles Plosser sees high bar for change in pace of tapering\",\n",
              " 'US open: Stocks fall after Fed official hints at accelerated tapering',\n",
              " \"Fed risks falling 'behind the curve', Charles Plosser says\",\n",
              " \"Fed's Plosser: Nasty Weather Has Curbed Job Growth\"]"
            ]
          },
          "metadata": {},
          "execution_count": 39
        }
      ]
    },
    {
      "cell_type": "code",
      "source": [
        "selected_sentence_1 = random.choice(long_sentences)\n",
        "selected_sentence_2 = random.choice(long_sentences)"
      ],
      "metadata": {
        "id": "q5MuJ6VB5JYj"
      },
      "execution_count": null,
      "outputs": []
    },
    {
      "cell_type": "code",
      "source": [
        "print(selected_sentence_1)"
      ],
      "metadata": {
        "colab": {
          "base_uri": "https://localhost:8080/"
        },
        "id": "OD8mdNXO5L4y",
        "outputId": "88747d10-0640-4661-e338-1e82413c1d98"
      },
      "execution_count": null,
      "outputs": [
        {
          "output_type": "stream",
          "name": "stdout",
          "text": [
            "The Bachelor 2014 Winner Spoilers - Is It Nikki Ferrell Or Clare Crawley?\n"
          ]
        }
      ]
    },
    {
      "cell_type": "code",
      "source": [],
      "metadata": {
        "id": "rBJOzJV05Qr8"
      },
      "execution_count": null,
      "outputs": []
    },
    {
      "cell_type": "code",
      "source": [
        "#displacy.render(nlp(selected_sentence_1), style='dep', jupyter=True, options={'distance': 140})"
      ],
      "metadata": {
        "colab": {
          "base_uri": "https://localhost:8080/",
          "height": 389
        },
        "id": "WRJdHCP6UYCV",
        "outputId": "66f7eec6-2b5e-4e95-bbeb-8940a738fd87"
      },
      "execution_count": null,
      "outputs": [
        {
          "output_type": "display_data",
          "data": {
            "text/plain": [
              "<IPython.core.display.HTML object>"
            ],
            "text/html": [
              "<span class=\"tex2jax_ignore\"><svg xmlns=\"http://www.w3.org/2000/svg\" xmlns:xlink=\"http://www.w3.org/1999/xlink\" xml:lang=\"en\" id=\"195120141eb640b3b152f9e0b361ee46-0\" class=\"displacy\" width=\"1730\" height=\"347.0\" direction=\"ltr\" style=\"max-width: none; height: 347.0px; color: #000000; background: #ffffff; font-family: Arial; direction: ltr\">\n",
              "<text class=\"displacy-token\" fill=\"currentColor\" text-anchor=\"middle\" y=\"257.0\">\n",
              "    <tspan class=\"displacy-word\" fill=\"currentColor\" x=\"50\">The</tspan>\n",
              "    <tspan class=\"displacy-tag\" dy=\"2em\" fill=\"currentColor\" x=\"50\">DET</tspan>\n",
              "</text>\n",
              "\n",
              "<text class=\"displacy-token\" fill=\"currentColor\" text-anchor=\"middle\" y=\"257.0\">\n",
              "    <tspan class=\"displacy-word\" fill=\"currentColor\" x=\"190\">Bachelor</tspan>\n",
              "    <tspan class=\"displacy-tag\" dy=\"2em\" fill=\"currentColor\" x=\"190\">PROPN</tspan>\n",
              "</text>\n",
              "\n",
              "<text class=\"displacy-token\" fill=\"currentColor\" text-anchor=\"middle\" y=\"257.0\">\n",
              "    <tspan class=\"displacy-word\" fill=\"currentColor\" x=\"330\">2014</tspan>\n",
              "    <tspan class=\"displacy-tag\" dy=\"2em\" fill=\"currentColor\" x=\"330\">NUM</tspan>\n",
              "</text>\n",
              "\n",
              "<text class=\"displacy-token\" fill=\"currentColor\" text-anchor=\"middle\" y=\"257.0\">\n",
              "    <tspan class=\"displacy-word\" fill=\"currentColor\" x=\"470\">Winner</tspan>\n",
              "    <tspan class=\"displacy-tag\" dy=\"2em\" fill=\"currentColor\" x=\"470\">PROPN</tspan>\n",
              "</text>\n",
              "\n",
              "<text class=\"displacy-token\" fill=\"currentColor\" text-anchor=\"middle\" y=\"257.0\">\n",
              "    <tspan class=\"displacy-word\" fill=\"currentColor\" x=\"610\">Spoilers -</tspan>\n",
              "    <tspan class=\"displacy-tag\" dy=\"2em\" fill=\"currentColor\" x=\"610\">NOUN</tspan>\n",
              "</text>\n",
              "\n",
              "<text class=\"displacy-token\" fill=\"currentColor\" text-anchor=\"middle\" y=\"257.0\">\n",
              "    <tspan class=\"displacy-word\" fill=\"currentColor\" x=\"750\">Is</tspan>\n",
              "    <tspan class=\"displacy-tag\" dy=\"2em\" fill=\"currentColor\" x=\"750\">AUX</tspan>\n",
              "</text>\n",
              "\n",
              "<text class=\"displacy-token\" fill=\"currentColor\" text-anchor=\"middle\" y=\"257.0\">\n",
              "    <tspan class=\"displacy-word\" fill=\"currentColor\" x=\"890\">It</tspan>\n",
              "    <tspan class=\"displacy-tag\" dy=\"2em\" fill=\"currentColor\" x=\"890\">PRON</tspan>\n",
              "</text>\n",
              "\n",
              "<text class=\"displacy-token\" fill=\"currentColor\" text-anchor=\"middle\" y=\"257.0\">\n",
              "    <tspan class=\"displacy-word\" fill=\"currentColor\" x=\"1030\">Nikki</tspan>\n",
              "    <tspan class=\"displacy-tag\" dy=\"2em\" fill=\"currentColor\" x=\"1030\">PROPN</tspan>\n",
              "</text>\n",
              "\n",
              "<text class=\"displacy-token\" fill=\"currentColor\" text-anchor=\"middle\" y=\"257.0\">\n",
              "    <tspan class=\"displacy-word\" fill=\"currentColor\" x=\"1170\">Ferrell</tspan>\n",
              "    <tspan class=\"displacy-tag\" dy=\"2em\" fill=\"currentColor\" x=\"1170\">PROPN</tspan>\n",
              "</text>\n",
              "\n",
              "<text class=\"displacy-token\" fill=\"currentColor\" text-anchor=\"middle\" y=\"257.0\">\n",
              "    <tspan class=\"displacy-word\" fill=\"currentColor\" x=\"1310\">Or</tspan>\n",
              "    <tspan class=\"displacy-tag\" dy=\"2em\" fill=\"currentColor\" x=\"1310\">CCONJ</tspan>\n",
              "</text>\n",
              "\n",
              "<text class=\"displacy-token\" fill=\"currentColor\" text-anchor=\"middle\" y=\"257.0\">\n",
              "    <tspan class=\"displacy-word\" fill=\"currentColor\" x=\"1450\">Clare</tspan>\n",
              "    <tspan class=\"displacy-tag\" dy=\"2em\" fill=\"currentColor\" x=\"1450\">PROPN</tspan>\n",
              "</text>\n",
              "\n",
              "<text class=\"displacy-token\" fill=\"currentColor\" text-anchor=\"middle\" y=\"257.0\">\n",
              "    <tspan class=\"displacy-word\" fill=\"currentColor\" x=\"1590\">Crawley?</tspan>\n",
              "    <tspan class=\"displacy-tag\" dy=\"2em\" fill=\"currentColor\" x=\"1590\">PROPN</tspan>\n",
              "</text>\n",
              "\n",
              "<g class=\"displacy-arrow\">\n",
              "    <path class=\"displacy-arc\" id=\"arrow-195120141eb640b3b152f9e0b361ee46-0-0\" stroke-width=\"2px\" d=\"M70,212.0 C70,2.0 610.0,2.0 610.0,212.0\" fill=\"none\" stroke=\"currentColor\"/>\n",
              "    <text dy=\"1.25em\" style=\"font-size: 0.8em; letter-spacing: 1px\">\n",
              "        <textPath xlink:href=\"#arrow-195120141eb640b3b152f9e0b361ee46-0-0\" class=\"displacy-label\" startOffset=\"50%\" side=\"left\" fill=\"currentColor\" text-anchor=\"middle\">det</textPath>\n",
              "    </text>\n",
              "    <path class=\"displacy-arrowhead\" d=\"M70,214.0 L62,202.0 78,202.0\" fill=\"currentColor\"/>\n",
              "</g>\n",
              "\n",
              "<g class=\"displacy-arrow\">\n",
              "    <path class=\"displacy-arc\" id=\"arrow-195120141eb640b3b152f9e0b361ee46-0-1\" stroke-width=\"2px\" d=\"M210,212.0 C210,72.0 465.0,72.0 465.0,212.0\" fill=\"none\" stroke=\"currentColor\"/>\n",
              "    <text dy=\"1.25em\" style=\"font-size: 0.8em; letter-spacing: 1px\">\n",
              "        <textPath xlink:href=\"#arrow-195120141eb640b3b152f9e0b361ee46-0-1\" class=\"displacy-label\" startOffset=\"50%\" side=\"left\" fill=\"currentColor\" text-anchor=\"middle\">nmod</textPath>\n",
              "    </text>\n",
              "    <path class=\"displacy-arrowhead\" d=\"M210,214.0 L202,202.0 218,202.0\" fill=\"currentColor\"/>\n",
              "</g>\n",
              "\n",
              "<g class=\"displacy-arrow\">\n",
              "    <path class=\"displacy-arc\" id=\"arrow-195120141eb640b3b152f9e0b361ee46-0-2\" stroke-width=\"2px\" d=\"M210,212.0 C210,142.0 320.0,142.0 320.0,212.0\" fill=\"none\" stroke=\"currentColor\"/>\n",
              "    <text dy=\"1.25em\" style=\"font-size: 0.8em; letter-spacing: 1px\">\n",
              "        <textPath xlink:href=\"#arrow-195120141eb640b3b152f9e0b361ee46-0-2\" class=\"displacy-label\" startOffset=\"50%\" side=\"left\" fill=\"currentColor\" text-anchor=\"middle\">nummod</textPath>\n",
              "    </text>\n",
              "    <path class=\"displacy-arrowhead\" d=\"M320.0,214.0 L328.0,202.0 312.0,202.0\" fill=\"currentColor\"/>\n",
              "</g>\n",
              "\n",
              "<g class=\"displacy-arrow\">\n",
              "    <path class=\"displacy-arc\" id=\"arrow-195120141eb640b3b152f9e0b361ee46-0-3\" stroke-width=\"2px\" d=\"M490,212.0 C490,142.0 600.0,142.0 600.0,212.0\" fill=\"none\" stroke=\"currentColor\"/>\n",
              "    <text dy=\"1.25em\" style=\"font-size: 0.8em; letter-spacing: 1px\">\n",
              "        <textPath xlink:href=\"#arrow-195120141eb640b3b152f9e0b361ee46-0-3\" class=\"displacy-label\" startOffset=\"50%\" side=\"left\" fill=\"currentColor\" text-anchor=\"middle\">compound</textPath>\n",
              "    </text>\n",
              "    <path class=\"displacy-arrowhead\" d=\"M490,214.0 L482,202.0 498,202.0\" fill=\"currentColor\"/>\n",
              "</g>\n",
              "\n",
              "<g class=\"displacy-arrow\">\n",
              "    <path class=\"displacy-arc\" id=\"arrow-195120141eb640b3b152f9e0b361ee46-0-4\" stroke-width=\"2px\" d=\"M630,212.0 C630,142.0 740.0,142.0 740.0,212.0\" fill=\"none\" stroke=\"currentColor\"/>\n",
              "    <text dy=\"1.25em\" style=\"font-size: 0.8em; letter-spacing: 1px\">\n",
              "        <textPath xlink:href=\"#arrow-195120141eb640b3b152f9e0b361ee46-0-4\" class=\"displacy-label\" startOffset=\"50%\" side=\"left\" fill=\"currentColor\" text-anchor=\"middle\">nsubj</textPath>\n",
              "    </text>\n",
              "    <path class=\"displacy-arrowhead\" d=\"M630,214.0 L622,202.0 638,202.0\" fill=\"currentColor\"/>\n",
              "</g>\n",
              "\n",
              "<g class=\"displacy-arrow\">\n",
              "    <path class=\"displacy-arc\" id=\"arrow-195120141eb640b3b152f9e0b361ee46-0-5\" stroke-width=\"2px\" d=\"M770,212.0 C770,142.0 880.0,142.0 880.0,212.0\" fill=\"none\" stroke=\"currentColor\"/>\n",
              "    <text dy=\"1.25em\" style=\"font-size: 0.8em; letter-spacing: 1px\">\n",
              "        <textPath xlink:href=\"#arrow-195120141eb640b3b152f9e0b361ee46-0-5\" class=\"displacy-label\" startOffset=\"50%\" side=\"left\" fill=\"currentColor\" text-anchor=\"middle\">nsubj</textPath>\n",
              "    </text>\n",
              "    <path class=\"displacy-arrowhead\" d=\"M880.0,214.0 L888.0,202.0 872.0,202.0\" fill=\"currentColor\"/>\n",
              "</g>\n",
              "\n",
              "<g class=\"displacy-arrow\">\n",
              "    <path class=\"displacy-arc\" id=\"arrow-195120141eb640b3b152f9e0b361ee46-0-6\" stroke-width=\"2px\" d=\"M1050,212.0 C1050,142.0 1160.0,142.0 1160.0,212.0\" fill=\"none\" stroke=\"currentColor\"/>\n",
              "    <text dy=\"1.25em\" style=\"font-size: 0.8em; letter-spacing: 1px\">\n",
              "        <textPath xlink:href=\"#arrow-195120141eb640b3b152f9e0b361ee46-0-6\" class=\"displacy-label\" startOffset=\"50%\" side=\"left\" fill=\"currentColor\" text-anchor=\"middle\">compound</textPath>\n",
              "    </text>\n",
              "    <path class=\"displacy-arrowhead\" d=\"M1050,214.0 L1042,202.0 1058,202.0\" fill=\"currentColor\"/>\n",
              "</g>\n",
              "\n",
              "<g class=\"displacy-arrow\">\n",
              "    <path class=\"displacy-arc\" id=\"arrow-195120141eb640b3b152f9e0b361ee46-0-7\" stroke-width=\"2px\" d=\"M1190,212.0 C1190,72.0 1585.0,72.0 1585.0,212.0\" fill=\"none\" stroke=\"currentColor\"/>\n",
              "    <text dy=\"1.25em\" style=\"font-size: 0.8em; letter-spacing: 1px\">\n",
              "        <textPath xlink:href=\"#arrow-195120141eb640b3b152f9e0b361ee46-0-7\" class=\"displacy-label\" startOffset=\"50%\" side=\"left\" fill=\"currentColor\" text-anchor=\"middle\">nmod</textPath>\n",
              "    </text>\n",
              "    <path class=\"displacy-arrowhead\" d=\"M1190,214.0 L1182,202.0 1198,202.0\" fill=\"currentColor\"/>\n",
              "</g>\n",
              "\n",
              "<g class=\"displacy-arrow\">\n",
              "    <path class=\"displacy-arc\" id=\"arrow-195120141eb640b3b152f9e0b361ee46-0-8\" stroke-width=\"2px\" d=\"M1190,212.0 C1190,142.0 1300.0,142.0 1300.0,212.0\" fill=\"none\" stroke=\"currentColor\"/>\n",
              "    <text dy=\"1.25em\" style=\"font-size: 0.8em; letter-spacing: 1px\">\n",
              "        <textPath xlink:href=\"#arrow-195120141eb640b3b152f9e0b361ee46-0-8\" class=\"displacy-label\" startOffset=\"50%\" side=\"left\" fill=\"currentColor\" text-anchor=\"middle\">cc</textPath>\n",
              "    </text>\n",
              "    <path class=\"displacy-arrowhead\" d=\"M1300.0,214.0 L1308.0,202.0 1292.0,202.0\" fill=\"currentColor\"/>\n",
              "</g>\n",
              "\n",
              "<g class=\"displacy-arrow\">\n",
              "    <path class=\"displacy-arc\" id=\"arrow-195120141eb640b3b152f9e0b361ee46-0-9\" stroke-width=\"2px\" d=\"M1470,212.0 C1470,142.0 1580.0,142.0 1580.0,212.0\" fill=\"none\" stroke=\"currentColor\"/>\n",
              "    <text dy=\"1.25em\" style=\"font-size: 0.8em; letter-spacing: 1px\">\n",
              "        <textPath xlink:href=\"#arrow-195120141eb640b3b152f9e0b361ee46-0-9\" class=\"displacy-label\" startOffset=\"50%\" side=\"left\" fill=\"currentColor\" text-anchor=\"middle\">compound</textPath>\n",
              "    </text>\n",
              "    <path class=\"displacy-arrowhead\" d=\"M1470,214.0 L1462,202.0 1478,202.0\" fill=\"currentColor\"/>\n",
              "</g>\n",
              "\n",
              "<g class=\"displacy-arrow\">\n",
              "    <path class=\"displacy-arc\" id=\"arrow-195120141eb640b3b152f9e0b361ee46-0-10\" stroke-width=\"2px\" d=\"M770,212.0 C770,2.0 1590.0,2.0 1590.0,212.0\" fill=\"none\" stroke=\"currentColor\"/>\n",
              "    <text dy=\"1.25em\" style=\"font-size: 0.8em; letter-spacing: 1px\">\n",
              "        <textPath xlink:href=\"#arrow-195120141eb640b3b152f9e0b361ee46-0-10\" class=\"displacy-label\" startOffset=\"50%\" side=\"left\" fill=\"currentColor\" text-anchor=\"middle\">attr</textPath>\n",
              "    </text>\n",
              "    <path class=\"displacy-arrowhead\" d=\"M1590.0,214.0 L1598.0,202.0 1582.0,202.0\" fill=\"currentColor\"/>\n",
              "</g>\n",
              "</svg></span>"
            ]
          },
          "metadata": {}
        }
      ]
    },
    {
      "cell_type": "markdown",
      "source": [
        "Dependency parser explanation"
      ],
      "metadata": {
        "id": "kU6IV_m-asLH"
      }
    },
    {
      "cell_type": "code",
      "source": [
        "for word in nlp(selected_sentence_1):\n",
        "    print(f'{word.text:{12}} {word.pos_:{10}} {word.tag_:{8}} {spacy.explain(word.tag_)}')"
      ],
      "metadata": {
        "colab": {
          "base_uri": "https://localhost:8080/"
        },
        "id": "r_VlCrSCaYsg",
        "outputId": "813d73e2-b733-4a1f-880f-38c2a6e2e41b"
      },
      "execution_count": null,
      "outputs": [
        {
          "output_type": "stream",
          "name": "stdout",
          "text": [
            "The          DET        DT       determiner\n",
            "Bachelor     PROPN      NNP      noun, proper singular\n",
            "2014         NUM        CD       cardinal number\n",
            "Winner       PROPN      NNP      noun, proper singular\n",
            "Spoilers     NOUN       NNS      noun, plural\n",
            "-            PUNCT      :        punctuation mark, colon or ellipsis\n",
            "Is           AUX        VBZ      verb, 3rd person singular present\n",
            "It           PRON       PRP      pronoun, personal\n",
            "Nikki        PROPN      NNP      noun, proper singular\n",
            "Ferrell      PROPN      NNP      noun, proper singular\n",
            "Or           CCONJ      CC       conjunction, coordinating\n",
            "Clare        PROPN      NNP      noun, proper singular\n",
            "Crawley      PROPN      NNP      noun, proper singular\n",
            "?            PUNCT      .        punctuation mark, sentence closer\n"
          ]
        }
      ]
    },
    {
      "cell_type": "code",
      "source": [
        "print(selected_sentence_2)"
      ],
      "metadata": {
        "colab": {
          "base_uri": "https://localhost:8080/"
        },
        "id": "M-IdnVyIZoxV",
        "outputId": "7bf95e4b-55bc-4d6c-e9a0-11950860207a"
      },
      "execution_count": null,
      "outputs": [
        {
          "output_type": "stream",
          "name": "stdout",
          "text": [
            "GLOBAL MARKETS-World stock markets mostly flat, gold edges up on Ukraine  ...\n"
          ]
        }
      ]
    },
    {
      "cell_type": "code",
      "source": [
        "#displacy.render(nlp(selected_sentence_2), style='dep', jupyter=True, options={'distance': 140})"
      ],
      "metadata": {
        "colab": {
          "base_uri": "https://localhost:8080/",
          "height": 319
        },
        "id": "4FmvhfXdWnhj",
        "outputId": "0f3c6883-717c-42ab-b4e7-9af8dcddf4e1"
      },
      "execution_count": null,
      "outputs": [
        {
          "output_type": "display_data",
          "data": {
            "text/plain": [
              "<IPython.core.display.HTML object>"
            ],
            "text/html": [
              "<span class=\"tex2jax_ignore\"><svg xmlns=\"http://www.w3.org/2000/svg\" xmlns:xlink=\"http://www.w3.org/1999/xlink\" xml:lang=\"en\" id=\"cf17ced425d844aeb34dcc1cfc724854-0\" class=\"displacy\" width=\"1870\" height=\"277.0\" direction=\"ltr\" style=\"max-width: none; height: 277.0px; color: #000000; background: #ffffff; font-family: Arial; direction: ltr\">\n",
              "<text class=\"displacy-token\" fill=\"currentColor\" text-anchor=\"middle\" y=\"187.0\">\n",
              "    <tspan class=\"displacy-word\" fill=\"currentColor\" x=\"50\">GLOBAL</tspan>\n",
              "    <tspan class=\"displacy-tag\" dy=\"2em\" fill=\"currentColor\" x=\"50\">PROPN</tspan>\n",
              "</text>\n",
              "\n",
              "<text class=\"displacy-token\" fill=\"currentColor\" text-anchor=\"middle\" y=\"187.0\">\n",
              "    <tspan class=\"displacy-word\" fill=\"currentColor\" x=\"190\">MARKETS-</tspan>\n",
              "    <tspan class=\"displacy-tag\" dy=\"2em\" fill=\"currentColor\" x=\"190\">PROPN</tspan>\n",
              "</text>\n",
              "\n",
              "<text class=\"displacy-token\" fill=\"currentColor\" text-anchor=\"middle\" y=\"187.0\">\n",
              "    <tspan class=\"displacy-word\" fill=\"currentColor\" x=\"330\">World</tspan>\n",
              "    <tspan class=\"displacy-tag\" dy=\"2em\" fill=\"currentColor\" x=\"330\">PROPN</tspan>\n",
              "</text>\n",
              "\n",
              "<text class=\"displacy-token\" fill=\"currentColor\" text-anchor=\"middle\" y=\"187.0\">\n",
              "    <tspan class=\"displacy-word\" fill=\"currentColor\" x=\"470\">stock</tspan>\n",
              "    <tspan class=\"displacy-tag\" dy=\"2em\" fill=\"currentColor\" x=\"470\">NOUN</tspan>\n",
              "</text>\n",
              "\n",
              "<text class=\"displacy-token\" fill=\"currentColor\" text-anchor=\"middle\" y=\"187.0\">\n",
              "    <tspan class=\"displacy-word\" fill=\"currentColor\" x=\"610\">markets</tspan>\n",
              "    <tspan class=\"displacy-tag\" dy=\"2em\" fill=\"currentColor\" x=\"610\">NOUN</tspan>\n",
              "</text>\n",
              "\n",
              "<text class=\"displacy-token\" fill=\"currentColor\" text-anchor=\"middle\" y=\"187.0\">\n",
              "    <tspan class=\"displacy-word\" fill=\"currentColor\" x=\"750\">mostly</tspan>\n",
              "    <tspan class=\"displacy-tag\" dy=\"2em\" fill=\"currentColor\" x=\"750\">ADV</tspan>\n",
              "</text>\n",
              "\n",
              "<text class=\"displacy-token\" fill=\"currentColor\" text-anchor=\"middle\" y=\"187.0\">\n",
              "    <tspan class=\"displacy-word\" fill=\"currentColor\" x=\"890\">flat,</tspan>\n",
              "    <tspan class=\"displacy-tag\" dy=\"2em\" fill=\"currentColor\" x=\"890\">ADJ</tspan>\n",
              "</text>\n",
              "\n",
              "<text class=\"displacy-token\" fill=\"currentColor\" text-anchor=\"middle\" y=\"187.0\">\n",
              "    <tspan class=\"displacy-word\" fill=\"currentColor\" x=\"1030\">gold</tspan>\n",
              "    <tspan class=\"displacy-tag\" dy=\"2em\" fill=\"currentColor\" x=\"1030\">NOUN</tspan>\n",
              "</text>\n",
              "\n",
              "<text class=\"displacy-token\" fill=\"currentColor\" text-anchor=\"middle\" y=\"187.0\">\n",
              "    <tspan class=\"displacy-word\" fill=\"currentColor\" x=\"1170\">edges</tspan>\n",
              "    <tspan class=\"displacy-tag\" dy=\"2em\" fill=\"currentColor\" x=\"1170\">VERB</tspan>\n",
              "</text>\n",
              "\n",
              "<text class=\"displacy-token\" fill=\"currentColor\" text-anchor=\"middle\" y=\"187.0\">\n",
              "    <tspan class=\"displacy-word\" fill=\"currentColor\" x=\"1310\">up</tspan>\n",
              "    <tspan class=\"displacy-tag\" dy=\"2em\" fill=\"currentColor\" x=\"1310\">ADP</tspan>\n",
              "</text>\n",
              "\n",
              "<text class=\"displacy-token\" fill=\"currentColor\" text-anchor=\"middle\" y=\"187.0\">\n",
              "    <tspan class=\"displacy-word\" fill=\"currentColor\" x=\"1450\">on</tspan>\n",
              "    <tspan class=\"displacy-tag\" dy=\"2em\" fill=\"currentColor\" x=\"1450\">ADP</tspan>\n",
              "</text>\n",
              "\n",
              "<text class=\"displacy-token\" fill=\"currentColor\" text-anchor=\"middle\" y=\"187.0\">\n",
              "    <tspan class=\"displacy-word\" fill=\"currentColor\" x=\"1590\">Ukraine</tspan>\n",
              "    <tspan class=\"displacy-tag\" dy=\"2em\" fill=\"currentColor\" x=\"1590\">PROPN</tspan>\n",
              "</text>\n",
              "\n",
              "<text class=\"displacy-token\" fill=\"currentColor\" text-anchor=\"middle\" y=\"187.0\">\n",
              "    <tspan class=\"displacy-word\" fill=\"currentColor\" x=\"1730\"> ...</tspan>\n",
              "    <tspan class=\"displacy-tag\" dy=\"2em\" fill=\"currentColor\" x=\"1730\">SPACE</tspan>\n",
              "</text>\n",
              "\n",
              "<g class=\"displacy-arrow\">\n",
              "    <path class=\"displacy-arc\" id=\"arrow-cf17ced425d844aeb34dcc1cfc724854-0-0\" stroke-width=\"2px\" d=\"M70,142.0 C70,2.0 330.0,2.0 330.0,142.0\" fill=\"none\" stroke=\"currentColor\"/>\n",
              "    <text dy=\"1.25em\" style=\"font-size: 0.8em; letter-spacing: 1px\">\n",
              "        <textPath xlink:href=\"#arrow-cf17ced425d844aeb34dcc1cfc724854-0-0\" class=\"displacy-label\" startOffset=\"50%\" side=\"left\" fill=\"currentColor\" text-anchor=\"middle\">compound</textPath>\n",
              "    </text>\n",
              "    <path class=\"displacy-arrowhead\" d=\"M70,144.0 L62,132.0 78,132.0\" fill=\"currentColor\"/>\n",
              "</g>\n",
              "\n",
              "<g class=\"displacy-arrow\">\n",
              "    <path class=\"displacy-arc\" id=\"arrow-cf17ced425d844aeb34dcc1cfc724854-0-1\" stroke-width=\"2px\" d=\"M210,142.0 C210,72.0 325.0,72.0 325.0,142.0\" fill=\"none\" stroke=\"currentColor\"/>\n",
              "    <text dy=\"1.25em\" style=\"font-size: 0.8em; letter-spacing: 1px\">\n",
              "        <textPath xlink:href=\"#arrow-cf17ced425d844aeb34dcc1cfc724854-0-1\" class=\"displacy-label\" startOffset=\"50%\" side=\"left\" fill=\"currentColor\" text-anchor=\"middle\">compound</textPath>\n",
              "    </text>\n",
              "    <path class=\"displacy-arrowhead\" d=\"M210,144.0 L202,132.0 218,132.0\" fill=\"currentColor\"/>\n",
              "</g>\n",
              "\n",
              "<g class=\"displacy-arrow\">\n",
              "    <path class=\"displacy-arc\" id=\"arrow-cf17ced425d844aeb34dcc1cfc724854-0-2\" stroke-width=\"2px\" d=\"M350,142.0 C350,2.0 610.0,2.0 610.0,142.0\" fill=\"none\" stroke=\"currentColor\"/>\n",
              "    <text dy=\"1.25em\" style=\"font-size: 0.8em; letter-spacing: 1px\">\n",
              "        <textPath xlink:href=\"#arrow-cf17ced425d844aeb34dcc1cfc724854-0-2\" class=\"displacy-label\" startOffset=\"50%\" side=\"left\" fill=\"currentColor\" text-anchor=\"middle\">compound</textPath>\n",
              "    </text>\n",
              "    <path class=\"displacy-arrowhead\" d=\"M350,144.0 L342,132.0 358,132.0\" fill=\"currentColor\"/>\n",
              "</g>\n",
              "\n",
              "<g class=\"displacy-arrow\">\n",
              "    <path class=\"displacy-arc\" id=\"arrow-cf17ced425d844aeb34dcc1cfc724854-0-3\" stroke-width=\"2px\" d=\"M490,142.0 C490,72.0 605.0,72.0 605.0,142.0\" fill=\"none\" stroke=\"currentColor\"/>\n",
              "    <text dy=\"1.25em\" style=\"font-size: 0.8em; letter-spacing: 1px\">\n",
              "        <textPath xlink:href=\"#arrow-cf17ced425d844aeb34dcc1cfc724854-0-3\" class=\"displacy-label\" startOffset=\"50%\" side=\"left\" fill=\"currentColor\" text-anchor=\"middle\">compound</textPath>\n",
              "    </text>\n",
              "    <path class=\"displacy-arrowhead\" d=\"M490,144.0 L482,132.0 498,132.0\" fill=\"currentColor\"/>\n",
              "</g>\n",
              "\n",
              "<g class=\"displacy-arrow\">\n",
              "    <path class=\"displacy-arc\" id=\"arrow-cf17ced425d844aeb34dcc1cfc724854-0-4\" stroke-width=\"2px\" d=\"M630,142.0 C630,2.0 890.0,2.0 890.0,142.0\" fill=\"none\" stroke=\"currentColor\"/>\n",
              "    <text dy=\"1.25em\" style=\"font-size: 0.8em; letter-spacing: 1px\">\n",
              "        <textPath xlink:href=\"#arrow-cf17ced425d844aeb34dcc1cfc724854-0-4\" class=\"displacy-label\" startOffset=\"50%\" side=\"left\" fill=\"currentColor\" text-anchor=\"middle\">nsubj</textPath>\n",
              "    </text>\n",
              "    <path class=\"displacy-arrowhead\" d=\"M630,144.0 L622,132.0 638,132.0\" fill=\"currentColor\"/>\n",
              "</g>\n",
              "\n",
              "<g class=\"displacy-arrow\">\n",
              "    <path class=\"displacy-arc\" id=\"arrow-cf17ced425d844aeb34dcc1cfc724854-0-5\" stroke-width=\"2px\" d=\"M770,142.0 C770,72.0 885.0,72.0 885.0,142.0\" fill=\"none\" stroke=\"currentColor\"/>\n",
              "    <text dy=\"1.25em\" style=\"font-size: 0.8em; letter-spacing: 1px\">\n",
              "        <textPath xlink:href=\"#arrow-cf17ced425d844aeb34dcc1cfc724854-0-5\" class=\"displacy-label\" startOffset=\"50%\" side=\"left\" fill=\"currentColor\" text-anchor=\"middle\">advmod</textPath>\n",
              "    </text>\n",
              "    <path class=\"displacy-arrowhead\" d=\"M770,144.0 L762,132.0 778,132.0\" fill=\"currentColor\"/>\n",
              "</g>\n",
              "\n",
              "<g class=\"displacy-arrow\">\n",
              "    <path class=\"displacy-arc\" id=\"arrow-cf17ced425d844aeb34dcc1cfc724854-0-6\" stroke-width=\"2px\" d=\"M910,142.0 C910,2.0 1170.0,2.0 1170.0,142.0\" fill=\"none\" stroke=\"currentColor\"/>\n",
              "    <text dy=\"1.25em\" style=\"font-size: 0.8em; letter-spacing: 1px\">\n",
              "        <textPath xlink:href=\"#arrow-cf17ced425d844aeb34dcc1cfc724854-0-6\" class=\"displacy-label\" startOffset=\"50%\" side=\"left\" fill=\"currentColor\" text-anchor=\"middle\">amod</textPath>\n",
              "    </text>\n",
              "    <path class=\"displacy-arrowhead\" d=\"M910,144.0 L902,132.0 918,132.0\" fill=\"currentColor\"/>\n",
              "</g>\n",
              "\n",
              "<g class=\"displacy-arrow\">\n",
              "    <path class=\"displacy-arc\" id=\"arrow-cf17ced425d844aeb34dcc1cfc724854-0-7\" stroke-width=\"2px\" d=\"M1050,142.0 C1050,72.0 1165.0,72.0 1165.0,142.0\" fill=\"none\" stroke=\"currentColor\"/>\n",
              "    <text dy=\"1.25em\" style=\"font-size: 0.8em; letter-spacing: 1px\">\n",
              "        <textPath xlink:href=\"#arrow-cf17ced425d844aeb34dcc1cfc724854-0-7\" class=\"displacy-label\" startOffset=\"50%\" side=\"left\" fill=\"currentColor\" text-anchor=\"middle\">nsubj</textPath>\n",
              "    </text>\n",
              "    <path class=\"displacy-arrowhead\" d=\"M1050,144.0 L1042,132.0 1058,132.0\" fill=\"currentColor\"/>\n",
              "</g>\n",
              "\n",
              "<g class=\"displacy-arrow\">\n",
              "    <path class=\"displacy-arc\" id=\"arrow-cf17ced425d844aeb34dcc1cfc724854-0-8\" stroke-width=\"2px\" d=\"M1190,142.0 C1190,72.0 1305.0,72.0 1305.0,142.0\" fill=\"none\" stroke=\"currentColor\"/>\n",
              "    <text dy=\"1.25em\" style=\"font-size: 0.8em; letter-spacing: 1px\">\n",
              "        <textPath xlink:href=\"#arrow-cf17ced425d844aeb34dcc1cfc724854-0-8\" class=\"displacy-label\" startOffset=\"50%\" side=\"left\" fill=\"currentColor\" text-anchor=\"middle\">prt</textPath>\n",
              "    </text>\n",
              "    <path class=\"displacy-arrowhead\" d=\"M1305.0,144.0 L1313.0,132.0 1297.0,132.0\" fill=\"currentColor\"/>\n",
              "</g>\n",
              "\n",
              "<g class=\"displacy-arrow\">\n",
              "    <path class=\"displacy-arc\" id=\"arrow-cf17ced425d844aeb34dcc1cfc724854-0-9\" stroke-width=\"2px\" d=\"M1190,142.0 C1190,2.0 1450.0,2.0 1450.0,142.0\" fill=\"none\" stroke=\"currentColor\"/>\n",
              "    <text dy=\"1.25em\" style=\"font-size: 0.8em; letter-spacing: 1px\">\n",
              "        <textPath xlink:href=\"#arrow-cf17ced425d844aeb34dcc1cfc724854-0-9\" class=\"displacy-label\" startOffset=\"50%\" side=\"left\" fill=\"currentColor\" text-anchor=\"middle\">prep</textPath>\n",
              "    </text>\n",
              "    <path class=\"displacy-arrowhead\" d=\"M1450.0,144.0 L1458.0,132.0 1442.0,132.0\" fill=\"currentColor\"/>\n",
              "</g>\n",
              "\n",
              "<g class=\"displacy-arrow\">\n",
              "    <path class=\"displacy-arc\" id=\"arrow-cf17ced425d844aeb34dcc1cfc724854-0-10\" stroke-width=\"2px\" d=\"M1470,142.0 C1470,72.0 1585.0,72.0 1585.0,142.0\" fill=\"none\" stroke=\"currentColor\"/>\n",
              "    <text dy=\"1.25em\" style=\"font-size: 0.8em; letter-spacing: 1px\">\n",
              "        <textPath xlink:href=\"#arrow-cf17ced425d844aeb34dcc1cfc724854-0-10\" class=\"displacy-label\" startOffset=\"50%\" side=\"left\" fill=\"currentColor\" text-anchor=\"middle\">pobj</textPath>\n",
              "    </text>\n",
              "    <path class=\"displacy-arrowhead\" d=\"M1585.0,144.0 L1593.0,132.0 1577.0,132.0\" fill=\"currentColor\"/>\n",
              "</g>\n",
              "\n",
              "<g class=\"displacy-arrow\">\n",
              "    <path class=\"displacy-arc\" id=\"arrow-cf17ced425d844aeb34dcc1cfc724854-0-11\" stroke-width=\"2px\" d=\"M1610,142.0 C1610,72.0 1725.0,72.0 1725.0,142.0\" fill=\"none\" stroke=\"currentColor\"/>\n",
              "    <text dy=\"1.25em\" style=\"font-size: 0.8em; letter-spacing: 1px\">\n",
              "        <textPath xlink:href=\"#arrow-cf17ced425d844aeb34dcc1cfc724854-0-11\" class=\"displacy-label\" startOffset=\"50%\" side=\"left\" fill=\"currentColor\" text-anchor=\"middle\">dep</textPath>\n",
              "    </text>\n",
              "    <path class=\"displacy-arrowhead\" d=\"M1725.0,144.0 L1733.0,132.0 1717.0,132.0\" fill=\"currentColor\"/>\n",
              "</g>\n",
              "</svg></span>"
            ]
          },
          "metadata": {}
        }
      ]
    },
    {
      "cell_type": "code",
      "source": [
        "for word in nlp(selected_sentence_2):\n",
        "    print(f'{word.text:{12}} {word.pos_:{10}} {word.tag_:{8}} {spacy.explain(word.tag_)}')"
      ],
      "metadata": {
        "colab": {
          "base_uri": "https://localhost:8080/"
        },
        "id": "6h8XyPgRYDBU",
        "outputId": "371193b3-e5a0-43da-8596-0dd2f035e045"
      },
      "execution_count": null,
      "outputs": [
        {
          "output_type": "stream",
          "name": "stdout",
          "text": [
            "GLOBAL       PROPN      NNP      noun, proper singular\n",
            "MARKETS      PROPN      NNP      noun, proper singular\n",
            "-            PUNCT      HYPH     punctuation mark, hyphen\n",
            "World        PROPN      NNP      noun, proper singular\n",
            "stock        NOUN       NN       noun, singular or mass\n",
            "markets      NOUN       NNS      noun, plural\n",
            "mostly       ADV        RB       adverb\n",
            "flat         ADJ        JJ       adjective (English), other noun-modifier (Chinese)\n",
            ",            PUNCT      ,        punctuation mark, comma\n",
            "gold         NOUN       NN       noun, singular or mass\n",
            "edges        VERB       VBZ      verb, 3rd person singular present\n",
            "up           ADP        RP       adverb, particle\n",
            "on           ADP        IN       conjunction, subordinating or preposition\n",
            "Ukraine      PROPN      NNP      noun, proper singular\n",
            "             SPACE      _SP      whitespace\n",
            "...          PUNCT      .        punctuation mark, sentence closer\n"
          ]
        }
      ]
    },
    {
      "cell_type": "code",
      "source": [],
      "metadata": {
        "id": "IPQDxsZla0yt"
      },
      "execution_count": null,
      "outputs": []
    }
  ]
}