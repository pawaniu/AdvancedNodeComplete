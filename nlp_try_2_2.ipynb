{
  "nbformat": 4,
  "nbformat_minor": 0,
  "metadata": {
    "colab": {
      "provenance": [],
      "authorship_tag": "ABX9TyPI0ankj3iEWMycGzm0visr",
      "include_colab_link": true
    },
    "kernelspec": {
      "name": "python3",
      "display_name": "Python 3"
    },
    "language_info": {
      "name": "python"
    }
  },
  "cells": [
    {
      "cell_type": "markdown",
      "metadata": {
        "id": "view-in-github",
        "colab_type": "text"
      },
      "source": [
        "<a href=\"https://colab.research.google.com/github/pawaniu/AdvancedNodeComplete/blob/master/nlp_try_2_2.ipynb\" target=\"_parent\"><img src=\"https://colab.research.google.com/assets/colab-badge.svg\" alt=\"Open In Colab\"/></a>"
      ]
    },
    {
      "cell_type": "markdown",
      "source": [
        "# <p style=\"text-align: center;\"><b><font  style=\"text-align:center\" color= Purple size=6>NLP Assignment 2 <br> Set E <b><br>Group Number: 154<br><br>Group Members:</font></p>\n",
        "<table style=\"border:1px solid black\">\n",
        "  <tr>\n",
        "    <th>Name </th>\n",
        "   <th>Bits Roll Number</th>\n",
        "    <th>Contribution</th>\n",
        "  </tr>\n",
        "  <tr>\n",
        "    <td><b>PAWAN KUMAR GUPTA<b></td>\n",
        "    <td><b>2021sc04394<b></td>\n",
        "    <td><b>100%<b></td>\n",
        "  </tr>\n",
        "  <tr>\n",
        "    <td><b>GIRIJA MANASH GOUDA <b></td>\n",
        "    <td><b>2021sc04393<b></td>\n",
        "    <td><b>100%<b></td>\n",
        "  </tr>\n",
        "  <tr>\n",
        "    <td><b>ASHISH RANJANA<b></td>\n",
        "    <td><b>2021sc04505<b></td>\n",
        "    <td><b>100%<b></td>\n",
        "  </tr>\n",
        "  <tr>\n",
        "    <td><b>G HEMAVATHI<b></td>\n",
        "    <td><b>2021sc04711<b></td>\n",
        "    <td><b>100%<b></td>\n",
        "  </tr>\n",
        "</table><br>::"
      ],
      "metadata": {
        "id": "9PzAgjzoYfIN"
      }
    },
    {
      "cell_type": "code",
      "source": [
        "# execute one time - if run time get reset\n",
        "!pip install pyLDAvis"
      ],
      "metadata": {
        "id": "sSlWnB6AG4fi",
        "colab": {
          "base_uri": "https://localhost:8080/"
        },
        "outputId": "1cd41caa-c48d-4be7-d786-ba35b210b07e"
      },
      "execution_count": null,
      "outputs": [
        {
          "output_type": "stream",
          "name": "stdout",
          "text": [
            "Collecting pyLDAvis\n",
            "  Downloading pyLDAvis-3.4.1-py3-none-any.whl (2.6 MB)\n",
            "\u001b[2K     \u001b[90m━━━━━━━━━━━━━━━━━━━━━━━━━━━━━━━━━━━━━━━━\u001b[0m \u001b[32m2.6/2.6 MB\u001b[0m \u001b[31m12.4 MB/s\u001b[0m eta \u001b[36m0:00:00\u001b[0m\n",
            "\u001b[?25hCollecting numpy>=1.24.2 (from pyLDAvis)\n",
            "  Downloading numpy-1.26.0-cp310-cp310-manylinux_2_17_x86_64.manylinux2014_x86_64.whl (18.2 MB)\n",
            "\u001b[2K     \u001b[90m━━━━━━━━━━━━━━━━━━━━━━━━━━━━━━━━━━━━━━━━\u001b[0m \u001b[32m18.2/18.2 MB\u001b[0m \u001b[31m61.9 MB/s\u001b[0m eta \u001b[36m0:00:00\u001b[0m\n",
            "\u001b[?25hRequirement already satisfied: scipy in /usr/local/lib/python3.10/dist-packages (from pyLDAvis) (1.11.2)\n",
            "Collecting pandas>=2.0.0 (from pyLDAvis)\n",
            "  Downloading pandas-2.1.1-cp310-cp310-manylinux_2_17_x86_64.manylinux2014_x86_64.whl (12.3 MB)\n",
            "\u001b[2K     \u001b[90m━━━━━━━━━━━━━━━━━━━━━━━━━━━━━━━━━━━━━━━\u001b[0m \u001b[32m12.3/12.3 MB\u001b[0m \u001b[31m103.8 MB/s\u001b[0m eta \u001b[36m0:00:00\u001b[0m\n",
            "\u001b[?25hRequirement already satisfied: joblib>=1.2.0 in /usr/local/lib/python3.10/dist-packages (from pyLDAvis) (1.3.2)\n",
            "Requirement already satisfied: jinja2 in /usr/local/lib/python3.10/dist-packages (from pyLDAvis) (3.1.2)\n",
            "Requirement already satisfied: numexpr in /usr/local/lib/python3.10/dist-packages (from pyLDAvis) (2.8.5)\n",
            "Collecting funcy (from pyLDAvis)\n",
            "  Downloading funcy-2.0-py2.py3-none-any.whl (30 kB)\n",
            "Requirement already satisfied: scikit-learn>=1.0.0 in /usr/local/lib/python3.10/dist-packages (from pyLDAvis) (1.2.2)\n",
            "Requirement already satisfied: gensim in /usr/local/lib/python3.10/dist-packages (from pyLDAvis) (4.3.2)\n",
            "Requirement already satisfied: setuptools in /usr/local/lib/python3.10/dist-packages (from pyLDAvis) (67.7.2)\n",
            "Requirement already satisfied: python-dateutil>=2.8.2 in /usr/local/lib/python3.10/dist-packages (from pandas>=2.0.0->pyLDAvis) (2.8.2)\n",
            "Requirement already satisfied: pytz>=2020.1 in /usr/local/lib/python3.10/dist-packages (from pandas>=2.0.0->pyLDAvis) (2023.3.post1)\n",
            "Collecting tzdata>=2022.1 (from pandas>=2.0.0->pyLDAvis)\n",
            "  Downloading tzdata-2023.3-py2.py3-none-any.whl (341 kB)\n",
            "\u001b[2K     \u001b[90m━━━━━━━━━━━━━━━━━━━━━━━━━━━━━━━━━━━━━━\u001b[0m \u001b[32m341.8/341.8 kB\u001b[0m \u001b[31m39.0 MB/s\u001b[0m eta \u001b[36m0:00:00\u001b[0m\n",
            "\u001b[?25hRequirement already satisfied: threadpoolctl>=2.0.0 in /usr/local/lib/python3.10/dist-packages (from scikit-learn>=1.0.0->pyLDAvis) (3.2.0)\n",
            "Requirement already satisfied: smart-open>=1.8.1 in /usr/local/lib/python3.10/dist-packages (from gensim->pyLDAvis) (6.4.0)\n",
            "Requirement already satisfied: MarkupSafe>=2.0 in /usr/local/lib/python3.10/dist-packages (from jinja2->pyLDAvis) (2.1.3)\n",
            "Requirement already satisfied: six>=1.5 in /usr/local/lib/python3.10/dist-packages (from python-dateutil>=2.8.2->pandas>=2.0.0->pyLDAvis) (1.16.0)\n",
            "Installing collected packages: funcy, tzdata, numpy, pandas, pyLDAvis\n",
            "  Attempting uninstall: numpy\n",
            "    Found existing installation: numpy 1.23.5\n",
            "    Uninstalling numpy-1.23.5:\n",
            "      Successfully uninstalled numpy-1.23.5\n",
            "  Attempting uninstall: pandas\n",
            "    Found existing installation: pandas 1.5.3\n",
            "    Uninstalling pandas-1.5.3:\n",
            "      Successfully uninstalled pandas-1.5.3\n",
            "\u001b[31mERROR: pip's dependency resolver does not currently take into account all the packages that are installed. This behaviour is the source of the following dependency conflicts.\n",
            "google-colab 1.0.0 requires pandas==1.5.3, but you have pandas 2.1.1 which is incompatible.\n",
            "numba 0.56.4 requires numpy<1.24,>=1.18, but you have numpy 1.26.0 which is incompatible.\n",
            "tensorflow 2.13.0 requires numpy<=1.24.3,>=1.22, but you have numpy 1.26.0 which is incompatible.\u001b[0m\u001b[31m\n",
            "\u001b[0mSuccessfully installed funcy-2.0 numpy-1.26.0 pandas-2.1.1 pyLDAvis-3.4.1 tzdata-2023.3\n"
          ]
        }
      ]
    },
    {
      "cell_type": "code",
      "source": [
        "# installing compatible version of panda v1.5.3 to pyLDAvis\n",
        "!pip install pandas==1.5.3"
      ],
      "metadata": {
        "colab": {
          "base_uri": "https://localhost:8080/"
        },
        "id": "RKj-nuAkHA3B",
        "outputId": "7decab88-b422-4bc8-a9a1-a3b5a650ab56"
      },
      "execution_count": null,
      "outputs": [
        {
          "output_type": "stream",
          "name": "stdout",
          "text": [
            "Requirement already satisfied: pandas==1.5.3 in /usr/local/lib/python3.10/dist-packages (1.5.3)\n",
            "Requirement already satisfied: python-dateutil>=2.8.1 in /usr/local/lib/python3.10/dist-packages (from pandas==1.5.3) (2.8.2)\n",
            "Requirement already satisfied: pytz>=2020.1 in /usr/local/lib/python3.10/dist-packages (from pandas==1.5.3) (2023.3.post1)\n",
            "Requirement already satisfied: numpy>=1.21.0 in /usr/local/lib/python3.10/dist-packages (from pandas==1.5.3) (1.26.0)\n",
            "Requirement already satisfied: six>=1.5 in /usr/local/lib/python3.10/dist-packages (from python-dateutil>=2.8.1->pandas==1.5.3) (1.16.0)\n"
          ]
        }
      ]
    },
    {
      "cell_type": "code",
      "source": [
        "import warnings\n",
        "warnings.filterwarnings(\"ignore\", category=DeprecationWarning)"
      ],
      "metadata": {
        "id": "LvPXMMt_7w4g"
      },
      "execution_count": null,
      "outputs": []
    },
    {
      "cell_type": "code",
      "source": [
        "# import libs\n",
        "import random\n",
        "import pandas as pd\n",
        "import numpy as np\n",
        "import re\n",
        "import string\n",
        "import spacy\n",
        "import gensim\n",
        "from gensim import corpora\n",
        "\n",
        "from gensim.utils import simple_preprocess\n",
        "from spacy import displacy\n",
        "\n",
        "import pyLDAvis\n",
        "import pyLDAvis.gensim\n",
        "import matplotlib.pyplot as plt\n",
        "\n",
        "\n",
        "%matplotlib inline\n"
      ],
      "metadata": {
        "id": "1mYXw7jUzVO1"
      },
      "execution_count": null,
      "outputs": []
    },
    {
      "cell_type": "code",
      "source": [
        "from gensim.models import CoherenceModel, HdpModel, LdaModel\n"
      ],
      "metadata": {
        "id": "LxmyNpyfJMny"
      },
      "execution_count": null,
      "outputs": []
    },
    {
      "cell_type": "markdown",
      "source": [
        "<b>Question 1 - Perform EDA and necessary pre-processing steps in dataset</b>"
      ],
      "metadata": {
        "id": "iUBJ03cfVIqU"
      }
    },
    {
      "cell_type": "markdown",
      "source": [
        "Read the data from the csv file. And fetch first 5000 records in dataframe"
      ],
      "metadata": {
        "id": "n13rSdgLVT0T"
      }
    },
    {
      "cell_type": "code",
      "execution_count": null,
      "metadata": {
        "id": "JY3h324byzkO"
      },
      "outputs": [],
      "source": [
        "data_df = pd.read_csv(\"uci-news-aggregator.csv\",encoding='unicode_escape')\n",
        "data_df = data_df.head(5000)"
      ]
    },
    {
      "cell_type": "code",
      "source": [
        "# EDA\n",
        "data_df.head()"
      ],
      "metadata": {
        "colab": {
          "base_uri": "https://localhost:8080/",
          "height": 206
        },
        "id": "nUBGPuN1FAZ8",
        "outputId": "56787acc-1c46-4d37-acb8-7c7300138ae3"
      },
      "execution_count": null,
      "outputs": [
        {
          "output_type": "execute_result",
          "data": {
            "text/plain": [
              "   ID                                              TITLE  \\\n",
              "0   1  Fed official says weak data caused by weather,...   \n",
              "1   2  Fed's Charles Plosser sees high bar for change...   \n",
              "2   3  US open: Stocks fall after Fed official hints ...   \n",
              "3   4  Fed risks falling 'behind the curve', Charles ...   \n",
              "4   5  Fed's Plosser: Nasty Weather Has Curbed Job Gr...   \n",
              "\n",
              "                                                 URL          PUBLISHER  \\\n",
              "0  http://www.latimes.com/business/money/la-fi-mo...  Los Angeles Times   \n",
              "1  http://www.livemint.com/Politics/H2EvwJSK2VE6O...           Livemint   \n",
              "2  http://www.ifamagazine.com/news/us-open-stocks...       IFA Magazine   \n",
              "3  http://www.ifamagazine.com/news/fed-risks-fall...       IFA Magazine   \n",
              "4  http://www.moneynews.com/Economy/federal-reser...          Moneynews   \n",
              "\n",
              "  CATEGORY                          STORY             HOSTNAME     TIMESTAMP  \n",
              "0        b  ddUyU0VZz0BRneMioxUPQVP6sIxvM      www.latimes.com  1.394470e+12  \n",
              "1        b  ddUyU0VZz0BRneMioxUPQVP6sIxvM     www.livemint.com  1.394470e+12  \n",
              "2        b  ddUyU0VZz0BRneMioxUPQVP6sIxvM  www.ifamagazine.com  1.394470e+12  \n",
              "3        b  ddUyU0VZz0BRneMioxUPQVP6sIxvM  www.ifamagazine.com  1.394470e+12  \n",
              "4        b  ddUyU0VZz0BRneMioxUPQVP6sIxvM    www.moneynews.com  1.394470e+12  "
            ],
            "text/html": [
              "\n",
              "  <div id=\"df-069d3d5f-4ba8-4ca0-b6f3-a06f996534b6\" class=\"colab-df-container\">\n",
              "    <div>\n",
              "<style scoped>\n",
              "    .dataframe tbody tr th:only-of-type {\n",
              "        vertical-align: middle;\n",
              "    }\n",
              "\n",
              "    .dataframe tbody tr th {\n",
              "        vertical-align: top;\n",
              "    }\n",
              "\n",
              "    .dataframe thead th {\n",
              "        text-align: right;\n",
              "    }\n",
              "</style>\n",
              "<table border=\"1\" class=\"dataframe\">\n",
              "  <thead>\n",
              "    <tr style=\"text-align: right;\">\n",
              "      <th></th>\n",
              "      <th>ID</th>\n",
              "      <th>TITLE</th>\n",
              "      <th>URL</th>\n",
              "      <th>PUBLISHER</th>\n",
              "      <th>CATEGORY</th>\n",
              "      <th>STORY</th>\n",
              "      <th>HOSTNAME</th>\n",
              "      <th>TIMESTAMP</th>\n",
              "    </tr>\n",
              "  </thead>\n",
              "  <tbody>\n",
              "    <tr>\n",
              "      <th>0</th>\n",
              "      <td>1</td>\n",
              "      <td>Fed official says weak data caused by weather,...</td>\n",
              "      <td>http://www.latimes.com/business/money/la-fi-mo...</td>\n",
              "      <td>Los Angeles Times</td>\n",
              "      <td>b</td>\n",
              "      <td>ddUyU0VZz0BRneMioxUPQVP6sIxvM</td>\n",
              "      <td>www.latimes.com</td>\n",
              "      <td>1.394470e+12</td>\n",
              "    </tr>\n",
              "    <tr>\n",
              "      <th>1</th>\n",
              "      <td>2</td>\n",
              "      <td>Fed's Charles Plosser sees high bar for change...</td>\n",
              "      <td>http://www.livemint.com/Politics/H2EvwJSK2VE6O...</td>\n",
              "      <td>Livemint</td>\n",
              "      <td>b</td>\n",
              "      <td>ddUyU0VZz0BRneMioxUPQVP6sIxvM</td>\n",
              "      <td>www.livemint.com</td>\n",
              "      <td>1.394470e+12</td>\n",
              "    </tr>\n",
              "    <tr>\n",
              "      <th>2</th>\n",
              "      <td>3</td>\n",
              "      <td>US open: Stocks fall after Fed official hints ...</td>\n",
              "      <td>http://www.ifamagazine.com/news/us-open-stocks...</td>\n",
              "      <td>IFA Magazine</td>\n",
              "      <td>b</td>\n",
              "      <td>ddUyU0VZz0BRneMioxUPQVP6sIxvM</td>\n",
              "      <td>www.ifamagazine.com</td>\n",
              "      <td>1.394470e+12</td>\n",
              "    </tr>\n",
              "    <tr>\n",
              "      <th>3</th>\n",
              "      <td>4</td>\n",
              "      <td>Fed risks falling 'behind the curve', Charles ...</td>\n",
              "      <td>http://www.ifamagazine.com/news/fed-risks-fall...</td>\n",
              "      <td>IFA Magazine</td>\n",
              "      <td>b</td>\n",
              "      <td>ddUyU0VZz0BRneMioxUPQVP6sIxvM</td>\n",
              "      <td>www.ifamagazine.com</td>\n",
              "      <td>1.394470e+12</td>\n",
              "    </tr>\n",
              "    <tr>\n",
              "      <th>4</th>\n",
              "      <td>5</td>\n",
              "      <td>Fed's Plosser: Nasty Weather Has Curbed Job Gr...</td>\n",
              "      <td>http://www.moneynews.com/Economy/federal-reser...</td>\n",
              "      <td>Moneynews</td>\n",
              "      <td>b</td>\n",
              "      <td>ddUyU0VZz0BRneMioxUPQVP6sIxvM</td>\n",
              "      <td>www.moneynews.com</td>\n",
              "      <td>1.394470e+12</td>\n",
              "    </tr>\n",
              "  </tbody>\n",
              "</table>\n",
              "</div>\n",
              "    <div class=\"colab-df-buttons\">\n",
              "\n",
              "  <div class=\"colab-df-container\">\n",
              "    <button class=\"colab-df-convert\" onclick=\"convertToInteractive('df-069d3d5f-4ba8-4ca0-b6f3-a06f996534b6')\"\n",
              "            title=\"Convert this dataframe to an interactive table.\"\n",
              "            style=\"display:none;\">\n",
              "\n",
              "  <svg xmlns=\"http://www.w3.org/2000/svg\" height=\"24px\" viewBox=\"0 -960 960 960\">\n",
              "    <path d=\"M120-120v-720h720v720H120Zm60-500h600v-160H180v160Zm220 220h160v-160H400v160Zm0 220h160v-160H400v160ZM180-400h160v-160H180v160Zm440 0h160v-160H620v160ZM180-180h160v-160H180v160Zm440 0h160v-160H620v160Z\"/>\n",
              "  </svg>\n",
              "    </button>\n",
              "\n",
              "  <style>\n",
              "    .colab-df-container {\n",
              "      display:flex;\n",
              "      gap: 12px;\n",
              "    }\n",
              "\n",
              "    .colab-df-convert {\n",
              "      background-color: #E8F0FE;\n",
              "      border: none;\n",
              "      border-radius: 50%;\n",
              "      cursor: pointer;\n",
              "      display: none;\n",
              "      fill: #1967D2;\n",
              "      height: 32px;\n",
              "      padding: 0 0 0 0;\n",
              "      width: 32px;\n",
              "    }\n",
              "\n",
              "    .colab-df-convert:hover {\n",
              "      background-color: #E2EBFA;\n",
              "      box-shadow: 0px 1px 2px rgba(60, 64, 67, 0.3), 0px 1px 3px 1px rgba(60, 64, 67, 0.15);\n",
              "      fill: #174EA6;\n",
              "    }\n",
              "\n",
              "    .colab-df-buttons div {\n",
              "      margin-bottom: 4px;\n",
              "    }\n",
              "\n",
              "    [theme=dark] .colab-df-convert {\n",
              "      background-color: #3B4455;\n",
              "      fill: #D2E3FC;\n",
              "    }\n",
              "\n",
              "    [theme=dark] .colab-df-convert:hover {\n",
              "      background-color: #434B5C;\n",
              "      box-shadow: 0px 1px 3px 1px rgba(0, 0, 0, 0.15);\n",
              "      filter: drop-shadow(0px 1px 2px rgba(0, 0, 0, 0.3));\n",
              "      fill: #FFFFFF;\n",
              "    }\n",
              "  </style>\n",
              "\n",
              "    <script>\n",
              "      const buttonEl =\n",
              "        document.querySelector('#df-069d3d5f-4ba8-4ca0-b6f3-a06f996534b6 button.colab-df-convert');\n",
              "      buttonEl.style.display =\n",
              "        google.colab.kernel.accessAllowed ? 'block' : 'none';\n",
              "\n",
              "      async function convertToInteractive(key) {\n",
              "        const element = document.querySelector('#df-069d3d5f-4ba8-4ca0-b6f3-a06f996534b6');\n",
              "        const dataTable =\n",
              "          await google.colab.kernel.invokeFunction('convertToInteractive',\n",
              "                                                    [key], {});\n",
              "        if (!dataTable) return;\n",
              "\n",
              "        const docLinkHtml = 'Like what you see? Visit the ' +\n",
              "          '<a target=\"_blank\" href=https://colab.research.google.com/notebooks/data_table.ipynb>data table notebook</a>'\n",
              "          + ' to learn more about interactive tables.';\n",
              "        element.innerHTML = '';\n",
              "        dataTable['output_type'] = 'display_data';\n",
              "        await google.colab.output.renderOutput(dataTable, element);\n",
              "        const docLink = document.createElement('div');\n",
              "        docLink.innerHTML = docLinkHtml;\n",
              "        element.appendChild(docLink);\n",
              "      }\n",
              "    </script>\n",
              "  </div>\n",
              "\n",
              "\n",
              "<div id=\"df-aa629967-1b6a-4515-a730-1c7f3983ea95\">\n",
              "  <button class=\"colab-df-quickchart\" onclick=\"quickchart('df-aa629967-1b6a-4515-a730-1c7f3983ea95')\"\n",
              "            title=\"Suggest charts.\"\n",
              "            style=\"display:none;\">\n",
              "\n",
              "<svg xmlns=\"http://www.w3.org/2000/svg\" height=\"24px\"viewBox=\"0 0 24 24\"\n",
              "     width=\"24px\">\n",
              "    <g>\n",
              "        <path d=\"M19 3H5c-1.1 0-2 .9-2 2v14c0 1.1.9 2 2 2h14c1.1 0 2-.9 2-2V5c0-1.1-.9-2-2-2zM9 17H7v-7h2v7zm4 0h-2V7h2v10zm4 0h-2v-4h2v4z\"/>\n",
              "    </g>\n",
              "</svg>\n",
              "  </button>\n",
              "\n",
              "<style>\n",
              "  .colab-df-quickchart {\n",
              "      --bg-color: #E8F0FE;\n",
              "      --fill-color: #1967D2;\n",
              "      --hover-bg-color: #E2EBFA;\n",
              "      --hover-fill-color: #174EA6;\n",
              "      --disabled-fill-color: #AAA;\n",
              "      --disabled-bg-color: #DDD;\n",
              "  }\n",
              "\n",
              "  [theme=dark] .colab-df-quickchart {\n",
              "      --bg-color: #3B4455;\n",
              "      --fill-color: #D2E3FC;\n",
              "      --hover-bg-color: #434B5C;\n",
              "      --hover-fill-color: #FFFFFF;\n",
              "      --disabled-bg-color: #3B4455;\n",
              "      --disabled-fill-color: #666;\n",
              "  }\n",
              "\n",
              "  .colab-df-quickchart {\n",
              "    background-color: var(--bg-color);\n",
              "    border: none;\n",
              "    border-radius: 50%;\n",
              "    cursor: pointer;\n",
              "    display: none;\n",
              "    fill: var(--fill-color);\n",
              "    height: 32px;\n",
              "    padding: 0;\n",
              "    width: 32px;\n",
              "  }\n",
              "\n",
              "  .colab-df-quickchart:hover {\n",
              "    background-color: var(--hover-bg-color);\n",
              "    box-shadow: 0 1px 2px rgba(60, 64, 67, 0.3), 0 1px 3px 1px rgba(60, 64, 67, 0.15);\n",
              "    fill: var(--button-hover-fill-color);\n",
              "  }\n",
              "\n",
              "  .colab-df-quickchart-complete:disabled,\n",
              "  .colab-df-quickchart-complete:disabled:hover {\n",
              "    background-color: var(--disabled-bg-color);\n",
              "    fill: var(--disabled-fill-color);\n",
              "    box-shadow: none;\n",
              "  }\n",
              "\n",
              "  .colab-df-spinner {\n",
              "    border: 2px solid var(--fill-color);\n",
              "    border-color: transparent;\n",
              "    border-bottom-color: var(--fill-color);\n",
              "    animation:\n",
              "      spin 1s steps(1) infinite;\n",
              "  }\n",
              "\n",
              "  @keyframes spin {\n",
              "    0% {\n",
              "      border-color: transparent;\n",
              "      border-bottom-color: var(--fill-color);\n",
              "      border-left-color: var(--fill-color);\n",
              "    }\n",
              "    20% {\n",
              "      border-color: transparent;\n",
              "      border-left-color: var(--fill-color);\n",
              "      border-top-color: var(--fill-color);\n",
              "    }\n",
              "    30% {\n",
              "      border-color: transparent;\n",
              "      border-left-color: var(--fill-color);\n",
              "      border-top-color: var(--fill-color);\n",
              "      border-right-color: var(--fill-color);\n",
              "    }\n",
              "    40% {\n",
              "      border-color: transparent;\n",
              "      border-right-color: var(--fill-color);\n",
              "      border-top-color: var(--fill-color);\n",
              "    }\n",
              "    60% {\n",
              "      border-color: transparent;\n",
              "      border-right-color: var(--fill-color);\n",
              "    }\n",
              "    80% {\n",
              "      border-color: transparent;\n",
              "      border-right-color: var(--fill-color);\n",
              "      border-bottom-color: var(--fill-color);\n",
              "    }\n",
              "    90% {\n",
              "      border-color: transparent;\n",
              "      border-bottom-color: var(--fill-color);\n",
              "    }\n",
              "  }\n",
              "</style>\n",
              "\n",
              "  <script>\n",
              "    async function quickchart(key) {\n",
              "      const quickchartButtonEl =\n",
              "        document.querySelector('#' + key + ' button');\n",
              "      quickchartButtonEl.disabled = true;  // To prevent multiple clicks.\n",
              "      quickchartButtonEl.classList.add('colab-df-spinner');\n",
              "      try {\n",
              "        const charts = await google.colab.kernel.invokeFunction(\n",
              "            'suggestCharts', [key], {});\n",
              "      } catch (error) {\n",
              "        console.error('Error during call to suggestCharts:', error);\n",
              "      }\n",
              "      quickchartButtonEl.classList.remove('colab-df-spinner');\n",
              "      quickchartButtonEl.classList.add('colab-df-quickchart-complete');\n",
              "    }\n",
              "    (() => {\n",
              "      let quickchartButtonEl =\n",
              "        document.querySelector('#df-aa629967-1b6a-4515-a730-1c7f3983ea95 button');\n",
              "      quickchartButtonEl.style.display =\n",
              "        google.colab.kernel.accessAllowed ? 'block' : 'none';\n",
              "    })();\n",
              "  </script>\n",
              "</div>\n",
              "    </div>\n",
              "  </div>\n"
            ]
          },
          "metadata": {},
          "execution_count": 11
        }
      ]
    },
    {
      "cell_type": "markdown",
      "source": [
        "Creating list of title collumn where we need to perform topic modeling"
      ],
      "metadata": {
        "id": "CZSRV6eHVdeu"
      }
    },
    {
      "cell_type": "code",
      "source": [
        "news_title = data_df.TITLE.values.tolist()"
      ],
      "metadata": {
        "id": "gjw-bOeuzUUX"
      },
      "execution_count": null,
      "outputs": []
    },
    {
      "cell_type": "code",
      "source": [
        "# Removeing the new line characters and single quotes\n",
        "news_title = [re.sub('\\S*@\\S*\\s?', '', sent) for sent in news_title]"
      ],
      "metadata": {
        "id": "SaVwzCmIz1YX"
      },
      "execution_count": null,
      "outputs": []
    },
    {
      "cell_type": "code",
      "source": [
        "# Remove new line characters\n",
        "news_title = [re.sub('\\s+', ' ', sent) for sent in news_title]"
      ],
      "metadata": {
        "id": "K3KvrOJhz484"
      },
      "execution_count": null,
      "outputs": []
    },
    {
      "cell_type": "code",
      "source": [
        "# Remove the unnecessary single qoutes in the list\n",
        "news_title = [re.sub(\"\\'\", \"\", sent) for sent in news_title]"
      ],
      "metadata": {
        "id": "qyUTDVe6z7H0"
      },
      "execution_count": null,
      "outputs": []
    },
    {
      "cell_type": "code",
      "source": [
        "# display last 10 rows of news title\n",
        "news_title[:10]"
      ],
      "metadata": {
        "colab": {
          "base_uri": "https://localhost:8080/"
        },
        "id": "OriqrFaOz890",
        "outputId": "43902452-eaa8-45b3-86c3-749fded8b39f"
      },
      "execution_count": null,
      "outputs": [
        {
          "output_type": "execute_result",
          "data": {
            "text/plain": [
              "['Fed official says weak data caused by weather, should not slow taper',\n",
              " 'Feds Charles Plosser sees high bar for change in pace of tapering',\n",
              " 'US open: Stocks fall after Fed official hints at accelerated tapering',\n",
              " 'Fed risks falling behind the curve, Charles Plosser says',\n",
              " 'Feds Plosser: Nasty Weather Has Curbed Job Growth',\n",
              " 'Plosser: Fed May Have to Accelerate Tapering Pace',\n",
              " 'Feds Plosser: Taper pace may be too slow',\n",
              " 'Feds Plosser expects US unemployment to fall to 6.2% by the end of 2014',\n",
              " 'US jobs growth last month hit by weather:Fed President Charles Plosser',\n",
              " 'ECB unlikely to end sterilisation of SMP purchases - traders']"
            ]
          },
          "metadata": {},
          "execution_count": 19
        }
      ]
    },
    {
      "cell_type": "code",
      "source": [
        "# breaking connected words and removing special characters\n",
        "\n",
        "news_title = [re.sub(\"-\", \" \", sent) for sent in news_title]\n",
        "news_title = [re.sub(\"_\", \" \", sent) for sent in news_title]\n",
        "news_title = [re.sub(\":\", \"\", sent) for sent in news_title]\n",
        "news_title = [re.sub(\"_\", \" \", sent) for sent in news_title]\n",
        "news_title = [re.sub(\"\\.\\.\\.\", \"\", sent) for sent in news_title]"
      ],
      "metadata": {
        "id": "qf-OvM9gz-jJ"
      },
      "execution_count": null,
      "outputs": []
    },
    {
      "cell_type": "code",
      "source": [
        "def sent_to_words(sentences):\n",
        "    for sentence in sentences:\n",
        "        yield(gensim.utils.simple_preprocess(str(sentence), deacc=True))\n",
        "\n",
        "news_words = list(sent_to_words(news_title))"
      ],
      "metadata": {
        "id": "C_wIsC-W0Eko"
      },
      "execution_count": null,
      "outputs": []
    },
    {
      "cell_type": "code",
      "source": [
        "# Build the bigram models and combine sentence in bigram\n",
        "\n",
        "bigram = gensim.models.Phrases(news_words, min_count=5, threshold=100) # higher threshold fewer phrases.\n",
        "bigram_mod = gensim.models.phrases.Phraser(bigram)\n"
      ],
      "metadata": {
        "id": "hcKjTo-J0HED"
      },
      "execution_count": null,
      "outputs": []
    },
    {
      "cell_type": "code",
      "source": [
        "def remove_stopwords(texts):\n",
        "    print(stop_words)\n",
        "    return [[word for word in simple_preprocess(str(doc)) if word not in stop_words] for doc in texts]\n",
        "\n",
        "def make_bigrams(texts):\n",
        "    return [bigram_mod[doc] for doc in texts]\n",
        "\n",
        "def lemmatization(texts, allowed_postags=['NOUN', 'ADJ', 'VERB', 'ADV']):\n",
        "    texts_out = []\n",
        "    for sent in texts:\n",
        "        doc = nlp(\" \".join(sent))\n",
        "        texts_out.append([token.lemma_ for token in doc if token.pos_ in allowed_postags])\n",
        "    return texts_out"
      ],
      "metadata": {
        "id": "oKZ5Sdtw0KTH"
      },
      "execution_count": null,
      "outputs": []
    },
    {
      "cell_type": "code",
      "source": [
        "# NLTK Stop words\n",
        "# Extend the list of the stop words by extending more english worlds\n",
        "import nltk;\n",
        "from nltk.corpus import stopwords\n",
        "nltk.download('stopwords')\n",
        "stop_words = stopwords.words('english')\n",
        "additional_stop_words= ['from', 'subject', 're', 'edu', 'use','a','about', 'above', 'across', 'snl', 'get', 'say', 'new', 'pm','ex','s','get','io','m', 'let', 'st', 'hi', 'fi','after', 'afterwards','again','against', 'all', 'almost','alone','along',\n",
        "'already','also','although','always','am','among','amongst','amoungst','amount','an','and','another','any','anyhow','anyone','anything','anyway','anywhere','are','around','as','at','back','be','became','because','become','becomes','becoming',\n",
        "                        'been','before','beforehand','behind','being','below','beside','besides','between','beyond','bill','both','bottom','but','by','call','can','cannot','cant','co','con','could','couldnt','cry','de','describe','detail','do',\n",
        "                        'done','down','due','during','each','eg','eight','either','eleven','else','elsewhere','empty','enough','etc','even','ever','every','everyone','everything','everywhere','except','few','fifteen','fifty','fill','find','fire',\n",
        "                        'first','five','for','former','formerly','forty','found','four','from','front','full','further','get','give','go','had','has','hasnt','have','he','hence','her','here','hereafter','hereby','herein','hereupon','hers','herself',\n",
        "                        'him','himself','his','how','however','hundred','i','ie','if','in','inc','indeed','interest','into','is','it','its','itself','keep','last','latter','latterly','least','less','ltd','made','many','may','me','meanwhile','might',\n",
        "                        'mill','mine','more','moreover','most','mostly','move','much','must','my','myself','name','namely','neither','never','nevertheless','next','nine','no','nobody','none','noone','nor','not','nothing','now','nowhere','of','off','often',\n",
        "                        'on','once','one','only','onto','or','other','others','otherwise','our','ours','ourselves','out','over','own','part','per','perhaps','please','put','rather','re','same','see','seem','seemed','seeming','seems','serious','several',\n",
        "                        'she','should','show','side','since','sincere','six','sixty','so','some','somehow','someone','something','sometime','sometimes','somewhere','still','such','system','take','ten','than','that','the','their','them','themselves','then',\n",
        "                        'thence','there','thereafter','thereby','therefore','therein','thereupon','these','they','thick','thin','third','this','those','though','three','through','throughout','thru','thus','to','together','too','top','toward','towards',\n",
        "                        'twelve','twenty','two','un','under','until','up','upon','us','very','via','was','we','well','were','what','whatever','when','whence','whenever','where','whereafter','whereas','whereby','wherein','whereupon','wherever','whether',\n",
        "                        'which','while','whither','who','whoever','whole','whom','whose','why','will','with','within','without','would','yet','you','your','yours','yourself','yourselves']\n",
        "stop_words.extend(additional_stop_words)"
      ],
      "metadata": {
        "colab": {
          "base_uri": "https://localhost:8080/"
        },
        "id": "gpdBYyxK0n2G",
        "outputId": "50c980ca-92a4-4ac6-a5aa-0a6c09cdb686"
      },
      "execution_count": null,
      "outputs": [
        {
          "output_type": "stream",
          "name": "stderr",
          "text": [
            "[nltk_data] Downloading package stopwords to /root/nltk_data...\n",
            "[nltk_data]   Unzipping corpora/stopwords.zip.\n"
          ]
        }
      ]
    },
    {
      "cell_type": "code",
      "source": [
        "# Remove Stop Words\n",
        "\n",
        "news_words_final = remove_stopwords(news_words)\n",
        "\n",
        "# Create Bigrams\n",
        "\n",
        "data_words_bigrams = make_bigrams(news_words_final)\n",
        "\n",
        "nlp = spacy.load('en_core_web_sm', disable=['parser', 'ner'])\n",
        "\n",
        "news_words_lemmatized = lemmatization(data_words_bigrams, allowed_postags=['NOUN', 'ADJ', 'VERB', 'ADV'])"
      ],
      "metadata": {
        "colab": {
          "base_uri": "https://localhost:8080/"
        },
        "id": "BVYXWqPA0O_j",
        "outputId": "499480f4-40ed-452a-e186-273ed0d80a5b"
      },
      "execution_count": null,
      "outputs": [
        {
          "output_type": "stream",
          "name": "stdout",
          "text": [
            "['i', 'me', 'my', 'myself', 'we', 'our', 'ours', 'ourselves', 'you', \"you're\", \"you've\", \"you'll\", \"you'd\", 'your', 'yours', 'yourself', 'yourselves', 'he', 'him', 'his', 'himself', 'she', \"she's\", 'her', 'hers', 'herself', 'it', \"it's\", 'its', 'itself', 'they', 'them', 'their', 'theirs', 'themselves', 'what', 'which', 'who', 'whom', 'this', 'that', \"that'll\", 'these', 'those', 'am', 'is', 'are', 'was', 'were', 'be', 'been', 'being', 'have', 'has', 'had', 'having', 'do', 'does', 'did', 'doing', 'a', 'an', 'the', 'and', 'but', 'if', 'or', 'because', 'as', 'until', 'while', 'of', 'at', 'by', 'for', 'with', 'about', 'against', 'between', 'into', 'through', 'during', 'before', 'after', 'above', 'below', 'to', 'from', 'up', 'down', 'in', 'out', 'on', 'off', 'over', 'under', 'again', 'further', 'then', 'once', 'here', 'there', 'when', 'where', 'why', 'how', 'all', 'any', 'both', 'each', 'few', 'more', 'most', 'other', 'some', 'such', 'no', 'nor', 'not', 'only', 'own', 'same', 'so', 'than', 'too', 'very', 's', 't', 'can', 'will', 'just', 'don', \"don't\", 'should', \"should've\", 'now', 'd', 'll', 'm', 'o', 're', 've', 'y', 'ain', 'aren', \"aren't\", 'couldn', \"couldn't\", 'didn', \"didn't\", 'doesn', \"doesn't\", 'hadn', \"hadn't\", 'hasn', \"hasn't\", 'haven', \"haven't\", 'isn', \"isn't\", 'ma', 'mightn', \"mightn't\", 'mustn', \"mustn't\", 'needn', \"needn't\", 'shan', \"shan't\", 'shouldn', \"shouldn't\", 'wasn', \"wasn't\", 'weren', \"weren't\", 'won', \"won't\", 'wouldn', \"wouldn't\", 'from', 'subject', 're', 'edu', 'use', 'a', 'about', 'above', 'across', 'snl', 'get', 'say', 'new', 'pm', 'ex', 's', 'get', 'io', 'm', 'let', 'st', 'hi', 'fi', 'after', 'afterwards', 'again', 'against', 'all', 'almost', 'alone', 'along', 'already', 'also', 'although', 'always', 'am', 'among', 'amongst', 'amoungst', 'amount', 'an', 'and', 'another', 'any', 'anyhow', 'anyone', 'anything', 'anyway', 'anywhere', 'are', 'around', 'as', 'at', 'back', 'be', 'became', 'because', 'become', 'becomes', 'becoming', 'been', 'before', 'beforehand', 'behind', 'being', 'below', 'beside', 'besides', 'between', 'beyond', 'bill', 'both', 'bottom', 'but', 'by', 'call', 'can', 'cannot', 'cant', 'co', 'con', 'could', 'couldnt', 'cry', 'de', 'describe', 'detail', 'do', 'done', 'down', 'due', 'during', 'each', 'eg', 'eight', 'either', 'eleven', 'else', 'elsewhere', 'empty', 'enough', 'etc', 'even', 'ever', 'every', 'everyone', 'everything', 'everywhere', 'except', 'few', 'fifteen', 'fifty', 'fill', 'find', 'fire', 'first', 'five', 'for', 'former', 'formerly', 'forty', 'found', 'four', 'from', 'front', 'full', 'further', 'get', 'give', 'go', 'had', 'has', 'hasnt', 'have', 'he', 'hence', 'her', 'here', 'hereafter', 'hereby', 'herein', 'hereupon', 'hers', 'herself', 'him', 'himself', 'his', 'how', 'however', 'hundred', 'i', 'ie', 'if', 'in', 'inc', 'indeed', 'interest', 'into', 'is', 'it', 'its', 'itself', 'keep', 'last', 'latter', 'latterly', 'least', 'less', 'ltd', 'made', 'many', 'may', 'me', 'meanwhile', 'might', 'mill', 'mine', 'more', 'moreover', 'most', 'mostly', 'move', 'much', 'must', 'my', 'myself', 'name', 'namely', 'neither', 'never', 'nevertheless', 'next', 'nine', 'no', 'nobody', 'none', 'noone', 'nor', 'not', 'nothing', 'now', 'nowhere', 'of', 'off', 'often', 'on', 'once', 'one', 'only', 'onto', 'or', 'other', 'others', 'otherwise', 'our', 'ours', 'ourselves', 'out', 'over', 'own', 'part', 'per', 'perhaps', 'please', 'put', 'rather', 're', 'same', 'see', 'seem', 'seemed', 'seeming', 'seems', 'serious', 'several', 'she', 'should', 'show', 'side', 'since', 'sincere', 'six', 'sixty', 'so', 'some', 'somehow', 'someone', 'something', 'sometime', 'sometimes', 'somewhere', 'still', 'such', 'system', 'take', 'ten', 'than', 'that', 'the', 'their', 'them', 'themselves', 'then', 'thence', 'there', 'thereafter', 'thereby', 'therefore', 'therein', 'thereupon', 'these', 'they', 'thick', 'thin', 'third', 'this', 'those', 'though', 'three', 'through', 'throughout', 'thru', 'thus', 'to', 'together', 'too', 'top', 'toward', 'towards', 'twelve', 'twenty', 'two', 'un', 'under', 'until', 'up', 'upon', 'us', 'very', 'via', 'was', 'we', 'well', 'were', 'what', 'whatever', 'when', 'whence', 'whenever', 'where', 'whereafter', 'whereas', 'whereby', 'wherein', 'whereupon', 'wherever', 'whether', 'which', 'while', 'whither', 'who', 'whoever', 'whole', 'whom', 'whose', 'why', 'will', 'with', 'within', 'without', 'would', 'yet', 'you', 'your', 'yours', 'yourself', 'yourselves']\n"
          ]
        }
      ]
    },
    {
      "cell_type": "markdown",
      "source": [
        "<b>Question 2 - Using the LDA algorithm create the Topics (Min 10) for the Corpus</b>"
      ],
      "metadata": {
        "id": "hi1y2BvXudHT"
      }
    },
    {
      "cell_type": "code",
      "source": [
        "# Create Dictionary\n",
        "news_id2word = corpora.Dictionary(news_words_lemmatized)\n",
        "\n",
        "# Create Corpus\n",
        "news_texts = news_words_lemmatized\n",
        "\n",
        "# Term Document Frequency\n",
        "news_corpus = [news_id2word.doc2bow(text) for text in news_texts]"
      ],
      "metadata": {
        "id": "Q9ZzOOsS0Rm1"
      },
      "execution_count": null,
      "outputs": []
    },
    {
      "cell_type": "code",
      "source": [
        "[[(news_id2word[id], freq) for id, freq in cp] for cp in news_corpus[11:12]]"
      ],
      "metadata": {
        "colab": {
          "base_uri": "https://localhost:8080/"
        },
        "id": "H5zckfX11uth",
        "outputId": "adc35e1a-f798-4e8b-e8e5-2b1f67015e0a"
      },
      "execution_count": null,
      "outputs": [
        {
          "output_type": "execute_result",
          "data": {
            "text/plain": [
              "[[('bake', 1), ('bank', 1), ('union', 1), ('work', 1)]]"
            ]
          },
          "metadata": {},
          "execution_count": 30
        }
      ]
    },
    {
      "cell_type": "code",
      "source": [
        "lda_model_news_article = gensim.models.ldamodel.LdaModel(corpus=news_corpus,\n",
        "                                           id2word=news_id2word,\n",
        "                                           num_topics=10,\n",
        "                                           random_state=42,\n",
        "                                           update_every=11,\n",
        "                                           chunksize=100,\n",
        "                                           passes=100,\n",
        "                                           alpha='auto',\n",
        "                                           per_word_topics=True)"
      ],
      "metadata": {
        "id": "eHrwOEYs1xa4"
      },
      "execution_count": null,
      "outputs": []
    },
    {
      "cell_type": "markdown",
      "source": [
        "<b>Question 3 - Compute the coherence score and print Topics Extracted</b>"
      ],
      "metadata": {
        "id": "HX4ThHW_uztj"
      }
    },
    {
      "cell_type": "code",
      "source": [
        "# Compute Coherence Score\n",
        "\n",
        "coherence_model_lda = CoherenceModel(model=lda_model_news_article, texts=news_words_lemmatized, dictionary=news_id2word, coherence='c_v')\n",
        "coherence_lda = coherence_model_lda.get_coherence()\n",
        "print('\\nCoherence Score: ', coherence_lda)"
      ],
      "metadata": {
        "colab": {
          "base_uri": "https://localhost:8080/"
        },
        "id": "Y4_dwgca1zwJ",
        "outputId": "23645fc3-0351-4c75-ab76-05c65d5bd742"
      },
      "execution_count": null,
      "outputs": [
        {
          "output_type": "stream",
          "name": "stdout",
          "text": [
            "\n",
            "Coherence Score:  0.5445156131497383\n"
          ]
        }
      ]
    },
    {
      "cell_type": "markdown",
      "source": [
        " Extracted Topics"
      ],
      "metadata": {
        "id": "s3U_Y1wWu804"
      }
    },
    {
      "cell_type": "code",
      "source": [
        "lda_model_news_article.print_topics()"
      ],
      "metadata": {
        "colab": {
          "base_uri": "https://localhost:8080/"
        },
        "id": "5K9PD0h7vAAP",
        "outputId": "3df7cf0b-c406-4bbe-b64d-1d3acb31e400"
      },
      "execution_count": null,
      "outputs": [
        {
          "output_type": "execute_result",
          "data": {
            "text/plain": [
              "[(0,\n",
              "  '0.076*\"bachelor\" + 0.067*\"finale\" + 0.028*\"true_detective\" + 0.027*\"spoiler\" + 0.021*\"tax\" + 0.020*\"juan_pablo\" + 0.016*\"pick\" + 0.013*\"call\" + 0.013*\"reality\" + 0.013*\"rating\"'),\n",
              " (1,\n",
              "  '0.040*\"miley_cyrus\" + 0.031*\"girl\" + 0.022*\"bankruptcy\" + 0.022*\"file\" + 0.021*\"watch\" + 0.021*\"word\" + 0.019*\"perform\" + 0.018*\"time\" + 0.018*\"scandal\" + 0.017*\"ban_bossy\"'),\n",
              " (2,\n",
              "  '0.048*\"carney\" + 0.034*\"tanker\" + 0.032*\"libyan\" + 0.030*\"bank\" + 0.023*\"say\" + 0.018*\"oil\" + 0.018*\"bitcoin_exchange\" + 0.015*\"economy\" + 0.014*\"price\" + 0.014*\"escape\"'),\n",
              " (3,\n",
              "  '0.038*\"stacy_keibl\" + 0.026*\"deposition\" + 0.023*\"s\" + 0.021*\"justin_bieber\" + 0.018*\"george_clooney\" + 0.016*\"tell\" + 0.015*\"public\" + 0.014*\"star\" + 0.012*\"secret\" + 0.012*\"prince_harry\"'),\n",
              " (4,\n",
              "  '0.024*\"season\" + 0.024*\"video\" + 0.017*\"titanfall\" + 0.016*\"game\" + 0.016*\"throne\" + 0.014*\"taxis\" + 0.012*\"trailer\" + 0.012*\"live\" + 0.011*\"week\" + 0.011*\"launch\"'),\n",
              " (5,\n",
              "  '0.087*\"stock\" + 0.037*\"market\" + 0.030*\"fall\" + 0.025*\"low\" + 0.024*\"weak\" + 0.021*\"datum\" + 0.019*\"campaign\" + 0.018*\"bad\" + 0.018*\"slip\" + 0.017*\"world\"'),\n",
              " (6,\n",
              "  '0.039*\"update\" + 0.037*\"io\" + 0.033*\"sale\" + 0.030*\"apple\" + 0.027*\"pot\" + 0.022*\"make\" + 0.019*\"forex\" + 0.015*\"tv\" + 0.014*\"bring\" + 0.014*\"fix\"'),\n",
              " (7,\n",
              "  '0.027*\"year\" + 0.021*\"mp\" + 0.020*\"smartphone\" + 0.018*\"kid\" + 0.015*\"rebel_port\" + 0.014*\"force\" + 0.014*\"profit\" + 0.013*\"forecast\" + 0.013*\"oil\" + 0.013*\"soon\"'),\n",
              " (8,\n",
              "  '0.034*\"taylor_swift\" + 0.033*\"loss\" + 0.026*\"rate\" + 0.025*\"parent\" + 0.023*\"american_eagle\" + 0.021*\"change\" + 0.018*\"question\" + 0.018*\"talk\" + 0.016*\"outfitter\" + 0.015*\"unicredit_post\"'),\n",
              " (9,\n",
              "  '0.050*\"urban_outfitter\" + 0.023*\"bitcoin\" + 0.020*\"urbn\" + 0.019*\"go\" + 0.017*\"say\" + 0.014*\"earning\" + 0.014*\"film\" + 0.013*\"sterling\" + 0.011*\"concern\" + 0.011*\"card\"')]"
            ]
          },
          "metadata": {},
          "execution_count": 33
        }
      ]
    },
    {
      "cell_type": "markdown",
      "source": [
        "<b>Question - 4 Visualize the topics </b>\n"
      ],
      "metadata": {
        "id": "ZgTBm_vJvOSK"
      }
    },
    {
      "cell_type": "code",
      "source": [
        "pyLDAvis.enable_notebook()\n",
        "vis = pyLDAvis.gensim.prepare(lda_model_news_article, news_corpus, news_id2word)\n",
        "vis"
      ],
      "metadata": {
        "colab": {
          "base_uri": "https://localhost:8080/",
          "height": 862
        },
        "id": "bcejzWeW2C4L",
        "outputId": "5181908d-a233-4b95-89ad-67594d6acff1"
      },
      "execution_count": 79,
      "outputs": [
        {
          "output_type": "execute_result",
          "data": {
            "text/plain": [
              "PreparedData(topic_coordinates=              x         y  topics  cluster       Freq\n",
              "topic                                                \n",
              "4      0.366130  0.012094       1        1  30.049734\n",
              "1     -0.034409  0.225766       2        1  10.420318\n",
              "6     -0.004672 -0.018887       3        1  10.097498\n",
              "3     -0.049170  0.148763       4        1   9.267297\n",
              "0     -0.131363  0.027988       5        1   9.206124\n",
              "5     -0.037146 -0.260994       6        1   8.915973\n",
              "8     -0.042090 -0.036205       7        1   6.530278\n",
              "9     -0.014282  0.031982       8        1   5.909704\n",
              "2     -0.027583 -0.075888       9        1   5.049430\n",
              "7     -0.025414 -0.054619      10        1   4.553643, topic_info=                Term        Freq       Total Category  logprob  loglift\n",
              "18             stock  169.000000  169.000000  Default  30.0000  30.0000\n",
              "2222        bachelor  153.000000  153.000000  Default  29.0000  29.0000\n",
              "2224          finale  135.000000  135.000000  Default  28.0000  28.0000\n",
              "2195     miley_cyrus   92.000000   92.000000  Default  27.0000  27.0000\n",
              "1716              io   82.000000   82.000000  Default  26.0000  26.0000\n",
              "...              ...         ...         ...      ...      ...      ...\n",
              "3282  american_eagle   11.127263   44.560322  Topic10  -4.4891   1.7018\n",
              "188             plan    8.967604   25.516316  Topic10  -4.7049   2.0435\n",
              "29               hit    9.447300   50.266284  Topic10  -4.6528   1.4176\n",
              "2754      neil_young    7.708446   73.301993  Topic10  -4.8562   0.8370\n",
              "10              high    7.638389   66.447627  Topic10  -4.8654   0.9260\n",
              "\n",
              "[419 rows x 6 columns], token_table=      Topic      Freq       Term\n",
              "term                            \n",
              "2000      7  0.959926         ad\n",
              "597       3  0.943209        add\n",
              "584       7  0.906395  agreement\n",
              "435       3  0.952837      ahead\n",
              "53        9  0.855338        aim\n",
              "...     ...       ...        ...\n",
              "710       6  0.694246      world\n",
              "90        7  0.932991      worry\n",
              "104       2  0.284281       year\n",
              "104      10  0.697780       year\n",
              "1969     10  0.908302      young\n",
              "\n",
              "[478 rows x 3 columns], R=30, lambda_step=0.01, plot_opts={'xlab': 'PC1', 'ylab': 'PC2'}, topic_order=[5, 2, 7, 4, 1, 6, 9, 10, 3, 8])"
            ],
            "text/html": [
              "\n",
              "<link rel=\"stylesheet\" type=\"text/css\" href=\"https://cdn.jsdelivr.net/gh/bmabey/pyLDAvis@3.4.0/pyLDAvis/js/ldavis.v1.0.0.css\">\n",
              "\n",
              "\n",
              "<div id=\"ldavis_el11671343860040912645618452770\" style=\"background-color:white;\"></div>\n",
              "<script type=\"text/javascript\">\n",
              "\n",
              "var ldavis_el11671343860040912645618452770_data = {\"mdsDat\": {\"x\": [0.3661296027670213, -0.034408561834355006, -0.004672250113587797, -0.04917017427605203, -0.1313632451230532, -0.03714642586260371, -0.04208984368986877, -0.014281954103021723, -0.02758345817610561, -0.02541368958837428], \"y\": [0.012093917588692578, 0.22576567738065356, -0.018887320220270724, 0.14876262273581436, 0.027988221875465135, -0.2609935166472658, -0.03620514748076698, 0.031982214722337705, -0.07588813354632883, -0.05461853640833089], \"topics\": [1, 2, 3, 4, 5, 6, 7, 8, 9, 10], \"cluster\": [1, 1, 1, 1, 1, 1, 1, 1, 1, 1], \"Freq\": [30.049734402590733, 10.420317809696078, 10.097498140046175, 9.267296936404874, 9.206123963803325, 8.915973288566938, 6.5302783950509635, 5.909704232944163, 5.049430317367304, 4.5536425135294465]}, \"tinfo\": {\"Term\": [\"stock\", \"bachelor\", \"finale\", \"miley_cyrus\", \"io\", \"urban_outfitter\", \"stacy_keibl\", \"season\", \"update\", \"video\", \"market\", \"carney\", \"sale\", \"apple\", \"girl\", \"fall\", \"make\", \"true_detective\", \"pot\", \"taylor_swift\", \"spoiler\", \"watch\", \"loss\", \"deposition\", \"titanfall\", \"game\", \"bankruptcy\", \"tanker\", \"throne\", \"file\", \"season\", \"video\", \"titanfall\", \"game\", \"throne\", \"taxis\", \"trailer\", \"week\", \"launch\", \"release\", \"recap\", \"voice\", \"come\", \"music\", \"review\", \"speak\", \"fyffe\", \"share\", \"good\", \"ban\", \"surprise\", \"company\", \"iphone\", \"blind_audition\", \"woman\", \"host\", \"episode\", \"start\", \"recall\", \"show\", \"live\", \"neil_young\", \"see\", \"big\", \"get\", \"month\", \"wearable\", \"miss\", \"make\", \"watch\", \"miley_cyrus\", \"bankruptcy\", \"file\", \"perform\", \"time\", \"scandal\", \"ban_bossy\", \"bossy\", \"leave\", \"underwear\", \"steady\", \"apple_release\", \"fan\", \"beyonce\", \"sbarro_file\", \"sneak\", \"internet\", \"feature\", \"carney_face\", \"stop\", \"winner\", \"singer\", \"mean\", \"bankruptcy_protection\", \"sbarro\", \"stream\", \"chapter\", \"fight\", \"costume_change\", \"port\", \"girl\", \"word\", \"continue\", \"watch\", \"hold\", \"want\", \"dance\", \"set\", \"currency\", \"selena_gomez\", \"io\", \"apple\", \"pot\", \"bring\", \"fix\", \"thing\", \"read\", \"colorado\", \"help\", \"need\", \"probe\", \"list\", \"net\", \"percent\", \"apologize\", \"ahead\", \"minute\", \"detail\", \"add\", \"channel\", \"know\", \"twitter\", \"debut\", \"cannabis\", \"return\", \"service\", \"boss\", \"weed\", \"january\", \"hbo\", \"update\", \"forex\", \"sale\", \"carplay\", \"tv\", \"revenue\", \"make\", \"app\", \"rise\", \"month\", \"stacy_keibl\", \"deposition\", \"s\", \"justin_bieber\", \"george_clooney\", \"tell\", \"public\", \"star\", \"secret\", \"prince_harry\", \"leak\", \"girlfriend\", \"legal\", \"defend\", \"marrie\", \"ceo\", \"search\", \"wedding\", \"love\", \"online\", \"analyst\", \"ceremony\", \"war\", \"propose\", \"cressida_bona\", \"lose\", \"pobre\", \"book\", \"marries_jared\", \"musical\", \"neighbor\", \"snowden\", \"bieber\", \"get\", \"naked\", \"selena_gomez\", \"bachelor\", \"finale\", \"true_detective\", \"spoiler\", \"tax\", \"juan_pablo\", \"pick\", \"call\", \"reality\", \"rating\", \"lindsay\", \"lindsay_lohan\", \"money\", \"premiere\", \"way\", \"move\", \"m\", \"win\", \"clare\", \"final_rose\", \"snapshot\", \"head\", \"meet\", \"chris_harrison\", \"viewer\", \"nikki_ferrell\", \"neil_degrasse\", \"view\", \"brief\", \"encryption\", \"chef\", \"happen\", \"business\", \"close\", \"high\", \"tv\", \"docu_serie\", \"end\", \"stock\", \"fall\", \"weak\", \"datum\", \"campaign\", \"bad\", \"slip\", \"chinese\", \"tech\", \"open\", \"oust\", \"dip\", \"asian\", \"edge\", \"copper\", \"public_transit\", \"trading\", \"wall_street\", \"weigh\", \"gas_price\", \"average\", \"flat\", \"commodity\", \"discouraging_new\", \"confidence\", \"industrial\", \"estimate\", \"slide\", \"sink\", \"china\", \"market\", \"ukraine\", \"export\", \"low\", \"world\", \"oil\", \"decline\", \"investor\", \"rise\", \"taylor_swift\", \"loss\", \"rate\", \"parent\", \"change\", \"question\", \"talk\", \"outfitter\", \"unicredit_post\", \"unicredit\", \"worry\", \"galavis\", \"fuel\", \"technology\", \"top\", \"oversight\", \"party\", \"case\", \"turn\", \"let\", \"allegation\", \"story\", \"saturday_night\", \"agreement\", \"money_maker\", \"billboard\", \"message\", \"delay\", \"send\", \"ad\", \"american_eagle\", \"issue\", \"record\", \"selena_gomez\", \"end\", \"break\", \"sale\", \"low\", \"urban_outfitter\", \"urbn\", \"earning\", \"film\", \"sterling\", \"concern\", \"card\", \"result\", \"team\", \"hack\", \"store\", \"wed\", \"name\", \"gun\", \"beat\", \"fast\", \"comcast\", \"engagement\", \"house\", \"cash\", \"number\", \"george_zimmerman\", \"bean\", \"sign\", \"balance\", \"iron_man\", \"customer\", \"boyfriend\", \"quarterly\", \"mixed\", \"bitcoin\", \"go\", \"weather\", \"follow\", \"say\", \"post\", \"report\", \"sale\", \"tanker\", \"libyan\", \"bank\", \"bitcoin_exchange\", \"economy\", \"escape\", \"mark_carney\", \"face\", \"parliament\", \"government\", \"north_korean\", \"growth_worrie\", \"fail\", \"answer\", \"england\", \"recovery\", \"rebel_oil\", \"usd\", \"lawmaker\", \"seize\", \"aim\", \"sea\", \"job\", \"overheat\", \"deputy_governor\", \"escort\", \"jump\", \"control\", \"quick\", \"inch\", \"carney\", \"crude\", \"claim\", \"boe\", \"price\", \"oil\", \"say\", \"hacker\", \"grill\", \"update\", \"mp\", \"smartphone\", \"kid\", \"rebel_port\", \"force\", \"forecast\", \"soon\", \"train\", \"carry\", \"device\", \"expect\", \"kill\", \"rebel\", \"child\", \"ponoplayer\", \"disappoint\", \"feel\", \"parenting\", \"young\", \"employee\", \"lean\", \"fire\", \"ipad_model\", \"track\", \"blame\", \"outlook\", \"national\", \"area\", \"explain\", \"mobile\", \"year\", \"profit\", \"quarter\", \"gain\", \"oil\", \"american_eagle\", \"plan\", \"hit\", \"neil_young\", \"high\"], \"Freq\": [169.0, 153.0, 135.0, 92.0, 82.0, 64.0, 76.0, 158.0, 95.0, 156.0, 78.0, 61.0, 98.0, 67.0, 74.0, 58.0, 94.0, 57.0, 59.0, 48.0, 55.0, 86.0, 47.0, 53.0, 109.0, 105.0, 51.0, 37.0, 103.0, 50.0, 157.97315630238356, 155.4001591126996, 108.43305282845782, 104.94130031612195, 102.75826079599433, 91.00703336289648, 81.62059185995744, 74.00231408422817, 72.22803652616432, 70.85945183579126, 59.42797653846801, 56.44543793418112, 52.25127080512308, 51.669549542512634, 49.07842399182007, 47.67372872678088, 45.6155112234334, 41.61900534199339, 39.1571958391271, 38.98759792765557, 38.494271454565094, 37.89813031998004, 32.48659533788392, 32.476036191767385, 31.620800161584672, 29.932731272247345, 29.102206323345424, 28.867058280171793, 28.542145316061685, 28.474125903073393, 77.05512520649938, 64.95408190961231, 36.443038576705305, 38.636305366673014, 57.76372357788603, 61.870719901489515, 44.36049215906975, 35.55199949024106, 46.01538255497228, 37.09017600261269, 91.35631056706875, 50.99957865145763, 50.19329086555004, 43.67085070713677, 41.41952492617305, 40.58222980755649, 38.50319701831099, 36.75726288684569, 35.053749506319534, 31.519369691897694, 27.30897343244827, 24.358755802259445, 22.602899070930373, 21.04172294650481, 21.015175399050626, 20.19328681131425, 19.413990017417422, 19.358800174889385, 19.270846114552004, 18.9913430105369, 16.78867471145458, 13.912605234408145, 13.478683121766279, 13.33752838448325, 12.914404146794212, 12.134579442710978, 11.564157704809844, 11.545979645451006, 11.43835987484948, 11.423382007040658, 69.21860384076204, 46.8722416690972, 19.716706388149344, 48.562631202389205, 22.230756175763315, 30.595051746512574, 16.300218420736197, 22.86804090623438, 19.716322069533636, 16.62246958000603, 81.7246032723245, 66.69083895635335, 58.870393555495674, 31.52101365790314, 30.042431713283236, 26.910090717936498, 26.621814803177053, 23.26662994916223, 22.806493854928256, 21.392771024106636, 20.573518793019748, 17.675869284472846, 15.684752603583767, 14.787356159277975, 14.540462024746931, 13.966681803570783, 13.929847752793643, 13.262353611584343, 13.056518977241847, 12.976384812665753, 12.568493893781328, 12.549682970566272, 12.39292902851534, 11.679147288693205, 11.473517276598235, 10.331318960242353, 10.277517632700366, 10.019032670958218, 10.018839302934307, 9.973854124926973, 85.10799121071581, 40.97973843646231, 72.99651496811617, 18.296785263477826, 32.91262296243464, 19.07915433444817, 48.21499694895551, 19.39742787069491, 27.340229190683175, 29.510814929321036, 75.76316315490791, 52.54369876726275, 45.70906488151594, 41.36430874212573, 37.06510876582436, 32.96150093997664, 29.65430904465581, 28.93027817267029, 24.670788191773074, 23.305446058469634, 22.69647370095212, 21.585735644590113, 19.89909279273832, 19.743651964192498, 19.006060161641198, 17.544619651661208, 17.283566573810912, 17.073810659567346, 16.243014455412457, 14.970435397208943, 13.978368159697062, 13.84627819815787, 13.30682227690792, 12.537962961068306, 12.12599781579383, 11.578588627552318, 11.266497548042123, 11.081076565009102, 10.406561587742118, 10.34758064800883, 17.61522062433671, 15.73426640788447, 13.460941942920432, 16.896019930084908, 13.312198009319571, 13.308757540576114, 152.64338738892747, 135.19086541405431, 56.97241656158413, 54.743754529652534, 42.01800731626923, 39.59082053540913, 31.99221086678713, 26.309066344584807, 26.15948158229943, 25.660365730260853, 25.36902981236545, 24.57935972406924, 19.813655724547843, 19.64392260501222, 19.31733452428342, 15.018561241681969, 14.295740790917986, 13.150260974319897, 11.938146995676835, 11.93799495020314, 11.733498452056304, 11.64838097061718, 10.595890486700569, 10.357635229422078, 10.169066194240425, 9.567981931423574, 9.51324742648237, 9.274054710915154, 9.076668903847883, 8.788032492706288, 11.259693041019034, 10.247849069471844, 15.687385960603923, 14.125513290394279, 19.080955116376703, 14.370632981052609, 10.941145647303992, 12.078470043187318, 168.47465396468212, 57.39930969274214, 46.228768863023426, 41.24069695202089, 37.41307968013171, 35.44171572896502, 35.3219038293258, 26.636733587291516, 26.402430786390997, 25.46598385522147, 23.433147466767032, 18.95925564418183, 18.905572281259875, 18.303190095112292, 16.94718289354037, 16.94694801075968, 15.792455780694604, 14.838686244449207, 14.602014741044961, 14.464439379418415, 14.223045828726995, 13.959669056553635, 12.227825917600024, 11.977355050830255, 11.82829392122798, 10.26921610142479, 8.461555511050454, 8.010842556766113, 8.010870562020733, 7.759557730821722, 71.38060964660669, 17.248904279661332, 33.467385027599164, 49.20540582047361, 33.49907613508608, 28.69371231201962, 14.594034146873371, 14.038227409345946, 16.853155702849016, 47.66143994145813, 46.29158402272117, 36.4369854329522, 36.175549435539416, 29.180726488168837, 25.660621092093, 25.05155480366513, 23.002908566940953, 20.783411461702343, 17.824787768287315, 14.27025176560134, 13.667598372846955, 12.30397405248524, 11.76497453814404, 11.057925661714481, 10.93071252355106, 10.847491108638495, 10.691114910548446, 9.81431088942155, 9.734328344125341, 9.57288574671917, 9.117405398327788, 8.970463276435899, 8.090976849297826, 7.480149859736326, 7.480090971197847, 6.957967323979247, 6.912052129027726, 6.67734821973963, 6.556914541860001, 32.76910818209399, 9.116353344662823, 17.518624271727173, 17.61560906291957, 13.132740906268449, 9.903380134705788, 11.963792830753281, 11.15947332213556, 63.87815363462154, 26.175343308953533, 18.43418478780132, 17.511390121078037, 16.585746409696807, 14.78274065336129, 14.130503434777092, 14.07120881556559, 14.059574318360069, 13.435855090713087, 13.34235876221775, 13.080632274695597, 10.78774891785556, 10.638878849598115, 10.167985299500376, 9.415330933136156, 9.401773720000273, 9.331732609726112, 8.912549399807187, 8.894727601540183, 8.832540225972537, 8.799575617626767, 8.774116846773081, 8.696365711485111, 8.075366788563024, 8.058798857364899, 7.2247425307275295, 7.213065519404582, 7.161210870742674, 7.160648606569952, 29.28325942185866, 23.98814166496973, 11.04115341658912, 10.156051407101714, 21.282059409331303, 11.396855264915638, 14.010308240538071, 12.853416472296603, 37.13871019089687, 34.66882789165191, 32.78870350669692, 19.873248921727342, 16.80411090828256, 14.892818349953952, 13.655056102038921, 12.664931438047825, 10.568427688480043, 10.131179964619193, 9.948251642546023, 9.668654913547293, 9.278596377193706, 9.072629597356023, 8.712447893772065, 8.104752419428264, 8.095594849907345, 7.664983409316836, 7.478282367111411, 7.47684879485611, 7.436271844260874, 6.859878077323038, 6.382305122192293, 6.241179091739144, 6.241128440899288, 6.241148394260444, 5.757704034703638, 5.53235691331322, 5.109581515785586, 5.096267507648657, 52.46311257989149, 7.277758761871922, 11.119581476805916, 12.684485731979862, 15.761824065234764, 20.225715325664645, 25.40948599634827, 9.328078666359874, 7.793069662442778, 8.313373507924224, 20.36880096120534, 20.116055310096815, 17.47599569118171, 14.771671852874936, 14.074513683638482, 13.211336384578164, 12.90532881567481, 12.826898083315381, 11.805883018681604, 11.211159848468881, 10.93795248171763, 10.772188961852866, 10.572365645633221, 9.824574557784139, 8.48030517285517, 8.152449873296218, 7.919121351282772, 7.779823151370808, 6.967353054683797, 6.823948024003006, 6.3776271975883825, 6.262203152412083, 5.973954477598396, 5.805535659331811, 5.6568823194727935, 5.450803018712704, 5.009792789101719, 4.908311944221334, 4.80165061446595, 4.645055371672002, 26.820529209102297, 13.675573900400167, 7.345639184115153, 7.5566807323663925, 13.139181476521351, 11.127262569547376, 8.967603874553756, 9.447299794833546, 7.708446146546917, 7.638388716602124], \"Total\": [169.0, 153.0, 135.0, 92.0, 82.0, 64.0, 76.0, 158.0, 95.0, 156.0, 78.0, 61.0, 98.0, 67.0, 74.0, 58.0, 94.0, 57.0, 59.0, 48.0, 55.0, 86.0, 47.0, 53.0, 109.0, 105.0, 51.0, 37.0, 103.0, 50.0, 158.6839549559329, 156.1109778731317, 109.1437767453612, 105.65203870327333, 103.4689998166445, 91.71781731822806, 82.33132415159807, 74.7131208816247, 72.93880284515734, 71.57024047853297, 60.13879638260037, 57.15620548239529, 52.962068281530236, 52.412718367257185, 49.78920421150505, 48.38448987748079, 46.326233094000585, 42.32984351472612, 39.86800856489457, 39.69849015339365, 39.20512166258613, 38.60893815797884, 33.19739551127314, 33.18677233681171, 32.331647637069615, 30.64352078897089, 29.812993561622463, 29.57784247517447, 29.25292593822692, 29.184937118421225, 82.81470100822887, 73.301992655882, 38.82817670941005, 41.759636884291446, 75.28308606545076, 92.00801224430988, 56.582166816234704, 42.34454132744552, 94.85685058427046, 86.27478790946508, 92.07803281568955, 51.72129856723971, 50.91501474212005, 44.39256785215785, 42.141273148295106, 41.30397324305871, 39.224953591882844, 37.47900773902255, 35.77553477434017, 32.24108581254071, 28.030768068355727, 25.08052802703923, 23.324648351072774, 21.763469447003697, 21.736894349095536, 20.915018711761206, 20.135750359301294, 20.080564632008105, 19.992617625123536, 19.71309667428333, 17.510489912148437, 14.634417023892258, 14.200437098450093, 14.059243690595041, 13.636123025334129, 12.856376134009558, 12.285882468275423, 12.267754436115759, 12.160073435261872, 12.145229163330168, 74.99309506836545, 54.56952571184654, 23.818427860271292, 86.27478790946508, 31.16651361007305, 51.439849500678804, 19.971887048211997, 39.55873828634174, 29.72798469636355, 48.10580474089045, 82.52344717665125, 67.41704881463899, 59.59661994771876, 32.24724126466134, 30.7686740047154, 27.636322648172023, 27.348035506810373, 23.992848482329105, 23.532777009914987, 22.119000015685423, 21.29976798454703, 18.402166017874883, 16.411001225317058, 15.513601707989894, 15.266678182243023, 14.692966522539242, 14.656083115432285, 13.988589960527593, 13.78274153992308, 13.702580958632083, 13.294711965245028, 13.275938375439445, 13.11921737399403, 12.405363401123237, 12.199777356907944, 11.057581941903399, 11.003805006668367, 10.74525275428482, 10.745054759826225, 10.700142377645275, 95.05510787629349, 47.97987883513832, 98.39080480865091, 21.90637424842071, 47.921927640510226, 25.024220060841632, 94.85685058427046, 26.347765515667263, 49.804160671451605, 92.00801224430988, 76.48622348720552, 53.26678449403951, 46.43215471160383, 42.08739960951095, 37.7881634306662, 33.68458765850791, 30.377387447886033, 29.653368334261053, 25.393873631450607, 24.028518160927618, 23.41952966730303, 22.30879458233704, 20.622223936681582, 20.466727463454056, 19.729107850612678, 18.26772640328382, 18.006635938813325, 17.796880366122465, 16.96610225578192, 15.69353684525193, 14.70145824869198, 14.569327746157635, 14.0299150450953, 13.261051859124452, 12.849067868365694, 12.301699782771838, 11.989543139238178, 11.804154624167152, 11.129604931180909, 11.070639058923003, 22.48597528489964, 20.403369237082032, 22.47075699835777, 75.28308606545076, 27.92379316519734, 48.10580474089045, 153.3663759886014, 135.91384917572427, 57.695413963745004, 55.4667395694842, 42.74105563010616, 40.31380557233155, 32.71518188019607, 27.032077122881265, 26.882465043111445, 26.383341994864647, 26.09202576885867, 25.302337162066, 20.53668246528104, 20.36690726912195, 20.04035188421044, 15.741572310577922, 15.018747294497375, 13.873255814023537, 12.661118189625563, 12.660966530515061, 12.456559130273385, 12.371381506122528, 11.318898981779547, 11.080632694119208, 10.892035450249391, 10.290945362142317, 10.236261052771377, 9.997164043770283, 9.79965579075526, 9.51104008167517, 12.722790274928316, 11.604006742644636, 24.258210177926017, 28.229175755531255, 66.44762739876501, 47.921927640510226, 15.816260696907618, 38.932065175255524, 169.20593160639615, 58.1306179010819, 46.96004906923372, 41.971980363796575, 38.14444814039854, 36.173060269772, 36.05322953433529, 27.368009198466634, 27.133758735918875, 26.197294170537596, 24.16448191835129, 19.690543421624355, 19.636846285465325, 19.034457043623377, 17.678455215045947, 17.678240479384094, 16.52374844755091, 15.569977019817324, 15.333293238644291, 15.19574711896997, 14.954340344939075, 14.690952005082535, 12.959111298491031, 12.708615403424302, 12.55959279022861, 11.000576191445644, 9.192957220030177, 8.742121585692185, 8.742156929954303, 8.490862107016314, 78.38899518655418, 19.06340750705249, 40.0226126872848, 64.37229613950907, 47.53355765777478, 62.655698926791, 18.471768327154006, 19.1307796725057, 49.804160671451605, 48.396651688288145, 47.026797078079255, 37.172229563173765, 36.91082599810456, 29.9159749809262, 26.395872393852887, 25.78677912475944, 23.738131385289496, 21.51861092135405, 18.559999571619798, 15.005506881249518, 14.402862704453131, 13.039198601868513, 12.500215074598016, 11.79318383100435, 11.665934455689387, 11.582700913433175, 11.426365256530595, 10.549562227464952, 10.469589741302421, 10.308141952518081, 9.852628010701387, 9.705730642608621, 8.826169196757954, 8.215347809129389, 8.215295523812852, 7.693194101158849, 7.647266913651741, 7.412622030452896, 7.29223042483537, 44.56032231552802, 11.418589971222078, 38.03140789487666, 48.10580474089045, 38.932065175255524, 22.23553675557654, 98.39080480865091, 64.37229613950907, 64.61486801567176, 26.91203470739434, 19.170904248887073, 18.248111869152385, 17.322444224210493, 15.51945993678099, 14.867199439438664, 14.807937096212507, 14.796285882123472, 14.17255186729339, 14.079057041859608, 13.817367957956419, 11.52453463871453, 11.375558797555065, 10.90468347858305, 10.152072169101388, 10.138459954294317, 10.068443224285113, 9.649242795217768, 9.631457157300819, 9.569261642703042, 9.536259451321426, 9.510798159244041, 9.433075672651146, 8.812088423565033, 8.795514115410528, 7.961427559415375, 7.949812961951252, 7.897891541909591, 7.897366657203932, 35.64852430851913, 32.65199587294007, 13.533950233717896, 13.200503223602519, 122.60979687929648, 26.583414118268816, 54.023809703726016, 98.39080480865091, 37.88631029137338, 35.41643142101962, 33.53632312529661, 20.620874395744597, 17.551741895645293, 15.640408049157086, 14.402685695722365, 13.412543981790872, 11.316027491858335, 10.878787663587092, 10.695853042811116, 10.416296098924382, 10.02624680022139, 9.82026626246824, 9.460055706098563, 8.852387967362464, 8.84318370456485, 8.412629430027032, 8.225889685858238, 8.224447913141978, 8.183894530701416, 7.6074681072227115, 7.129981250268422, 6.98877146468986, 6.988724113411931, 6.9887493266383425, 6.505355021642162, 6.279964944217863, 5.857246945948127, 5.843901879822568, 61.485858715929325, 8.701999153144804, 19.478185332591945, 25.18088591601189, 37.831070111403875, 62.655698926791, 122.60979687929648, 16.200536788655672, 20.3012181214359, 95.05510787629349, 21.10810829731286, 20.855300588184264, 18.215245886718446, 15.51094131995178, 14.813780701038219, 13.95058622400909, 13.644590151088572, 13.566144132453868, 12.545144181593225, 11.950701278742986, 11.67722117954282, 11.51143339603473, 11.311621612890102, 10.563829015307565, 9.21956195494304, 8.891721433595173, 8.658357126039263, 8.519064413769488, 7.7066868703284195, 7.563232283859155, 7.116907476707454, 7.001465758086694, 6.713244601874026, 6.544782986225707, 6.396152945453719, 6.190084157735903, 5.749049671503237, 5.647576575602275, 5.540925825419541, 5.38431862118046, 38.69415194752518, 23.312053592592882, 10.136102539184035, 13.077889665154295, 62.655698926791, 44.56032231552802, 25.516315746474163, 50.266283507264745, 73.301992655882, 66.44762739876501], \"Category\": [\"Default\", \"Default\", \"Default\", \"Default\", \"Default\", \"Default\", \"Default\", \"Default\", \"Default\", \"Default\", \"Default\", \"Default\", \"Default\", \"Default\", \"Default\", \"Default\", \"Default\", \"Default\", \"Default\", \"Default\", \"Default\", \"Default\", \"Default\", \"Default\", \"Default\", \"Default\", \"Default\", \"Default\", \"Default\", \"Default\", \"Topic1\", \"Topic1\", \"Topic1\", \"Topic1\", \"Topic1\", \"Topic1\", \"Topic1\", \"Topic1\", \"Topic1\", \"Topic1\", \"Topic1\", \"Topic1\", \"Topic1\", \"Topic1\", \"Topic1\", \"Topic1\", \"Topic1\", \"Topic1\", \"Topic1\", \"Topic1\", \"Topic1\", \"Topic1\", \"Topic1\", \"Topic1\", \"Topic1\", \"Topic1\", \"Topic1\", \"Topic1\", \"Topic1\", \"Topic1\", \"Topic1\", \"Topic1\", \"Topic1\", \"Topic1\", \"Topic1\", \"Topic1\", \"Topic1\", \"Topic1\", \"Topic1\", \"Topic1\", \"Topic2\", \"Topic2\", \"Topic2\", \"Topic2\", \"Topic2\", \"Topic2\", \"Topic2\", \"Topic2\", \"Topic2\", \"Topic2\", \"Topic2\", \"Topic2\", \"Topic2\", \"Topic2\", \"Topic2\", \"Topic2\", \"Topic2\", \"Topic2\", \"Topic2\", \"Topic2\", \"Topic2\", \"Topic2\", \"Topic2\", \"Topic2\", \"Topic2\", \"Topic2\", \"Topic2\", \"Topic2\", \"Topic2\", \"Topic2\", \"Topic2\", \"Topic2\", \"Topic2\", \"Topic2\", \"Topic2\", \"Topic2\", \"Topic2\", \"Topic2\", \"Topic2\", \"Topic2\", \"Topic3\", \"Topic3\", \"Topic3\", \"Topic3\", \"Topic3\", \"Topic3\", \"Topic3\", \"Topic3\", \"Topic3\", \"Topic3\", \"Topic3\", \"Topic3\", \"Topic3\", \"Topic3\", \"Topic3\", \"Topic3\", \"Topic3\", \"Topic3\", \"Topic3\", \"Topic3\", \"Topic3\", \"Topic3\", \"Topic3\", \"Topic3\", \"Topic3\", \"Topic3\", \"Topic3\", \"Topic3\", \"Topic3\", \"Topic3\", \"Topic3\", \"Topic3\", \"Topic3\", \"Topic3\", \"Topic3\", \"Topic3\", \"Topic3\", \"Topic3\", \"Topic3\", \"Topic3\", \"Topic4\", \"Topic4\", \"Topic4\", \"Topic4\", \"Topic4\", \"Topic4\", \"Topic4\", \"Topic4\", \"Topic4\", \"Topic4\", \"Topic4\", \"Topic4\", \"Topic4\", \"Topic4\", \"Topic4\", \"Topic4\", \"Topic4\", \"Topic4\", \"Topic4\", \"Topic4\", \"Topic4\", \"Topic4\", \"Topic4\", \"Topic4\", \"Topic4\", \"Topic4\", \"Topic4\", \"Topic4\", \"Topic4\", \"Topic4\", \"Topic4\", \"Topic4\", \"Topic4\", \"Topic4\", \"Topic4\", \"Topic4\", \"Topic5\", \"Topic5\", \"Topic5\", \"Topic5\", \"Topic5\", \"Topic5\", \"Topic5\", \"Topic5\", \"Topic5\", \"Topic5\", \"Topic5\", \"Topic5\", \"Topic5\", \"Topic5\", \"Topic5\", \"Topic5\", \"Topic5\", \"Topic5\", \"Topic5\", \"Topic5\", \"Topic5\", \"Topic5\", \"Topic5\", \"Topic5\", \"Topic5\", \"Topic5\", \"Topic5\", \"Topic5\", \"Topic5\", \"Topic5\", \"Topic5\", \"Topic5\", \"Topic5\", \"Topic5\", \"Topic5\", \"Topic5\", \"Topic5\", \"Topic5\", \"Topic6\", \"Topic6\", \"Topic6\", \"Topic6\", \"Topic6\", \"Topic6\", \"Topic6\", \"Topic6\", \"Topic6\", \"Topic6\", \"Topic6\", \"Topic6\", \"Topic6\", \"Topic6\", \"Topic6\", \"Topic6\", \"Topic6\", \"Topic6\", \"Topic6\", \"Topic6\", \"Topic6\", \"Topic6\", \"Topic6\", \"Topic6\", \"Topic6\", \"Topic6\", \"Topic6\", \"Topic6\", \"Topic6\", \"Topic6\", \"Topic6\", \"Topic6\", \"Topic6\", \"Topic6\", \"Topic6\", \"Topic6\", \"Topic6\", \"Topic6\", \"Topic6\", \"Topic7\", \"Topic7\", \"Topic7\", \"Topic7\", \"Topic7\", \"Topic7\", \"Topic7\", \"Topic7\", \"Topic7\", \"Topic7\", \"Topic7\", \"Topic7\", \"Topic7\", \"Topic7\", \"Topic7\", \"Topic7\", \"Topic7\", \"Topic7\", \"Topic7\", \"Topic7\", \"Topic7\", \"Topic7\", \"Topic7\", \"Topic7\", \"Topic7\", \"Topic7\", \"Topic7\", \"Topic7\", \"Topic7\", \"Topic7\", \"Topic7\", \"Topic7\", \"Topic7\", \"Topic7\", \"Topic7\", \"Topic7\", \"Topic7\", \"Topic7\", \"Topic8\", \"Topic8\", \"Topic8\", \"Topic8\", \"Topic8\", \"Topic8\", \"Topic8\", \"Topic8\", \"Topic8\", \"Topic8\", \"Topic8\", \"Topic8\", \"Topic8\", \"Topic8\", \"Topic8\", \"Topic8\", \"Topic8\", \"Topic8\", \"Topic8\", \"Topic8\", \"Topic8\", \"Topic8\", \"Topic8\", \"Topic8\", \"Topic8\", \"Topic8\", \"Topic8\", \"Topic8\", \"Topic8\", \"Topic8\", \"Topic8\", \"Topic8\", \"Topic8\", \"Topic8\", \"Topic8\", \"Topic8\", \"Topic8\", \"Topic8\", \"Topic9\", \"Topic9\", \"Topic9\", \"Topic9\", \"Topic9\", \"Topic9\", \"Topic9\", \"Topic9\", \"Topic9\", \"Topic9\", \"Topic9\", \"Topic9\", \"Topic9\", \"Topic9\", \"Topic9\", \"Topic9\", \"Topic9\", \"Topic9\", \"Topic9\", \"Topic9\", \"Topic9\", \"Topic9\", \"Topic9\", \"Topic9\", \"Topic9\", \"Topic9\", \"Topic9\", \"Topic9\", \"Topic9\", \"Topic9\", \"Topic9\", \"Topic9\", \"Topic9\", \"Topic9\", \"Topic9\", \"Topic9\", \"Topic9\", \"Topic9\", \"Topic9\", \"Topic9\", \"Topic10\", \"Topic10\", \"Topic10\", \"Topic10\", \"Topic10\", \"Topic10\", \"Topic10\", \"Topic10\", \"Topic10\", \"Topic10\", \"Topic10\", \"Topic10\", \"Topic10\", \"Topic10\", \"Topic10\", \"Topic10\", \"Topic10\", \"Topic10\", \"Topic10\", \"Topic10\", \"Topic10\", \"Topic10\", \"Topic10\", \"Topic10\", \"Topic10\", \"Topic10\", \"Topic10\", \"Topic10\", \"Topic10\", \"Topic10\", \"Topic10\", \"Topic10\", \"Topic10\", \"Topic10\", \"Topic10\", \"Topic10\", \"Topic10\", \"Topic10\", \"Topic10\", \"Topic10\"], \"logprob\": [30.0, 29.0, 28.0, 27.0, 26.0, 25.0, 24.0, 23.0, 22.0, 21.0, 20.0, 19.0, 18.0, 17.0, 16.0, 15.0, 14.0, 13.0, 12.0, 11.0, 10.0, 9.0, 8.0, 7.0, 6.0, 5.0, 4.0, 3.0, 2.0, 1.0, -3.723, -3.7395, -4.0993, -4.1321, -4.1531, -4.2745, -4.3834, -4.4814, -4.5056, -4.5248, -4.7007, -4.7522, -4.8294, -4.8406, -4.892, -4.9211, -4.9652, -5.0569, -5.1179, -5.1222, -5.135, -5.1506, -5.3046, -5.305, -5.3317, -5.3865, -5.4147, -5.4228, -5.4341, -5.4365, -4.4409, -4.6118, -5.1897, -5.1313, -4.7291, -4.6604, -4.9931, -5.2145, -4.9565, -5.1721, -3.2116, -3.7946, -3.8105, -3.9497, -4.0026, -4.023, -4.0756, -4.122, -4.1695, -4.2758, -4.4192, -4.5335, -4.6083, -4.6799, -4.6811, -4.721, -4.7604, -4.7632, -4.7678, -4.7824, -4.9057, -5.0936, -5.1253, -5.1358, -5.168, -5.2303, -5.2785, -5.28, -5.2894, -5.2907, -3.4891, -3.8789, -4.7449, -3.8435, -4.6249, -4.3055, -4.9352, -4.5966, -4.7449, -4.9156, -3.2915, -3.4948, -3.6196, -4.2442, -4.2923, -4.4024, -4.4132, -4.5479, -4.5679, -4.6318, -4.6709, -4.8227, -4.9422, -5.0011, -5.018, -5.0582, -5.0609, -5.11, -5.1256, -5.1318, -5.1637, -5.1652, -5.1778, -5.2371, -5.2549, -5.3597, -5.3649, -5.3904, -5.3904, -5.3949, -3.251, -3.9818, -3.4045, -4.7882, -4.201, -4.7463, -3.8192, -4.7298, -4.3865, -4.3101, -3.2815, -3.6475, -3.7868, -3.8867, -3.9964, -4.1138, -4.2195, -4.2442, -4.4035, -4.4604, -4.4869, -4.5371, -4.6184, -4.6263, -4.6643, -4.7444, -4.7593, -4.7716, -4.8214, -4.903, -4.9716, -4.9811, -5.0208, -5.0803, -5.1138, -5.1599, -5.1873, -5.2039, -5.2667, -5.2724, -4.7403, -4.8533, -5.0093, -4.782, -5.0204, -5.0207, -2.5744, -2.6958, -3.5599, -3.5998, -3.8644, -3.9239, -4.137, -4.3326, -4.3383, -4.3575, -4.369, -4.4006, -4.6161, -4.6247, -4.6415, -4.8932, -4.9425, -5.026, -5.1227, -5.1228, -5.14, -5.1473, -5.242, -5.2648, -5.2831, -5.3441, -5.3498, -5.3753, -5.3968, -5.4291, -5.1813, -5.2754, -4.8496, -4.9545, -4.6538, -4.9373, -5.21, -5.1111, -2.4437, -3.5204, -3.7369, -3.851, -3.9484, -4.0026, -4.006, -4.2882, -4.297, -4.3331, -4.4163, -4.6282, -4.631, -4.6634, -4.7404, -4.7404, -4.8109, -4.8732, -4.8893, -4.8988, -4.9156, -4.9343, -5.0667, -5.0874, -5.1, -5.2413, -5.4349, -5.4897, -5.4897, -5.5215, -3.3024, -4.7227, -4.0599, -3.6745, -4.0589, -4.2138, -4.8898, -4.9287, -4.7459, -3.3949, -3.4241, -3.6635, -3.6707, -3.8856, -4.0141, -4.0381, -4.1234, -4.2249, -4.3785, -4.6009, -4.644, -4.7491, -4.7939, -4.8559, -4.8675, -4.8751, -4.8896, -4.9752, -4.9834, -5.0001, -5.0489, -5.0651, -5.1683, -5.2468, -5.2468, -5.3192, -5.3258, -5.3603, -5.3785, -3.7696, -5.049, -4.3958, -4.3903, -4.684, -4.9662, -4.7772, -4.8468, -3.0022, -3.8944, -4.245, -4.2964, -4.3507, -4.4657, -4.5109, -4.5151, -4.5159, -4.5613, -4.5683, -4.5881, -4.7808, -4.7947, -4.84, -4.9169, -4.9183, -4.9258, -4.9717, -4.9737, -4.9808, -4.9845, -4.9874, -4.9963, -5.0704, -5.0724, -5.1817, -5.1833, -5.1905, -5.1906, -3.7822, -3.9816, -4.7576, -4.8411, -4.1013, -4.7259, -4.5194, -4.6056, -3.3872, -3.456, -3.5118, -4.0125, -4.1803, -4.301, -4.3878, -4.4631, -4.644, -4.6863, -4.7045, -4.733, -4.7742, -4.7966, -4.8371, -4.9094, -4.9106, -4.9652, -4.9899, -4.9901, -4.9955, -5.0762, -5.1484, -5.1707, -5.1707, -5.1707, -5.2513, -5.2913, -5.3708, -5.3734, -3.0418, -5.0171, -4.5932, -4.4615, -4.2443, -3.9949, -3.7668, -4.7689, -4.9487, -4.884, -3.8845, -3.897, -4.0377, -4.2058, -4.2542, -4.3175, -4.3409, -4.347, -4.4299, -4.4816, -4.5063, -4.5216, -4.5403, -4.6137, -4.7608, -4.8002, -4.8293, -4.847, -4.9573, -4.9781, -5.0457, -5.064, -5.1111, -5.1397, -5.1657, -5.2028, -5.2871, -5.3076, -5.3296, -5.3627, -3.6094, -4.2829, -4.9044, -4.8761, -4.3229, -4.4891, -4.7049, -4.6528, -4.8562, -4.8654], \"loglift\": [30.0, 29.0, 28.0, 27.0, 26.0, 25.0, 24.0, 23.0, 22.0, 21.0, 20.0, 19.0, 18.0, 17.0, 16.0, 15.0, 14.0, 13.0, 12.0, 11.0, 10.0, 9.0, 8.0, 7.0, 6.0, 5.0, 4.0, 3.0, 2.0, 1.0, 1.1978, 1.1978, 1.1958, 1.1956, 1.1954, 1.1945, 1.1936, 1.1928, 1.1925, 1.1923, 1.1904, 1.1898, 1.1888, 1.188, 1.1879, 1.1875, 1.1869, 1.1854, 1.1843, 1.1842, 1.184, 1.1837, 1.1807, 1.1807, 1.1801, 1.1788, 1.1782, 1.178, 1.1777, 1.1777, 1.1302, 1.0814, 1.1389, 1.1246, 0.9374, 0.8055, 0.959, 1.0275, 0.4789, 0.3581, 2.2535, 2.2474, 2.2471, 2.245, 2.2441, 2.2438, 2.2428, 2.242, 2.241, 2.2388, 2.2353, 2.2322, 2.23, 2.2277, 2.2276, 2.2263, 2.2249, 2.2248, 2.2246, 2.2241, 2.2193, 2.2108, 2.2092, 2.2087, 2.207, 2.2036, 2.2009, 2.2008, 2.2002, 2.2001, 2.1813, 2.1094, 2.0724, 1.6867, 1.9235, 1.7418, 2.0583, 1.7134, 1.8508, 1.1988, 2.2832, 2.2821, 2.2806, 2.2701, 2.269, 2.2663, 2.266, 2.2621, 2.2615, 2.2595, 2.2582, 2.2526, 2.2476, 2.2449, 2.2441, 2.2422, 2.2421, 2.2396, 2.2388, 2.2384, 2.2367, 2.2366, 2.2359, 2.2326, 2.2315, 2.2249, 2.2246, 2.2229, 2.2229, 2.2226, 2.1823, 2.1352, 1.9943, 2.1128, 1.9172, 2.0216, 1.6162, 1.9866, 1.6931, 1.1558, 2.3692, 2.365, 2.363, 2.3613, 2.3594, 2.357, 2.3546, 2.354, 2.3498, 2.3481, 2.3473, 2.3457, 2.343, 2.3427, 2.3413, 2.3383, 2.3377, 2.3372, 2.3351, 2.3315, 2.3282, 2.3278, 2.3258, 2.3226, 2.3208, 2.3181, 2.3165, 2.3155, 2.3115, 2.3111, 2.1345, 2.1188, 1.8663, 0.8845, 1.6379, 1.0937, 2.3806, 2.38, 2.3727, 2.3722, 2.3682, 2.3672, 2.363, 2.3582, 2.358, 2.3575, 2.3572, 2.3563, 2.3495, 2.3492, 2.3486, 2.3383, 2.336, 2.3318, 2.3265, 2.3265, 2.3255, 2.3251, 2.3193, 2.3178, 2.3166, 2.3125, 2.3121, 2.3102, 2.3087, 2.3062, 2.2631, 2.261, 1.9494, 1.6929, 1.1376, 1.1809, 2.0168, 1.2149, 2.413, 2.4047, 2.4016, 2.3997, 2.398, 2.3969, 2.3968, 2.3902, 2.39, 2.389, 2.3866, 2.3795, 2.3794, 2.3782, 2.3751, 2.3751, 2.3721, 2.3692, 2.3685, 2.368, 2.3672, 2.3663, 2.3592, 2.3581, 2.3573, 2.3485, 2.3344, 2.33, 2.33, 2.3273, 2.3237, 2.3173, 2.2385, 2.1486, 2.0674, 1.6363, 2.1817, 2.1078, 1.3338, 2.7134, 2.713, 2.7087, 2.7086, 2.7038, 2.7005, 2.6998, 2.6973, 2.694, 2.6883, 2.6785, 2.6763, 2.6707, 2.6681, 2.6643, 2.6636, 2.6631, 2.6622, 2.6565, 2.6559, 2.6547, 2.6512, 2.6499, 2.6417, 2.635, 2.635, 2.6283, 2.6276, 2.6243, 2.6224, 2.4214, 2.5035, 1.9536, 1.7241, 1.642, 1.9199, 0.6217, 0.9763, 2.8171, 2.8008, 2.7894, 2.7874, 2.7851, 2.7799, 2.7778, 2.7775, 2.7775, 2.7752, 2.7748, 2.7738, 2.7625, 2.7616, 2.7586, 2.7532, 2.7531, 2.7526, 2.7492, 2.749, 2.7485, 2.7482, 2.748, 2.7473, 2.7413, 2.7411, 2.7315, 2.7313, 2.7307, 2.7306, 2.6319, 2.5202, 2.625, 2.5664, 1.0774, 1.9816, 1.4789, 0.7932, 2.966, 2.9646, 2.9633, 2.949, 2.9424, 2.9369, 2.9326, 2.9285, 2.9175, 2.9147, 2.9134, 2.9114, 2.9084, 2.9067, 2.9036, 2.8977, 2.8976, 2.8928, 2.8906, 2.8906, 2.8901, 2.8825, 2.8751, 2.8728, 2.8728, 2.8728, 2.8638, 2.8591, 2.8493, 2.849, 2.8272, 2.8072, 2.4253, 2.3002, 2.1104, 1.8552, 1.412, 2.4339, 2.0284, 0.5493, 3.0536, 3.0532, 3.0478, 3.0404, 3.0381, 3.0348, 3.0335, 3.0332, 3.0285, 3.0254, 3.0238, 3.0229, 3.0217, 3.0167, 3.0057, 3.0024, 3.0, 2.9985, 2.9884, 2.9864, 2.9796, 2.9777, 2.9726, 2.9694, 2.9664, 2.9621, 2.9516, 2.9489, 2.946, 2.9416, 2.7227, 2.5559, 2.7672, 2.5408, 1.5272, 1.7018, 2.0435, 1.4176, 0.837, 0.926]}, \"token.table\": {\"Topic\": [7, 3, 7, 3, 9, 7, 7, 10, 4, 9, 3, 1, 3, 3, 2, 10, 6, 6, 5, 6, 8, 1, 2, 9, 2, 2, 8, 8, 2, 1, 4, 1, 9, 7, 8, 9, 9, 10, 1, 3, 8, 9, 4, 3, 2, 8, 1, 7, 8, 5, 3, 3, 5, 5, 6, 3, 8, 7, 9, 2, 2, 3, 10, 7, 8, 4, 4, 7, 3, 2, 5, 8, 10, 6, 6, 5, 3, 9, 5, 2, 4, 5, 6, 3, 8, 1, 6, 1, 8, 6, 2, 8, 9, 9, 6, 2, 4, 9, 10, 2, 4, 9, 8, 2, 4, 6, 3, 6, 7, 4, 7, 4, 9, 3, 10, 6, 10, 6, 4, 5, 8, 9, 6, 10, 5, 5, 6, 7, 9, 8, 9, 1, 9, 9, 6, 10, 10, 6, 9, 10, 9, 9, 6, 2, 8, 2, 10, 2, 2, 8, 5, 5, 10, 3, 6, 4, 8, 10, 10, 3, 9, 7, 1, 3, 10, 7, 1, 6, 4, 8, 1, 4, 2, 4, 4, 4, 8, 1, 9, 2, 9, 9, 8, 8, 4, 8, 9, 5, 7, 3, 5, 3, 1, 3, 5, 6, 10, 1, 2, 3, 5, 6, 10, 2, 5, 1, 8, 9, 6, 2, 3, 6, 3, 10, 1, 8, 7, 9, 3, 9, 5, 9, 4, 10, 10, 3, 1, 9, 4, 10, 2, 4, 7, 9, 5, 5, 3, 1, 7, 4, 7, 4, 6, 7, 9, 10, 5, 1, 3, 9, 6, 9, 4, 4, 2, 5, 7, 2, 3, 1, 8, 8, 10, 5, 7, 1, 3, 5, 10, 1, 4, 2, 4, 8, 10, 3, 3, 4, 10, 5, 1, 10, 3, 5, 9, 8, 6, 9, 10, 4, 6, 6, 7, 10, 9, 7, 7, 10, 9, 7, 3, 2, 5, 1, 10, 4, 10, 2, 1, 6, 8, 3, 5, 1, 9, 4, 3, 7, 10, 4, 4, 6, 7, 10, 8, 7, 9, 7, 5, 3, 5, 10, 9, 10, 1, 1, 1, 2, 5, 7, 8, 9, 1, 1, 2, 3, 8, 8, 3, 3, 7, 1, 3, 6, 9, 4, 3, 7, 8, 7, 1, 2, 3, 4, 5, 7, 8, 9, 2, 2, 2, 9, 4, 1, 4, 1, 9, 9, 2, 4, 7, 7, 3, 1, 2, 1, 1, 8, 2, 6, 6, 6, 10, 5, 2, 2, 4, 5, 10, 1, 5, 4, 4, 1, 2, 8, 6, 2, 8, 7, 2, 1, 7, 9, 5, 1, 7, 8, 6, 7, 4, 3, 1, 2, 1, 7, 10, 6, 1, 10, 5, 7, 3, 5, 3, 6, 10, 2, 7, 7, 3, 9, 10, 8, 8, 9, 1, 5, 5, 1, 6, 1, 2, 4, 1, 2, 5, 6, 1, 6, 8, 10, 8, 4, 3, 1, 6, 5, 2, 1, 2, 3, 1, 6, 7, 2, 10, 10], \"Freq\": [0.9599257829483676, 0.943208574458442, 0.906395495221027, 0.952836854186238, 0.8553384911963243, 0.9701069354751359, 0.7405691495301512, 0.24685638317671704, 0.9522864849985619, 0.916472095506902, 0.9825320099723329, 0.22772329579266218, 0.7211237700100969, 0.9938138969003871, 0.9569176523766041, 0.8853354944491009, 0.9675688103778303, 0.9361830530183133, 0.9976111061747418, 0.9675708867034325, 0.9078438181131536, 0.9824051204291472, 0.9942650386735092, 0.9840076944841917, 0.9860541288169323, 0.9246585581766661, 0.9462928188894882, 0.9170371629438065, 0.964919681172029, 0.35601826856944174, 0.5785296864253429, 0.9339161666578205, 0.04789313675168311, 0.8520691653404072, 0.8134979094511833, 0.1683099123002448, 0.9698909763073518, 0.9380638723257395, 0.9642395974888072, 0.15885064621401987, 0.31770129242803974, 0.5162646001955645, 0.9318752888478119, 0.9087765544681994, 0.9872193057415495, 0.8805238605616045, 0.4947035963609588, 0.4497305421463262, 0.044973054214632616, 0.9183996042483824, 0.9923329483402265, 0.3297852537892377, 0.6595705075784754, 0.9618202804693959, 0.9699969931092944, 0.9673235367626124, 0.9416702894871902, 0.13011121853174046, 0.845722920456313, 0.9503507922906417, 0.1369464415233515, 0.821678649140109, 0.9565454032490848, 0.962685836925534, 0.9344380453561835, 0.9853442953231611, 0.9609228540892847, 0.969381743984269, 0.9487263778442057, 0.9767308153066231, 0.8645902166348471, 0.07859911060316793, 0.9466264538653034, 0.9421893677191275, 0.9865533077032416, 0.9024755423313753, 0.4107158784763163, 0.5647343329049349, 0.9477835859578913, 0.10627302851420226, 0.10627302851420226, 0.49594079973294386, 0.28339474270453935, 0.9586189825247159, 0.8877087881762453, 0.9818347675469135, 0.9259894234720624, 0.9842280521808912, 0.9665284785103975, 0.9554449893738614, 0.839685982522786, 0.0839685982522786, 0.0419842991261393, 0.9554193460147203, 0.961622483028465, 0.9045998002036828, 0.9339198860910298, 0.8044128569548618, 0.11491612242212311, 0.6727667618332192, 0.2691067047332877, 0.03363833809166096, 0.8792393007107918, 0.8011261009726377, 0.1502111439323696, 0.9768421609995089, 0.9146887087782666, 0.8120500286888932, 0.16241000573777864, 0.9771957942818432, 0.9153597068128675, 0.9949915412282984, 0.8585258056596499, 0.9293288341914979, 0.9204480760945785, 0.9649301999016445, 0.8997132962098854, 0.9442413370040793, 0.25290427849245534, 0.6954867658542522, 0.9389228471601674, 0.9685648353920825, 0.9456534514615995, 0.9255302147652982, 0.9462687490235915, 0.30822921789484137, 0.2825434497369379, 0.33391498605274483, 0.07705730447371034, 0.8938819834919439, 0.9513686049647697, 0.9727302271762132, 0.9590542620662893, 0.8585227083664853, 0.8702313965487745, 0.9420049368655246, 0.902376273846152, 0.8245338768321868, 0.07495762516656243, 0.07495762516656243, 0.9692419288726323, 0.8976439718002225, 0.9805503890736923, 0.9860813185182342, 0.886518520562944, 0.9461885334496172, 0.9239628122915708, 0.9781741281576765, 0.9820285873085863, 0.9864034223961654, 0.9477949389628335, 0.9932762615342993, 0.8569634141351044, 0.9750176427948244, 0.9529675132800454, 0.15150937552319954, 0.7575468776159977, 0.9450659681372774, 0.9318604817930072, 0.8545248757479861, 0.1250524208411687, 0.9203019576893632, 0.992957918824554, 0.3823246814294796, 0.6117194902871674, 0.972028983909666, 0.9938284323589381, 0.9213104094449406, 0.9791425843673952, 0.943766268728446, 0.770425377482202, 0.2258143347792661, 0.9200847082934501, 0.06667280494880073, 0.9861581681969708, 0.245007993726653, 0.7350239811799589, 0.978227942750597, 0.919220073894031, 0.5910975355379927, 0.39406502369199514, 0.9600341527380956, 0.966985463814245, 0.9172660027444078, 0.18517904925846235, 0.2469053990112831, 0.555537147775387, 0.861771302083967, 0.0861771302083967, 0.9345670036028669, 0.9699805954622988, 0.9773602150867909, 0.376236157387083, 0.0752472314774166, 0.2859394796141831, 0.13544501665934988, 0.12039557036386656, 0.19894050847333378, 0.059682152542000134, 0.21883455932066714, 0.11936430508400027, 0.19894050847333378, 0.1790464576260004, 0.70588581948061, 0.25668575253840364, 0.9789997763833161, 0.9327156742765829, 0.8555927362955329, 0.9090432924573787, 0.9435953297475871, 0.20908713959780242, 0.7318049885923085, 0.9936569884734608, 0.8937556063911449, 0.9639310405882132, 0.909554563272576, 0.7881883860163491, 0.1751529746702998, 0.9306606828462293, 0.841516939441337, 0.9922159278223308, 0.9223170726330946, 0.9741632978135998, 0.9332841349342127, 0.9555717017647081, 0.9778323918550877, 0.9871288969857329, 0.850971781451706, 0.982086332506978, 0.8430628077767034, 0.9783222031695129, 0.969827505578833, 0.9551472643240361, 0.9882418582473991, 0.9581471450882123, 0.9880510183652413, 0.9781457238520596, 0.9297866086885819, 0.060375753810946876, 0.9754749515839787, 0.9781657024956548, 0.9430569118812968, 0.7611970201250257, 0.17088096370153638, 0.031069266127552068, 0.031069266127552068, 0.9321682911017067, 0.48494125323224574, 0.5060256555466912, 0.9720409301272218, 0.9057393812872653, 0.076541356165121, 0.9630440536828412, 0.8985044897670907, 0.9154647782932601, 0.9718259715637633, 0.9098951499151138, 0.9882921823726684, 0.9552347574542986, 0.8501686137444753, 0.14169476895741254, 0.886371407564652, 0.9286226079436208, 0.9738671294066924, 0.8520637424773639, 0.6738543577636557, 0.3260585602082205, 0.95289083606473, 0.947503192531283, 0.9921256065299789, 0.9032902208061727, 0.5013645501947358, 0.46555279660939747, 0.9544853952755322, 0.8697089581229207, 0.9494100088208374, 0.13341649459228203, 0.8004989675536921, 0.044472164864094006, 0.9769192040381374, 0.8867426061000018, 0.10913755152000022, 0.9749557495198397, 0.9717280238205687, 0.9349417909889093, 0.9405114350554802, 0.46284696359200406, 0.3192048024772442, 0.2074831216102087, 0.9558074860950315, 0.954297029199141, 0.9518101847874941, 0.9689052447596227, 0.8077434607656141, 0.8585199888584798, 0.9429163211726588, 0.9753236083594733, 0.9390702560095077, 0.9720725765216008, 0.9496921384927257, 0.9668934579050475, 0.9911569014555491, 0.9781391439969649, 0.6270497731323487, 0.35271549738694613, 0.9174661513165001, 0.8677201844400887, 0.905705429849942, 0.4137918459631005, 0.15046976216840016, 0.4137918459631005, 0.989989030447664, 0.9819851259558582, 0.5550992858029072, 0.4229327891831674, 0.9571959388407033, 0.9859262324000659, 0.386066373957704, 0.6005476928230951, 0.9803143927120056, 0.987576698340716, 0.9616341637520408, 0.19731449955921634, 0.6906007484572572, 0.8863125003496193, 0.985002488724522, 0.8536433662676378, 0.9684649111191576, 0.9854703018692907, 0.9872738388567727, 0.9671732096853383, 0.9724511989921061, 0.9046515674971675, 0.9670592964403422, 0.9913538242717662, 0.981063864741233, 0.15776434089909883, 0.13147028408258238, 0.13147028408258238, 0.4732930226972965, 0.07888217044954941, 0.903710956805655, 0.9920324359018465, 0.4627589230952691, 0.07404142769524305, 0.18510356923810764, 0.2591449969333507, 0.9454389162404562, 0.9016557989700863, 0.7592644227794159, 0.19980642704721469, 0.984149089667059, 0.5421233815807833, 0.34133694395827097, 0.10039321881125617, 0.9906927706825582, 0.7419392507457317, 0.1219626165609422, 0.13212616794102072, 0.9272872214781616, 0.2528346085632784, 0.06524764091955572, 0.10602741649427803, 0.06524764091955572, 0.057091685804611256, 0.07340359603450018, 0.17127505741383375, 0.2038988778736116, 0.9533501550145671, 0.9660993729250841, 0.9926405810581482, 0.9201484516713299, 0.9440963907842708, 0.9956898291568115, 0.984489423033011, 0.9271617431182485, 0.05150898572879158, 0.8511209595983442, 0.3533877063603058, 0.27023765780493975, 0.3741752184991473, 0.9443352124581906, 0.9043568523878059, 0.4044618380946756, 0.5814138922610962, 0.9922077785472707, 0.959399017595508, 0.9540896641053415, 0.9566489718820707, 0.9151059703113585, 0.9151096700706176, 0.9707868186029702, 0.958988815118357, 0.9633478936278798, 0.9562506386261724, 0.09802302633258761, 0.7841842106607009, 0.09802302633258761, 0.9527585552991383, 0.992053447738017, 0.9915852351678341, 0.9936429926196205, 0.9779664715692294, 0.9804636705446156, 0.9632272627763142, 0.9813857548024411, 0.99287299449288, 0.9638262477952741, 0.9233572931304012, 0.9134618692824585, 0.9333889950727136, 0.9692611166225205, 0.9694890501464758, 0.9766060541510375, 0.9826617377792566, 0.992173632787864, 0.9918041501952886, 0.9461833943688851, 0.9582159351030848, 0.959983482555071, 0.9796765314318758, 0.976975133187117, 0.9954672431600228, 0.9729179243285089, 0.9895204584313617, 0.9327421803670128, 0.9167607256998026, 0.968303290914082, 0.995975721816547, 0.9582678669099867, 0.9879468069302355, 0.9479066319895048, 0.6886200456615991, 0.29214183755340567, 0.9792151509267373, 0.8917608246957354, 0.05245651909974914, 0.9925224040547996, 0.9698276085913226, 0.9758994238406251, 0.894218121456667, 0.08416170554886278, 0.010520213193607847, 0.9904841093922434, 0.9661105257439434, 0.9509511938616669, 0.992883409685419, 0.9002553084650378, 0.9181020430640476, 0.9797711294401548, 0.9633925586985862, 0.3888036258686192, 0.6026456200963598, 0.9265914981106498, 0.4288622539278452, 0.5679527146612003, 0.9480871448654491, 0.9795560462933438, 0.7776301699951054, 0.21208095545321054, 0.812770832612867, 0.14777651502052128, 0.9408448873589014, 0.9552235925775295, 0.930643534281905, 0.990455212241039, 0.9782634275979085, 0.9370547313673246, 0.9708466230979483, 0.9897423218020795, 0.8612865768374589, 0.1282767242098343, 0.2734909954267576, 0.6942463730063846, 0.9329908086939753, 0.2842806844537536, 0.6977798618410316, 0.9083021170810455], \"Term\": [\"ad\", \"add\", \"agreement\", \"ahead\", \"aim\", \"allegation\", \"american_eagle\", \"american_eagle\", \"analyst\", \"answer\", \"apologize\", \"app\", \"app\", \"apple\", \"apple_release\", \"area\", \"asian\", \"average\", \"bachelor\", \"bad\", \"balance\", \"ban\", \"ban_bossy\", \"bank\", \"bankruptcy\", \"bankruptcy_protection\", \"bean\", \"beat\", \"beyonce\", \"bieber\", \"bieber\", \"big\", \"big\", \"billboard\", \"bitcoin\", \"bitcoin\", \"bitcoin_exchange\", \"blame\", \"blind_audition\", \"boe\", \"boe\", \"boe\", \"book\", \"boss\", \"bossy\", \"boyfriend\", \"break\", \"break\", \"break\", \"brief\", \"bring\", \"business\", \"business\", \"call\", \"campaign\", \"cannabis\", \"card\", \"carney\", \"carney\", \"carney_face\", \"carplay\", \"carplay\", \"carry\", \"case\", \"cash\", \"ceo\", \"ceremony\", \"change\", \"channel\", \"chapter\", \"chef\", \"chef\", \"child\", \"china\", \"chinese\", \"chris_harrison\", \"claim\", \"claim\", \"clare\", \"close\", \"close\", \"close\", \"close\", \"colorado\", \"comcast\", \"come\", \"commodity\", \"company\", \"concern\", \"confidence\", \"continue\", \"continue\", \"continue\", \"control\", \"copper\", \"costume_change\", \"cressida_bona\", \"crude\", \"crude\", \"currency\", \"currency\", \"currency\", \"customer\", \"dance\", \"dance\", \"datum\", \"debut\", \"decline\", \"decline\", \"defend\", \"delay\", \"deposition\", \"deputy_governor\", \"detail\", \"device\", \"dip\", \"disappoint\", \"discouraging_new\", \"docu_serie\", \"docu_serie\", \"earning\", \"economy\", \"edge\", \"employee\", \"encryption\", \"end\", \"end\", \"end\", \"end\", \"engagement\", \"england\", \"episode\", \"escape\", \"escort\", \"estimate\", \"expect\", \"explain\", \"export\", \"export\", \"export\", \"face\", \"fail\", \"fall\", \"fan\", \"fast\", \"feature\", \"feel\", \"fight\", \"file\", \"film\", \"final_rose\", \"finale\", \"fire\", \"fix\", \"flat\", \"follow\", \"follow\", \"force\", \"forecast\", \"forex\", \"forex\", \"fuel\", \"fyffe\", \"gain\", \"gain\", \"galavis\", \"game\", \"gas_price\", \"george_clooney\", \"george_zimmerman\", \"get\", \"get\", \"girl\", \"girl\", \"girlfriend\", \"go\", \"go\", \"good\", \"government\", \"grill\", \"grill\", \"growth_worrie\", \"gun\", \"hack\", \"hacker\", \"hacker\", \"hacker\", \"happen\", \"happen\", \"hbo\", \"head\", \"help\", \"high\", \"high\", \"high\", \"high\", \"high\", \"hit\", \"hit\", \"hit\", \"hit\", \"hit\", \"hit\", \"hold\", \"hold\", \"host\", \"house\", \"inch\", \"industrial\", \"internet\", \"investor\", \"investor\", \"io\", \"ipad_model\", \"iphone\", \"iron_man\", \"issue\", \"issue\", \"january\", \"job\", \"juan_pablo\", \"jump\", \"justin_bieber\", \"kid\", \"kill\", \"know\", \"launch\", \"lawmaker\", \"leak\", \"lean\", \"leave\", \"legal\", \"let\", \"libyan\", \"lindsay\", \"lindsay_lohan\", \"list\", \"live\", \"live\", \"lose\", \"loss\", \"love\", \"low\", \"low\", \"low\", \"low\", \"m\", \"make\", \"make\", \"mark_carney\", \"market\", \"market\", \"marrie\", \"marries_jared\", \"mean\", \"meet\", \"message\", \"miley_cyrus\", \"minute\", \"miss\", \"miss\", \"mixed\", \"mobile\", \"money\", \"money_maker\", \"month\", \"month\", \"move\", \"mp\", \"music\", \"musical\", \"naked\", \"naked\", \"name\", \"national\", \"need\", \"neighbor\", \"neighbor\", \"neighbor\", \"neil_degrasse\", \"neil_young\", \"neil_young\", \"net\", \"nikki_ferrell\", \"north_korean\", \"number\", \"oil\", \"oil\", \"oil\", \"online\", \"open\", \"oust\", \"outfitter\", \"outlook\", \"overheat\", \"oversight\", \"parent\", \"parenting\", \"parliament\", \"party\", \"percent\", \"perform\", \"pick\", \"plan\", \"plan\", \"pobre\", \"ponoplayer\", \"port\", \"post\", \"post\", \"post\", \"pot\", \"premiere\", \"price\", \"price\", \"prince_harry\", \"probe\", \"profit\", \"profit\", \"propose\", \"public\", \"public_transit\", \"quarter\", \"quarter\", \"quarterly\", \"question\", \"quick\", \"rate\", \"rating\", \"read\", \"reality\", \"rebel\", \"rebel_oil\", \"rebel_port\", \"recall\", \"recap\", \"record\", \"record\", \"record\", \"record\", \"record\", \"recovery\", \"release\", \"report\", \"report\", \"report\", \"report\", \"result\", \"return\", \"revenue\", \"revenue\", \"review\", \"rise\", \"rise\", \"rise\", \"s\", \"sale\", \"sale\", \"sale\", \"saturday_night\", \"say\", \"say\", \"say\", \"say\", \"say\", \"say\", \"say\", \"say\", \"sbarro\", \"sbarro_file\", \"scandal\", \"sea\", \"search\", \"season\", \"secret\", \"see\", \"see\", \"seize\", \"selena_gomez\", \"selena_gomez\", \"selena_gomez\", \"send\", \"service\", \"set\", \"set\", \"share\", \"show\", \"sign\", \"singer\", \"sink\", \"slide\", \"slip\", \"smartphone\", \"snapshot\", \"sneak\", \"snowden\", \"snowden\", \"snowden\", \"soon\", \"speak\", \"spoiler\", \"stacy_keibl\", \"star\", \"start\", \"steady\", \"sterling\", \"stock\", \"stop\", \"store\", \"story\", \"stream\", \"surprise\", \"talk\", \"tanker\", \"tax\", \"taxis\", \"taylor_swift\", \"team\", \"tech\", \"technology\", \"tell\", \"thing\", \"throne\", \"time\", \"titanfall\", \"top\", \"track\", \"trading\", \"trailer\", \"train\", \"true_detective\", \"turn\", \"tv\", \"tv\", \"twitter\", \"ukraine\", \"ukraine\", \"underwear\", \"unicredit\", \"unicredit_post\", \"update\", \"update\", \"update\", \"urban_outfitter\", \"urbn\", \"usd\", \"video\", \"view\", \"viewer\", \"voice\", \"wall_street\", \"want\", \"want\", \"war\", \"watch\", \"watch\", \"way\", \"weak\", \"wearable\", \"wearable\", \"weather\", \"weather\", \"wed\", \"wedding\", \"weed\", \"week\", \"weigh\", \"win\", \"winner\", \"woman\", \"word\", \"word\", \"world\", \"world\", \"worry\", \"year\", \"year\", \"young\"]}, \"R\": 30, \"lambda.step\": 0.01, \"plot.opts\": {\"xlab\": \"PC1\", \"ylab\": \"PC2\"}, \"topic.order\": [5, 2, 7, 4, 1, 6, 9, 10, 3, 8]};\n",
              "\n",
              "function LDAvis_load_lib(url, callback){\n",
              "  var s = document.createElement('script');\n",
              "  s.src = url;\n",
              "  s.async = true;\n",
              "  s.onreadystatechange = s.onload = callback;\n",
              "  s.onerror = function(){console.warn(\"failed to load library \" + url);};\n",
              "  document.getElementsByTagName(\"head\")[0].appendChild(s);\n",
              "}\n",
              "\n",
              "if(typeof(LDAvis) !== \"undefined\"){\n",
              "   // already loaded: just create the visualization\n",
              "   !function(LDAvis){\n",
              "       new LDAvis(\"#\" + \"ldavis_el11671343860040912645618452770\", ldavis_el11671343860040912645618452770_data);\n",
              "   }(LDAvis);\n",
              "}else if(typeof define === \"function\" && define.amd){\n",
              "   // require.js is available: use it to load d3/LDAvis\n",
              "   require.config({paths: {d3: \"https://d3js.org/d3.v5\"}});\n",
              "   require([\"d3\"], function(d3){\n",
              "      window.d3 = d3;\n",
              "      LDAvis_load_lib(\"https://cdn.jsdelivr.net/gh/bmabey/pyLDAvis@3.4.0/pyLDAvis/js/ldavis.v3.0.0.js\", function(){\n",
              "        new LDAvis(\"#\" + \"ldavis_el11671343860040912645618452770\", ldavis_el11671343860040912645618452770_data);\n",
              "      });\n",
              "    });\n",
              "}else{\n",
              "    // require.js not available: dynamically load d3 & LDAvis\n",
              "    LDAvis_load_lib(\"https://d3js.org/d3.v5.js\", function(){\n",
              "         LDAvis_load_lib(\"https://cdn.jsdelivr.net/gh/bmabey/pyLDAvis@3.4.0/pyLDAvis/js/ldavis.v3.0.0.js\", function(){\n",
              "                 new LDAvis(\"#\" + \"ldavis_el11671343860040912645618452770\", ldavis_el11671343860040912645618452770_data);\n",
              "            })\n",
              "         });\n",
              "}\n",
              "</script>"
            ]
          },
          "metadata": {},
          "execution_count": 79
        }
      ]
    },
    {
      "cell_type": "markdown",
      "source": [
        "Additional Work\n",
        "  - Finding the suitable number of extracted topic by computing coherence score"
      ],
      "metadata": {
        "id": "fkpNf3VhZT0e"
      }
    },
    {
      "cell_type": "code",
      "source": [
        "def compute_coherence_values(dictionary, corpus, texts, limit, start=2, step=3):\n",
        "    coherence_values = []\n",
        "    model_list = []\n",
        "    for num_topics in range(start, limit, step):\n",
        "        model = LdaModel(corpus=corpus, num_topics=num_topics, id2word=news_id2word)\n",
        "        model_list.append(model)\n",
        "        coherencemodel = CoherenceModel(model=model, texts=texts, dictionary=dictionary, coherence='c_v')\n",
        "        coherence_values.append(coherencemodel.get_coherence())\n",
        "\n",
        "    return model_list, coherence_values"
      ],
      "metadata": {
        "id": "AoGveyo12UYP"
      },
      "execution_count": null,
      "outputs": []
    },
    {
      "cell_type": "code",
      "source": [
        "model_list, coherence_values = compute_coherence_values(dictionary=news_id2word, corpus=news_corpus, texts=news_words_lemmatized, start=2, limit=50, step=1)"
      ],
      "metadata": {
        "id": "WaY-xkDy484s",
        "colab": {
          "base_uri": "https://localhost:8080/"
        },
        "outputId": "687760b0-d675-449c-afa2-2246a6b45457"
      },
      "execution_count": null,
      "outputs": [
        {
          "output_type": "stream",
          "name": "stderr",
          "text": [
            "WARNING:gensim.models.ldamodel:too few updates, training might not converge; consider increasing the number of passes or iterations to improve accuracy\n",
            "WARNING:gensim.models.ldamodel:too few updates, training might not converge; consider increasing the number of passes or iterations to improve accuracy\n",
            "WARNING:gensim.models.ldamodel:too few updates, training might not converge; consider increasing the number of passes or iterations to improve accuracy\n",
            "WARNING:gensim.models.ldamodel:too few updates, training might not converge; consider increasing the number of passes or iterations to improve accuracy\n",
            "WARNING:gensim.models.ldamodel:too few updates, training might not converge; consider increasing the number of passes or iterations to improve accuracy\n",
            "WARNING:gensim.models.ldamodel:too few updates, training might not converge; consider increasing the number of passes or iterations to improve accuracy\n",
            "WARNING:gensim.models.ldamodel:too few updates, training might not converge; consider increasing the number of passes or iterations to improve accuracy\n",
            "WARNING:gensim.models.ldamodel:too few updates, training might not converge; consider increasing the number of passes or iterations to improve accuracy\n",
            "WARNING:gensim.models.ldamodel:too few updates, training might not converge; consider increasing the number of passes or iterations to improve accuracy\n",
            "WARNING:gensim.models.ldamodel:too few updates, training might not converge; consider increasing the number of passes or iterations to improve accuracy\n",
            "WARNING:gensim.models.ldamodel:too few updates, training might not converge; consider increasing the number of passes or iterations to improve accuracy\n",
            "WARNING:gensim.models.ldamodel:too few updates, training might not converge; consider increasing the number of passes or iterations to improve accuracy\n",
            "WARNING:gensim.models.ldamodel:too few updates, training might not converge; consider increasing the number of passes or iterations to improve accuracy\n",
            "WARNING:gensim.models.ldamodel:too few updates, training might not converge; consider increasing the number of passes or iterations to improve accuracy\n",
            "WARNING:gensim.models.ldamodel:too few updates, training might not converge; consider increasing the number of passes or iterations to improve accuracy\n",
            "WARNING:gensim.models.ldamodel:too few updates, training might not converge; consider increasing the number of passes or iterations to improve accuracy\n",
            "WARNING:gensim.models.ldamodel:too few updates, training might not converge; consider increasing the number of passes or iterations to improve accuracy\n",
            "WARNING:gensim.models.ldamodel:too few updates, training might not converge; consider increasing the number of passes or iterations to improve accuracy\n",
            "WARNING:gensim.models.ldamodel:too few updates, training might not converge; consider increasing the number of passes or iterations to improve accuracy\n",
            "WARNING:gensim.models.ldamodel:too few updates, training might not converge; consider increasing the number of passes or iterations to improve accuracy\n",
            "WARNING:gensim.models.ldamodel:too few updates, training might not converge; consider increasing the number of passes or iterations to improve accuracy\n",
            "WARNING:gensim.models.ldamodel:too few updates, training might not converge; consider increasing the number of passes or iterations to improve accuracy\n",
            "WARNING:gensim.models.ldamodel:too few updates, training might not converge; consider increasing the number of passes or iterations to improve accuracy\n",
            "WARNING:gensim.models.ldamodel:too few updates, training might not converge; consider increasing the number of passes or iterations to improve accuracy\n",
            "WARNING:gensim.models.ldamodel:too few updates, training might not converge; consider increasing the number of passes or iterations to improve accuracy\n",
            "WARNING:gensim.models.ldamodel:too few updates, training might not converge; consider increasing the number of passes or iterations to improve accuracy\n",
            "WARNING:gensim.models.ldamodel:too few updates, training might not converge; consider increasing the number of passes or iterations to improve accuracy\n",
            "WARNING:gensim.models.ldamodel:too few updates, training might not converge; consider increasing the number of passes or iterations to improve accuracy\n",
            "WARNING:gensim.models.ldamodel:too few updates, training might not converge; consider increasing the number of passes or iterations to improve accuracy\n",
            "WARNING:gensim.models.ldamodel:too few updates, training might not converge; consider increasing the number of passes or iterations to improve accuracy\n",
            "WARNING:gensim.models.ldamodel:too few updates, training might not converge; consider increasing the number of passes or iterations to improve accuracy\n",
            "WARNING:gensim.models.ldamodel:too few updates, training might not converge; consider increasing the number of passes or iterations to improve accuracy\n",
            "WARNING:gensim.models.ldamodel:too few updates, training might not converge; consider increasing the number of passes or iterations to improve accuracy\n",
            "WARNING:gensim.models.ldamodel:too few updates, training might not converge; consider increasing the number of passes or iterations to improve accuracy\n",
            "WARNING:gensim.models.ldamodel:too few updates, training might not converge; consider increasing the number of passes or iterations to improve accuracy\n",
            "WARNING:gensim.models.ldamodel:too few updates, training might not converge; consider increasing the number of passes or iterations to improve accuracy\n",
            "WARNING:gensim.models.ldamodel:too few updates, training might not converge; consider increasing the number of passes or iterations to improve accuracy\n",
            "WARNING:gensim.models.ldamodel:too few updates, training might not converge; consider increasing the number of passes or iterations to improve accuracy\n",
            "WARNING:gensim.models.ldamodel:too few updates, training might not converge; consider increasing the number of passes or iterations to improve accuracy\n",
            "WARNING:gensim.models.ldamodel:too few updates, training might not converge; consider increasing the number of passes or iterations to improve accuracy\n",
            "WARNING:gensim.models.ldamodel:too few updates, training might not converge; consider increasing the number of passes or iterations to improve accuracy\n",
            "WARNING:gensim.models.ldamodel:too few updates, training might not converge; consider increasing the number of passes or iterations to improve accuracy\n",
            "WARNING:gensim.models.ldamodel:too few updates, training might not converge; consider increasing the number of passes or iterations to improve accuracy\n",
            "WARNING:gensim.models.ldamodel:too few updates, training might not converge; consider increasing the number of passes or iterations to improve accuracy\n",
            "WARNING:gensim.models.ldamodel:too few updates, training might not converge; consider increasing the number of passes or iterations to improve accuracy\n",
            "WARNING:gensim.models.ldamodel:too few updates, training might not converge; consider increasing the number of passes or iterations to improve accuracy\n",
            "WARNING:gensim.models.ldamodel:too few updates, training might not converge; consider increasing the number of passes or iterations to improve accuracy\n",
            "WARNING:gensim.models.ldamodel:too few updates, training might not converge; consider increasing the number of passes or iterations to improve accuracy\n"
          ]
        }
      ]
    },
    {
      "cell_type": "code",
      "source": [
        "limit=50; start=2; step=1;\n",
        "x = range(start, limit, step)\n",
        "plt.plot(x, coherence_values)\n",
        "plt.xlabel(\"Num Topics\")\n",
        "plt.ylabel(\"Coherence score\")\n",
        "plt.legend((\"coherence_values\"), loc='best')\n",
        "plt.show()"
      ],
      "metadata": {
        "colab": {
          "base_uri": "https://localhost:8080/",
          "height": 506
        },
        "id": "6xB2FnkAcw72",
        "outputId": "43adefa5-a1a8-4ddd-fd79-eafd577b3700"
      },
      "execution_count": null,
      "outputs": [
        {
          "output_type": "stream",
          "name": "stderr",
          "text": [
            "/usr/local/lib/python3.10/dist-packages/ipykernel/ipkernel.py:283: DeprecationWarning: `should_run_async` will not call `transform_cell` automatically in the future. Please pass the result to `transformed_cell` argument and any exception that happen during thetransform in `preprocessing_exc_tuple` in IPython 7.17 and above.\n",
            "  and should_run_async(code)\n"
          ]
        },
        {
          "output_type": "display_data",
          "data": {
            "text/plain": [
              "<Figure size 640x480 with 1 Axes>"
            ],
            "image/png": "[encoded data removed]"
          },
          "metadata": {}
        }
      ]
    },
    {
      "cell_type": "markdown",
      "source": [
        "This is the graph representing the suitable number of topic can be selected in the given dataset.\n",
        "We can select 23 topics"
      ],
      "metadata": {
        "id": "U_e2SwLwXNTG"
      }
    },
    {
      "cell_type": "markdown",
      "source": [
        "<b>Question 5 - Plot the dependency parser for any two random sentences from the entire corpus/dataset that has at least 10 words in the sentence. Make sure that dependency parser looks good and should visually understandable.</b>"
      ],
      "metadata": {
        "id": "_ZFe8J9o4qv_"
      }
    },
    {
      "cell_type": "code",
      "source": [
        "nlp = spacy.load('en_core_web_sm')"
      ],
      "metadata": {
        "id": "LC2KK0o9X7ot"
      },
      "execution_count": null,
      "outputs": []
    },
    {
      "cell_type": "code",
      "source": [
        "sentences = data_df.TITLE.values.tolist()\n",
        "long_sentences = [sentence for sentence in sentences if len(sentence.split()) > 10]"
      ],
      "metadata": {
        "id": "kjXm-HwZ5VYZ"
      },
      "execution_count": null,
      "outputs": []
    },
    {
      "cell_type": "code",
      "source": [
        "sentences[:5]"
      ],
      "metadata": {
        "colab": {
          "base_uri": "https://localhost:8080/"
        },
        "id": "p5x9Zjvh4x9g",
        "outputId": "78bc8ac5-c276-4f48-8539-ae3210f7570c"
      },
      "execution_count": null,
      "outputs": [
        {
          "output_type": "execute_result",
          "data": {
            "text/plain": [
              "['Fed official says weak data caused by weather, should not slow taper',\n",
              " \"Fed's Charles Plosser sees high bar for change in pace of tapering\",\n",
              " 'US open: Stocks fall after Fed official hints at accelerated tapering',\n",
              " \"Fed risks falling 'behind the curve', Charles Plosser says\",\n",
              " \"Fed's Plosser: Nasty Weather Has Curbed Job Growth\"]"
            ]
          },
          "metadata": {},
          "execution_count": 39
        }
      ]
    },
    {
      "cell_type": "code",
      "source": [
        "selected_sentence_1 = random.choice(long_sentences)\n",
        "selected_sentence_2 = random.choice(long_sentences)"
      ],
      "metadata": {
        "id": "q5MuJ6VB5JYj"
      },
      "execution_count": null,
      "outputs": []
    },
    {
      "cell_type": "code",
      "source": [
        "print(selected_sentence_1)"
      ],
      "metadata": {
        "colab": {
          "base_uri": "https://localhost:8080/"
        },
        "id": "OD8mdNXO5L4y",
        "outputId": "88747d10-0640-4661-e338-1e82413c1d98"
      },
      "execution_count": null,
      "outputs": [
        {
          "output_type": "stream",
          "name": "stdout",
          "text": [
            "The Bachelor 2014 Winner Spoilers - Is It Nikki Ferrell Or Clare Crawley?\n"
          ]
        }
      ]
    },
    {
      "cell_type": "code",
      "source": [],
      "metadata": {
        "id": "rBJOzJV05Qr8"
      },
      "execution_count": null,
      "outputs": []
    },
    {
      "cell_type": "code",
      "source": [
        "#displacy.render(nlp(selected_sentence_1), style='dep', jupyter=True, options={'distance': 140})"
      ],
      "metadata": {
        "colab": {
          "base_uri": "https://localhost:8080/",
          "height": 389
        },
        "id": "WRJdHCP6UYCV",
        "outputId": "66f7eec6-2b5e-4e95-bbeb-8940a738fd87"
      },
      "execution_count": null,
      "outputs": [
        {
          "output_type": "display_data",
          "data": {
            "text/plain": [
              "<IPython.core.display.HTML object>"
            ],
            "text/html": [
              "<span class=\"tex2jax_ignore\"><svg xmlns=\"http://www.w3.org/2000/svg\" xmlns:xlink=\"http://www.w3.org/1999/xlink\" xml:lang=\"en\" id=\"195120141eb640b3b152f9e0b361ee46-0\" class=\"displacy\" width=\"1730\" height=\"347.0\" direction=\"ltr\" style=\"max-width: none; height: 347.0px; color: #000000; background: #ffffff; font-family: Arial; direction: ltr\">\n",
              "<text class=\"displacy-token\" fill=\"currentColor\" text-anchor=\"middle\" y=\"257.0\">\n",
              "    <tspan class=\"displacy-word\" fill=\"currentColor\" x=\"50\">The</tspan>\n",
              "    <tspan class=\"displacy-tag\" dy=\"2em\" fill=\"currentColor\" x=\"50\">DET</tspan>\n",
              "</text>\n",
              "\n",
              "<text class=\"displacy-token\" fill=\"currentColor\" text-anchor=\"middle\" y=\"257.0\">\n",
              "    <tspan class=\"displacy-word\" fill=\"currentColor\" x=\"190\">Bachelor</tspan>\n",
              "    <tspan class=\"displacy-tag\" dy=\"2em\" fill=\"currentColor\" x=\"190\">PROPN</tspan>\n",
              "</text>\n",
              "\n",
              "<text class=\"displacy-token\" fill=\"currentColor\" text-anchor=\"middle\" y=\"257.0\">\n",
              "    <tspan class=\"displacy-word\" fill=\"currentColor\" x=\"330\">2014</tspan>\n",
              "    <tspan class=\"displacy-tag\" dy=\"2em\" fill=\"currentColor\" x=\"330\">NUM</tspan>\n",
              "</text>\n",
              "\n",
              "<text class=\"displacy-token\" fill=\"currentColor\" text-anchor=\"middle\" y=\"257.0\">\n",
              "    <tspan class=\"displacy-word\" fill=\"currentColor\" x=\"470\">Winner</tspan>\n",
              "    <tspan class=\"displacy-tag\" dy=\"2em\" fill=\"currentColor\" x=\"470\">PROPN</tspan>\n",
              "</text>\n",
              "\n",
              "<text class=\"displacy-token\" fill=\"currentColor\" text-anchor=\"middle\" y=\"257.0\">\n",
              "    <tspan class=\"displacy-word\" fill=\"currentColor\" x=\"610\">Spoilers -</tspan>\n",
              "    <tspan class=\"displacy-tag\" dy=\"2em\" fill=\"currentColor\" x=\"610\">NOUN</tspan>\n",
              "</text>\n",
              "\n",
              "<text class=\"displacy-token\" fill=\"currentColor\" text-anchor=\"middle\" y=\"257.0\">\n",
              "    <tspan class=\"displacy-word\" fill=\"currentColor\" x=\"750\">Is</tspan>\n",
              "    <tspan class=\"displacy-tag\" dy=\"2em\" fill=\"currentColor\" x=\"750\">AUX</tspan>\n",
              "</text>\n",
              "\n",
              "<text class=\"displacy-token\" fill=\"currentColor\" text-anchor=\"middle\" y=\"257.0\">\n",
              "    <tspan class=\"displacy-word\" fill=\"currentColor\" x=\"890\">It</tspan>\n",
              "    <tspan class=\"displacy-tag\" dy=\"2em\" fill=\"currentColor\" x=\"890\">PRON</tspan>\n",
              "</text>\n",
              "\n",
              "<text class=\"displacy-token\" fill=\"currentColor\" text-anchor=\"middle\" y=\"257.0\">\n",
              "    <tspan class=\"displacy-word\" fill=\"currentColor\" x=\"1030\">Nikki</tspan>\n",
              "    <tspan class=\"displacy-tag\" dy=\"2em\" fill=\"currentColor\" x=\"1030\">PROPN</tspan>\n",
              "</text>\n",
              "\n",
              "<text class=\"displacy-token\" fill=\"currentColor\" text-anchor=\"middle\" y=\"257.0\">\n",
              "    <tspan class=\"displacy-word\" fill=\"currentColor\" x=\"1170\">Ferrell</tspan>\n",
              "    <tspan class=\"displacy-tag\" dy=\"2em\" fill=\"currentColor\" x=\"1170\">PROPN</tspan>\n",
              "</text>\n",
              "\n",
              "<text class=\"displacy-token\" fill=\"currentColor\" text-anchor=\"middle\" y=\"257.0\">\n",
              "    <tspan class=\"displacy-word\" fill=\"currentColor\" x=\"1310\">Or</tspan>\n",
              "    <tspan class=\"displacy-tag\" dy=\"2em\" fill=\"currentColor\" x=\"1310\">CCONJ</tspan>\n",
              "</text>\n",
              "\n",
              "<text class=\"displacy-token\" fill=\"currentColor\" text-anchor=\"middle\" y=\"257.0\">\n",
              "    <tspan class=\"displacy-word\" fill=\"currentColor\" x=\"1450\">Clare</tspan>\n",
              "    <tspan class=\"displacy-tag\" dy=\"2em\" fill=\"currentColor\" x=\"1450\">PROPN</tspan>\n",
              "</text>\n",
              "\n",
              "<text class=\"displacy-token\" fill=\"currentColor\" text-anchor=\"middle\" y=\"257.0\">\n",
              "    <tspan class=\"displacy-word\" fill=\"currentColor\" x=\"1590\">Crawley?</tspan>\n",
              "    <tspan class=\"displacy-tag\" dy=\"2em\" fill=\"currentColor\" x=\"1590\">PROPN</tspan>\n",
              "</text>\n",
              "\n",
              "<g class=\"displacy-arrow\">\n",
              "    <path class=\"displacy-arc\" id=\"arrow-195120141eb640b3b152f9e0b361ee46-0-0\" stroke-width=\"2px\" d=\"M70,212.0 C70,2.0 610.0,2.0 610.0,212.0\" fill=\"none\" stroke=\"currentColor\"/>\n",
              "    <text dy=\"1.25em\" style=\"font-size: 0.8em; letter-spacing: 1px\">\n",
              "        <textPath xlink:href=\"#arrow-195120141eb640b3b152f9e0b361ee46-0-0\" class=\"displacy-label\" startOffset=\"50%\" side=\"left\" fill=\"currentColor\" text-anchor=\"middle\">det</textPath>\n",
              "    </text>\n",
              "    <path class=\"displacy-arrowhead\" d=\"M70,214.0 L62,202.0 78,202.0\" fill=\"currentColor\"/>\n",
              "</g>\n",
              "\n",
              "<g class=\"displacy-arrow\">\n",
              "    <path class=\"displacy-arc\" id=\"arrow-195120141eb640b3b152f9e0b361ee46-0-1\" stroke-width=\"2px\" d=\"M210,212.0 C210,72.0 465.0,72.0 465.0,212.0\" fill=\"none\" stroke=\"currentColor\"/>\n",
              "    <text dy=\"1.25em\" style=\"font-size: 0.8em; letter-spacing: 1px\">\n",
              "        <textPath xlink:href=\"#arrow-195120141eb640b3b152f9e0b361ee46-0-1\" class=\"displacy-label\" startOffset=\"50%\" side=\"left\" fill=\"currentColor\" text-anchor=\"middle\">nmod</textPath>\n",
              "    </text>\n",
              "    <path class=\"displacy-arrowhead\" d=\"M210,214.0 L202,202.0 218,202.0\" fill=\"currentColor\"/>\n",
              "</g>\n",
              "\n",
              "<g class=\"displacy-arrow\">\n",
              "    <path class=\"displacy-arc\" id=\"arrow-195120141eb640b3b152f9e0b361ee46-0-2\" stroke-width=\"2px\" d=\"M210,212.0 C210,142.0 320.0,142.0 320.0,212.0\" fill=\"none\" stroke=\"currentColor\"/>\n",
              "    <text dy=\"1.25em\" style=\"font-size: 0.8em; letter-spacing: 1px\">\n",
              "        <textPath xlink:href=\"#arrow-195120141eb640b3b152f9e0b361ee46-0-2\" class=\"displacy-label\" startOffset=\"50%\" side=\"left\" fill=\"currentColor\" text-anchor=\"middle\">nummod</textPath>\n",
              "    </text>\n",
              "    <path class=\"displacy-arrowhead\" d=\"M320.0,214.0 L328.0,202.0 312.0,202.0\" fill=\"currentColor\"/>\n",
              "</g>\n",
              "\n",
              "<g class=\"displacy-arrow\">\n",
              "    <path class=\"displacy-arc\" id=\"arrow-195120141eb640b3b152f9e0b361ee46-0-3\" stroke-width=\"2px\" d=\"M490,212.0 C490,142.0 600.0,142.0 600.0,212.0\" fill=\"none\" stroke=\"currentColor\"/>\n",
              "    <text dy=\"1.25em\" style=\"font-size: 0.8em; letter-spacing: 1px\">\n",
              "        <textPath xlink:href=\"#arrow-195120141eb640b3b152f9e0b361ee46-0-3\" class=\"displacy-label\" startOffset=\"50%\" side=\"left\" fill=\"currentColor\" text-anchor=\"middle\">compound</textPath>\n",
              "    </text>\n",
              "    <path class=\"displacy-arrowhead\" d=\"M490,214.0 L482,202.0 498,202.0\" fill=\"currentColor\"/>\n",
              "</g>\n",
              "\n",
              "<g class=\"displacy-arrow\">\n",
              "    <path class=\"displacy-arc\" id=\"arrow-195120141eb640b3b152f9e0b361ee46-0-4\" stroke-width=\"2px\" d=\"M630,212.0 C630,142.0 740.0,142.0 740.0,212.0\" fill=\"none\" stroke=\"currentColor\"/>\n",
              "    <text dy=\"1.25em\" style=\"font-size: 0.8em; letter-spacing: 1px\">\n",
              "        <textPath xlink:href=\"#arrow-195120141eb640b3b152f9e0b361ee46-0-4\" class=\"displacy-label\" startOffset=\"50%\" side=\"left\" fill=\"currentColor\" text-anchor=\"middle\">nsubj</textPath>\n",
              "    </text>\n",
              "    <path class=\"displacy-arrowhead\" d=\"M630,214.0 L622,202.0 638,202.0\" fill=\"currentColor\"/>\n",
              "</g>\n",
              "\n",
              "<g class=\"displacy-arrow\">\n",
              "    <path class=\"displacy-arc\" id=\"arrow-195120141eb640b3b152f9e0b361ee46-0-5\" stroke-width=\"2px\" d=\"M770,212.0 C770,142.0 880.0,142.0 880.0,212.0\" fill=\"none\" stroke=\"currentColor\"/>\n",
              "    <text dy=\"1.25em\" style=\"font-size: 0.8em; letter-spacing: 1px\">\n",
              "        <textPath xlink:href=\"#arrow-195120141eb640b3b152f9e0b361ee46-0-5\" class=\"displacy-label\" startOffset=\"50%\" side=\"left\" fill=\"currentColor\" text-anchor=\"middle\">nsubj</textPath>\n",
              "    </text>\n",
              "    <path class=\"displacy-arrowhead\" d=\"M880.0,214.0 L888.0,202.0 872.0,202.0\" fill=\"currentColor\"/>\n",
              "</g>\n",
              "\n",
              "<g class=\"displacy-arrow\">\n",
              "    <path class=\"displacy-arc\" id=\"arrow-195120141eb640b3b152f9e0b361ee46-0-6\" stroke-width=\"2px\" d=\"M1050,212.0 C1050,142.0 1160.0,142.0 1160.0,212.0\" fill=\"none\" stroke=\"currentColor\"/>\n",
              "    <text dy=\"1.25em\" style=\"font-size: 0.8em; letter-spacing: 1px\">\n",
              "        <textPath xlink:href=\"#arrow-195120141eb640b3b152f9e0b361ee46-0-6\" class=\"displacy-label\" startOffset=\"50%\" side=\"left\" fill=\"currentColor\" text-anchor=\"middle\">compound</textPath>\n",
              "    </text>\n",
              "    <path class=\"displacy-arrowhead\" d=\"M1050,214.0 L1042,202.0 1058,202.0\" fill=\"currentColor\"/>\n",
              "</g>\n",
              "\n",
              "<g class=\"displacy-arrow\">\n",
              "    <path class=\"displacy-arc\" id=\"arrow-195120141eb640b3b152f9e0b361ee46-0-7\" stroke-width=\"2px\" d=\"M1190,212.0 C1190,72.0 1585.0,72.0 1585.0,212.0\" fill=\"none\" stroke=\"currentColor\"/>\n",
              "    <text dy=\"1.25em\" style=\"font-size: 0.8em; letter-spacing: 1px\">\n",
              "        <textPath xlink:href=\"#arrow-195120141eb640b3b152f9e0b361ee46-0-7\" class=\"displacy-label\" startOffset=\"50%\" side=\"left\" fill=\"currentColor\" text-anchor=\"middle\">nmod</textPath>\n",
              "    </text>\n",
              "    <path class=\"displacy-arrowhead\" d=\"M1190,214.0 L1182,202.0 1198,202.0\" fill=\"currentColor\"/>\n",
              "</g>\n",
              "\n",
              "<g class=\"displacy-arrow\">\n",
              "    <path class=\"displacy-arc\" id=\"arrow-195120141eb640b3b152f9e0b361ee46-0-8\" stroke-width=\"2px\" d=\"M1190,212.0 C1190,142.0 1300.0,142.0 1300.0,212.0\" fill=\"none\" stroke=\"currentColor\"/>\n",
              "    <text dy=\"1.25em\" style=\"font-size: 0.8em; letter-spacing: 1px\">\n",
              "        <textPath xlink:href=\"#arrow-195120141eb640b3b152f9e0b361ee46-0-8\" class=\"displacy-label\" startOffset=\"50%\" side=\"left\" fill=\"currentColor\" text-anchor=\"middle\">cc</textPath>\n",
              "    </text>\n",
              "    <path class=\"displacy-arrowhead\" d=\"M1300.0,214.0 L1308.0,202.0 1292.0,202.0\" fill=\"currentColor\"/>\n",
              "</g>\n",
              "\n",
              "<g class=\"displacy-arrow\">\n",
              "    <path class=\"displacy-arc\" id=\"arrow-195120141eb640b3b152f9e0b361ee46-0-9\" stroke-width=\"2px\" d=\"M1470,212.0 C1470,142.0 1580.0,142.0 1580.0,212.0\" fill=\"none\" stroke=\"currentColor\"/>\n",
              "    <text dy=\"1.25em\" style=\"font-size: 0.8em; letter-spacing: 1px\">\n",
              "        <textPath xlink:href=\"#arrow-195120141eb640b3b152f9e0b361ee46-0-9\" class=\"displacy-label\" startOffset=\"50%\" side=\"left\" fill=\"currentColor\" text-anchor=\"middle\">compound</textPath>\n",
              "    </text>\n",
              "    <path class=\"displacy-arrowhead\" d=\"M1470,214.0 L1462,202.0 1478,202.0\" fill=\"currentColor\"/>\n",
              "</g>\n",
              "\n",
              "<g class=\"displacy-arrow\">\n",
              "    <path class=\"displacy-arc\" id=\"arrow-195120141eb640b3b152f9e0b361ee46-0-10\" stroke-width=\"2px\" d=\"M770,212.0 C770,2.0 1590.0,2.0 1590.0,212.0\" fill=\"none\" stroke=\"currentColor\"/>\n",
              "    <text dy=\"1.25em\" style=\"font-size: 0.8em; letter-spacing: 1px\">\n",
              "        <textPath xlink:href=\"#arrow-195120141eb640b3b152f9e0b361ee46-0-10\" class=\"displacy-label\" startOffset=\"50%\" side=\"left\" fill=\"currentColor\" text-anchor=\"middle\">attr</textPath>\n",
              "    </text>\n",
              "    <path class=\"displacy-arrowhead\" d=\"M1590.0,214.0 L1598.0,202.0 1582.0,202.0\" fill=\"currentColor\"/>\n",
              "</g>\n",
              "</svg></span>"
            ]
          },
          "metadata": {}
        }
      ]
    },
    {
      "cell_type": "markdown",
      "source": [
        "Dependency parser explanation"
      ],
      "metadata": {
        "id": "kU6IV_m-asLH"
      }
    },
    {
      "cell_type": "code",
      "source": [
        "for word in nlp(selected_sentence_1):\n",
        "    print(f'{word.text:{12}} {word.pos_:{10}} {word.tag_:{8}} {spacy.explain(word.tag_)}')"
      ],
      "metadata": {
        "colab": {
          "base_uri": "https://localhost:8080/"
        },
        "id": "r_VlCrSCaYsg",
        "outputId": "813d73e2-b733-4a1f-880f-38c2a6e2e41b"
      },
      "execution_count": null,
      "outputs": [
        {
          "output_type": "stream",
          "name": "stdout",
          "text": [
            "The          DET        DT       determiner\n",
            "Bachelor     PROPN      NNP      noun, proper singular\n",
            "2014         NUM        CD       cardinal number\n",
            "Winner       PROPN      NNP      noun, proper singular\n",
            "Spoilers     NOUN       NNS      noun, plural\n",
            "-            PUNCT      :        punctuation mark, colon or ellipsis\n",
            "Is           AUX        VBZ      verb, 3rd person singular present\n",
            "It           PRON       PRP      pronoun, personal\n",
            "Nikki        PROPN      NNP      noun, proper singular\n",
            "Ferrell      PROPN      NNP      noun, proper singular\n",
            "Or           CCONJ      CC       conjunction, coordinating\n",
            "Clare        PROPN      NNP      noun, proper singular\n",
            "Crawley      PROPN      NNP      noun, proper singular\n",
            "?            PUNCT      .        punctuation mark, sentence closer\n"
          ]
        }
      ]
    },
    {
      "cell_type": "code",
      "source": [
        "print(selected_sentence_2)"
      ],
      "metadata": {
        "colab": {
          "base_uri": "https://localhost:8080/"
        },
        "id": "M-IdnVyIZoxV",
        "outputId": "7bf95e4b-55bc-4d6c-e9a0-11950860207a"
      },
      "execution_count": null,
      "outputs": [
        {
          "output_type": "stream",
          "name": "stdout",
          "text": [
            "GLOBAL MARKETS-World stock markets mostly flat, gold edges up on Ukraine  ...\n"
          ]
        }
      ]
    },
    {
      "cell_type": "code",
      "source": [
        "#displacy.render(nlp(selected_sentence_2), style='dep', jupyter=True, options={'distance': 140})"
      ],
      "metadata": {
        "colab": {
          "base_uri": "https://localhost:8080/",
          "height": 319
        },
        "id": "4FmvhfXdWnhj",
        "outputId": "0f3c6883-717c-42ab-b4e7-9af8dcddf4e1"
      },
      "execution_count": null,
      "outputs": [
        {
          "output_type": "display_data",
          "data": {
            "text/plain": [
              "<IPython.core.display.HTML object>"
            ],
            "text/html": [
              "<span class=\"tex2jax_ignore\"><svg xmlns=\"http://www.w3.org/2000/svg\" xmlns:xlink=\"http://www.w3.org/1999/xlink\" xml:lang=\"en\" id=\"cf17ced425d844aeb34dcc1cfc724854-0\" class=\"displacy\" width=\"1870\" height=\"277.0\" direction=\"ltr\" style=\"max-width: none; height: 277.0px; color: #000000; background: #ffffff; font-family: Arial; direction: ltr\">\n",
              "<text class=\"displacy-token\" fill=\"currentColor\" text-anchor=\"middle\" y=\"187.0\">\n",
              "    <tspan class=\"displacy-word\" fill=\"currentColor\" x=\"50\">GLOBAL</tspan>\n",
              "    <tspan class=\"displacy-tag\" dy=\"2em\" fill=\"currentColor\" x=\"50\">PROPN</tspan>\n",
              "</text>\n",
              "\n",
              "<text class=\"displacy-token\" fill=\"currentColor\" text-anchor=\"middle\" y=\"187.0\">\n",
              "    <tspan class=\"displacy-word\" fill=\"currentColor\" x=\"190\">MARKETS-</tspan>\n",
              "    <tspan class=\"displacy-tag\" dy=\"2em\" fill=\"currentColor\" x=\"190\">PROPN</tspan>\n",
              "</text>\n",
              "\n",
              "<text class=\"displacy-token\" fill=\"currentColor\" text-anchor=\"middle\" y=\"187.0\">\n",
              "    <tspan class=\"displacy-word\" fill=\"currentColor\" x=\"330\">World</tspan>\n",
              "    <tspan class=\"displacy-tag\" dy=\"2em\" fill=\"currentColor\" x=\"330\">PROPN</tspan>\n",
              "</text>\n",
              "\n",
              "<text class=\"displacy-token\" fill=\"currentColor\" text-anchor=\"middle\" y=\"187.0\">\n",
              "    <tspan class=\"displacy-word\" fill=\"currentColor\" x=\"470\">stock</tspan>\n",
              "    <tspan class=\"displacy-tag\" dy=\"2em\" fill=\"currentColor\" x=\"470\">NOUN</tspan>\n",
              "</text>\n",
              "\n",
              "<text class=\"displacy-token\" fill=\"currentColor\" text-anchor=\"middle\" y=\"187.0\">\n",
              "    <tspan class=\"displacy-word\" fill=\"currentColor\" x=\"610\">markets</tspan>\n",
              "    <tspan class=\"displacy-tag\" dy=\"2em\" fill=\"currentColor\" x=\"610\">NOUN</tspan>\n",
              "</text>\n",
              "\n",
              "<text class=\"displacy-token\" fill=\"currentColor\" text-anchor=\"middle\" y=\"187.0\">\n",
              "    <tspan class=\"displacy-word\" fill=\"currentColor\" x=\"750\">mostly</tspan>\n",
              "    <tspan class=\"displacy-tag\" dy=\"2em\" fill=\"currentColor\" x=\"750\">ADV</tspan>\n",
              "</text>\n",
              "\n",
              "<text class=\"displacy-token\" fill=\"currentColor\" text-anchor=\"middle\" y=\"187.0\">\n",
              "    <tspan class=\"displacy-word\" fill=\"currentColor\" x=\"890\">flat,</tspan>\n",
              "    <tspan class=\"displacy-tag\" dy=\"2em\" fill=\"currentColor\" x=\"890\">ADJ</tspan>\n",
              "</text>\n",
              "\n",
              "<text class=\"displacy-token\" fill=\"currentColor\" text-anchor=\"middle\" y=\"187.0\">\n",
              "    <tspan class=\"displacy-word\" fill=\"currentColor\" x=\"1030\">gold</tspan>\n",
              "    <tspan class=\"displacy-tag\" dy=\"2em\" fill=\"currentColor\" x=\"1030\">NOUN</tspan>\n",
              "</text>\n",
              "\n",
              "<text class=\"displacy-token\" fill=\"currentColor\" text-anchor=\"middle\" y=\"187.0\">\n",
              "    <tspan class=\"displacy-word\" fill=\"currentColor\" x=\"1170\">edges</tspan>\n",
              "    <tspan class=\"displacy-tag\" dy=\"2em\" fill=\"currentColor\" x=\"1170\">VERB</tspan>\n",
              "</text>\n",
              "\n",
              "<text class=\"displacy-token\" fill=\"currentColor\" text-anchor=\"middle\" y=\"187.0\">\n",
              "    <tspan class=\"displacy-word\" fill=\"currentColor\" x=\"1310\">up</tspan>\n",
              "    <tspan class=\"displacy-tag\" dy=\"2em\" fill=\"currentColor\" x=\"1310\">ADP</tspan>\n",
              "</text>\n",
              "\n",
              "<text class=\"displacy-token\" fill=\"currentColor\" text-anchor=\"middle\" y=\"187.0\">\n",
              "    <tspan class=\"displacy-word\" fill=\"currentColor\" x=\"1450\">on</tspan>\n",
              "    <tspan class=\"displacy-tag\" dy=\"2em\" fill=\"currentColor\" x=\"1450\">ADP</tspan>\n",
              "</text>\n",
              "\n",
              "<text class=\"displacy-token\" fill=\"currentColor\" text-anchor=\"middle\" y=\"187.0\">\n",
              "    <tspan class=\"displacy-word\" fill=\"currentColor\" x=\"1590\">Ukraine</tspan>\n",
              "    <tspan class=\"displacy-tag\" dy=\"2em\" fill=\"currentColor\" x=\"1590\">PROPN</tspan>\n",
              "</text>\n",
              "\n",
              "<text class=\"displacy-token\" fill=\"currentColor\" text-anchor=\"middle\" y=\"187.0\">\n",
              "    <tspan class=\"displacy-word\" fill=\"currentColor\" x=\"1730\"> ...</tspan>\n",
              "    <tspan class=\"displacy-tag\" dy=\"2em\" fill=\"currentColor\" x=\"1730\">SPACE</tspan>\n",
              "</text>\n",
              "\n",
              "<g class=\"displacy-arrow\">\n",
              "    <path class=\"displacy-arc\" id=\"arrow-cf17ced425d844aeb34dcc1cfc724854-0-0\" stroke-width=\"2px\" d=\"M70,142.0 C70,2.0 330.0,2.0 330.0,142.0\" fill=\"none\" stroke=\"currentColor\"/>\n",
              "    <text dy=\"1.25em\" style=\"font-size: 0.8em; letter-spacing: 1px\">\n",
              "        <textPath xlink:href=\"#arrow-cf17ced425d844aeb34dcc1cfc724854-0-0\" class=\"displacy-label\" startOffset=\"50%\" side=\"left\" fill=\"currentColor\" text-anchor=\"middle\">compound</textPath>\n",
              "    </text>\n",
              "    <path class=\"displacy-arrowhead\" d=\"M70,144.0 L62,132.0 78,132.0\" fill=\"currentColor\"/>\n",
              "</g>\n",
              "\n",
              "<g class=\"displacy-arrow\">\n",
              "    <path class=\"displacy-arc\" id=\"arrow-cf17ced425d844aeb34dcc1cfc724854-0-1\" stroke-width=\"2px\" d=\"M210,142.0 C210,72.0 325.0,72.0 325.0,142.0\" fill=\"none\" stroke=\"currentColor\"/>\n",
              "    <text dy=\"1.25em\" style=\"font-size: 0.8em; letter-spacing: 1px\">\n",
              "        <textPath xlink:href=\"#arrow-cf17ced425d844aeb34dcc1cfc724854-0-1\" class=\"displacy-label\" startOffset=\"50%\" side=\"left\" fill=\"currentColor\" text-anchor=\"middle\">compound</textPath>\n",
              "    </text>\n",
              "    <path class=\"displacy-arrowhead\" d=\"M210,144.0 L202,132.0 218,132.0\" fill=\"currentColor\"/>\n",
              "</g>\n",
              "\n",
              "<g class=\"displacy-arrow\">\n",
              "    <path class=\"displacy-arc\" id=\"arrow-cf17ced425d844aeb34dcc1cfc724854-0-2\" stroke-width=\"2px\" d=\"M350,142.0 C350,2.0 610.0,2.0 610.0,142.0\" fill=\"none\" stroke=\"currentColor\"/>\n",
              "    <text dy=\"1.25em\" style=\"font-size: 0.8em; letter-spacing: 1px\">\n",
              "        <textPath xlink:href=\"#arrow-cf17ced425d844aeb34dcc1cfc724854-0-2\" class=\"displacy-label\" startOffset=\"50%\" side=\"left\" fill=\"currentColor\" text-anchor=\"middle\">compound</textPath>\n",
              "    </text>\n",
              "    <path class=\"displacy-arrowhead\" d=\"M350,144.0 L342,132.0 358,132.0\" fill=\"currentColor\"/>\n",
              "</g>\n",
              "\n",
              "<g class=\"displacy-arrow\">\n",
              "    <path class=\"displacy-arc\" id=\"arrow-cf17ced425d844aeb34dcc1cfc724854-0-3\" stroke-width=\"2px\" d=\"M490,142.0 C490,72.0 605.0,72.0 605.0,142.0\" fill=\"none\" stroke=\"currentColor\"/>\n",
              "    <text dy=\"1.25em\" style=\"font-size: 0.8em; letter-spacing: 1px\">\n",
              "        <textPath xlink:href=\"#arrow-cf17ced425d844aeb34dcc1cfc724854-0-3\" class=\"displacy-label\" startOffset=\"50%\" side=\"left\" fill=\"currentColor\" text-anchor=\"middle\">compound</textPath>\n",
              "    </text>\n",
              "    <path class=\"displacy-arrowhead\" d=\"M490,144.0 L482,132.0 498,132.0\" fill=\"currentColor\"/>\n",
              "</g>\n",
              "\n",
              "<g class=\"displacy-arrow\">\n",
              "    <path class=\"displacy-arc\" id=\"arrow-cf17ced425d844aeb34dcc1cfc724854-0-4\" stroke-width=\"2px\" d=\"M630,142.0 C630,2.0 890.0,2.0 890.0,142.0\" fill=\"none\" stroke=\"currentColor\"/>\n",
              "    <text dy=\"1.25em\" style=\"font-size: 0.8em; letter-spacing: 1px\">\n",
              "        <textPath xlink:href=\"#arrow-cf17ced425d844aeb34dcc1cfc724854-0-4\" class=\"displacy-label\" startOffset=\"50%\" side=\"left\" fill=\"currentColor\" text-anchor=\"middle\">nsubj</textPath>\n",
              "    </text>\n",
              "    <path class=\"displacy-arrowhead\" d=\"M630,144.0 L622,132.0 638,132.0\" fill=\"currentColor\"/>\n",
              "</g>\n",
              "\n",
              "<g class=\"displacy-arrow\">\n",
              "    <path class=\"displacy-arc\" id=\"arrow-cf17ced425d844aeb34dcc1cfc724854-0-5\" stroke-width=\"2px\" d=\"M770,142.0 C770,72.0 885.0,72.0 885.0,142.0\" fill=\"none\" stroke=\"currentColor\"/>\n",
              "    <text dy=\"1.25em\" style=\"font-size: 0.8em; letter-spacing: 1px\">\n",
              "        <textPath xlink:href=\"#arrow-cf17ced425d844aeb34dcc1cfc724854-0-5\" class=\"displacy-label\" startOffset=\"50%\" side=\"left\" fill=\"currentColor\" text-anchor=\"middle\">advmod</textPath>\n",
              "    </text>\n",
              "    <path class=\"displacy-arrowhead\" d=\"M770,144.0 L762,132.0 778,132.0\" fill=\"currentColor\"/>\n",
              "</g>\n",
              "\n",
              "<g class=\"displacy-arrow\">\n",
              "    <path class=\"displacy-arc\" id=\"arrow-cf17ced425d844aeb34dcc1cfc724854-0-6\" stroke-width=\"2px\" d=\"M910,142.0 C910,2.0 1170.0,2.0 1170.0,142.0\" fill=\"none\" stroke=\"currentColor\"/>\n",
              "    <text dy=\"1.25em\" style=\"font-size: 0.8em; letter-spacing: 1px\">\n",
              "        <textPath xlink:href=\"#arrow-cf17ced425d844aeb34dcc1cfc724854-0-6\" class=\"displacy-label\" startOffset=\"50%\" side=\"left\" fill=\"currentColor\" text-anchor=\"middle\">amod</textPath>\n",
              "    </text>\n",
              "    <path class=\"displacy-arrowhead\" d=\"M910,144.0 L902,132.0 918,132.0\" fill=\"currentColor\"/>\n",
              "</g>\n",
              "\n",
              "<g class=\"displacy-arrow\">\n",
              "    <path class=\"displacy-arc\" id=\"arrow-cf17ced425d844aeb34dcc1cfc724854-0-7\" stroke-width=\"2px\" d=\"M1050,142.0 C1050,72.0 1165.0,72.0 1165.0,142.0\" fill=\"none\" stroke=\"currentColor\"/>\n",
              "    <text dy=\"1.25em\" style=\"font-size: 0.8em; letter-spacing: 1px\">\n",
              "        <textPath xlink:href=\"#arrow-cf17ced425d844aeb34dcc1cfc724854-0-7\" class=\"displacy-label\" startOffset=\"50%\" side=\"left\" fill=\"currentColor\" text-anchor=\"middle\">nsubj</textPath>\n",
              "    </text>\n",
              "    <path class=\"displacy-arrowhead\" d=\"M1050,144.0 L1042,132.0 1058,132.0\" fill=\"currentColor\"/>\n",
              "</g>\n",
              "\n",
              "<g class=\"displacy-arrow\">\n",
              "    <path class=\"displacy-arc\" id=\"arrow-cf17ced425d844aeb34dcc1cfc724854-0-8\" stroke-width=\"2px\" d=\"M1190,142.0 C1190,72.0 1305.0,72.0 1305.0,142.0\" fill=\"none\" stroke=\"currentColor\"/>\n",
              "    <text dy=\"1.25em\" style=\"font-size: 0.8em; letter-spacing: 1px\">\n",
              "        <textPath xlink:href=\"#arrow-cf17ced425d844aeb34dcc1cfc724854-0-8\" class=\"displacy-label\" startOffset=\"50%\" side=\"left\" fill=\"currentColor\" text-anchor=\"middle\">prt</textPath>\n",
              "    </text>\n",
              "    <path class=\"displacy-arrowhead\" d=\"M1305.0,144.0 L1313.0,132.0 1297.0,132.0\" fill=\"currentColor\"/>\n",
              "</g>\n",
              "\n",
              "<g class=\"displacy-arrow\">\n",
              "    <path class=\"displacy-arc\" id=\"arrow-cf17ced425d844aeb34dcc1cfc724854-0-9\" stroke-width=\"2px\" d=\"M1190,142.0 C1190,2.0 1450.0,2.0 1450.0,142.0\" fill=\"none\" stroke=\"currentColor\"/>\n",
              "    <text dy=\"1.25em\" style=\"font-size: 0.8em; letter-spacing: 1px\">\n",
              "        <textPath xlink:href=\"#arrow-cf17ced425d844aeb34dcc1cfc724854-0-9\" class=\"displacy-label\" startOffset=\"50%\" side=\"left\" fill=\"currentColor\" text-anchor=\"middle\">prep</textPath>\n",
              "    </text>\n",
              "    <path class=\"displacy-arrowhead\" d=\"M1450.0,144.0 L1458.0,132.0 1442.0,132.0\" fill=\"currentColor\"/>\n",
              "</g>\n",
              "\n",
              "<g class=\"displacy-arrow\">\n",
              "    <path class=\"displacy-arc\" id=\"arrow-cf17ced425d844aeb34dcc1cfc724854-0-10\" stroke-width=\"2px\" d=\"M1470,142.0 C1470,72.0 1585.0,72.0 1585.0,142.0\" fill=\"none\" stroke=\"currentColor\"/>\n",
              "    <text dy=\"1.25em\" style=\"font-size: 0.8em; letter-spacing: 1px\">\n",
              "        <textPath xlink:href=\"#arrow-cf17ced425d844aeb34dcc1cfc724854-0-10\" class=\"displacy-label\" startOffset=\"50%\" side=\"left\" fill=\"currentColor\" text-anchor=\"middle\">pobj</textPath>\n",
              "    </text>\n",
              "    <path class=\"displacy-arrowhead\" d=\"M1585.0,144.0 L1593.0,132.0 1577.0,132.0\" fill=\"currentColor\"/>\n",
              "</g>\n",
              "\n",
              "<g class=\"displacy-arrow\">\n",
              "    <path class=\"displacy-arc\" id=\"arrow-cf17ced425d844aeb34dcc1cfc724854-0-11\" stroke-width=\"2px\" d=\"M1610,142.0 C1610,72.0 1725.0,72.0 1725.0,142.0\" fill=\"none\" stroke=\"currentColor\"/>\n",
              "    <text dy=\"1.25em\" style=\"font-size: 0.8em; letter-spacing: 1px\">\n",
              "        <textPath xlink:href=\"#arrow-cf17ced425d844aeb34dcc1cfc724854-0-11\" class=\"displacy-label\" startOffset=\"50%\" side=\"left\" fill=\"currentColor\" text-anchor=\"middle\">dep</textPath>\n",
              "    </text>\n",
              "    <path class=\"displacy-arrowhead\" d=\"M1725.0,144.0 L1733.0,132.0 1717.0,132.0\" fill=\"currentColor\"/>\n",
              "</g>\n",
              "</svg></span>"
            ]
          },
          "metadata": {}
        }
      ]
    },
    {
      "cell_type": "code",
      "source": [
        "for word in nlp(selected_sentence_2):\n",
        "    print(f'{word.text:{12}} {word.pos_:{10}} {word.tag_:{8}} {spacy.explain(word.tag_)}')"
      ],
      "metadata": {
        "colab": {
          "base_uri": "https://localhost:8080/"
        },
        "id": "6h8XyPgRYDBU",
        "outputId": "371193b3-e5a0-43da-8596-0dd2f035e045"
      },
      "execution_count": null,
      "outputs": [
        {
          "output_type": "stream",
          "name": "stdout",
          "text": [
            "GLOBAL       PROPN      NNP      noun, proper singular\n",
            "MARKETS      PROPN      NNP      noun, proper singular\n",
            "-            PUNCT      HYPH     punctuation mark, hyphen\n",
            "World        PROPN      NNP      noun, proper singular\n",
            "stock        NOUN       NN       noun, singular or mass\n",
            "markets      NOUN       NNS      noun, plural\n",
            "mostly       ADV        RB       adverb\n",
            "flat         ADJ        JJ       adjective (English), other noun-modifier (Chinese)\n",
            ",            PUNCT      ,        punctuation mark, comma\n",
            "gold         NOUN       NN       noun, singular or mass\n",
            "edges        VERB       VBZ      verb, 3rd person singular present\n",
            "up           ADP        RP       adverb, particle\n",
            "on           ADP        IN       conjunction, subordinating or preposition\n",
            "Ukraine      PROPN      NNP      noun, proper singular\n",
            "             SPACE      _SP      whitespace\n",
            "...          PUNCT      .        punctuation mark, sentence closer\n"
          ]
        }
      ]
    },
    {
      "cell_type": "code",
      "source": [],
      "metadata": {
        "id": "IPQDxsZla0yt"
      },
      "execution_count": null,
      "outputs": []
    }
  ]
}